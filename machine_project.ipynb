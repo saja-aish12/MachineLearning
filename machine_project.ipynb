{
  "nbformat": 4,
  "nbformat_minor": 0,
  "metadata": {
    "colab": {
      "name": "machine_project.ipynb",
      "provenance": [],
      "collapsed_sections": [],
      "include_colab_link": true
    },
    "kernelspec": {
      "display_name": "Python 3",
      "name": "python3"
    },
    "language_info": {
      "name": "python"
    }
  },
  "cells": [
    {
      "cell_type": "markdown",
      "metadata": {
        "id": "view-in-github",
        "colab_type": "text"
      },
      "source": [
        "<a href=\"https://colab.research.google.com/github/saja-aish12/MachineLearning/blob/master/machine_project.ipynb\" target=\"_parent\"><img src=\"https://colab.research.google.com/assets/colab-badge.svg\" alt=\"Open In Colab\"/></a>"
      ]
    },
    {
      "cell_type": "code",
      "metadata": {
        "id": "fp7fQ3dxk1TQ"
      },
      "source": [
        "import pandas as pd\n",
        "import seaborn as sns\n",
        "sns.set(color_codes=True)\n",
        "import sklearn.linear_model\n",
        "\n",
        "import numpy as np\n",
        "import pandas as pd\n",
        "import matplotlib.pyplot as plt\n",
        "\n",
        "from mpl_toolkits.mplot3d import Axes3D\n",
        "from sklearn.datasets import load_breast_cancer\n",
        "from sklearn.decomposition import PCA\n",
        "from sklearn import datasets\n",
        "from sklearn.preprocessing import StandardScaler\n",
        "\n",
        "from sklearn.model_selection import train_test_split\n",
        "from sklearn import datasets\n",
        "from sklearn.metrics import f1_score, classification_report, plot_confusion_matrix\n",
        "# %matplotlib notebook\n"
      ],
      "execution_count": 72,
      "outputs": []
    },
    {
      "cell_type": "code",
      "metadata": {
        "id": "8BbQvsvAk5ej"
      },
      "source": [
        "data = pd.read_csv('WB.csv')"
      ],
      "execution_count": 2,
      "outputs": []
    },
    {
      "cell_type": "code",
      "metadata": {
        "colab": {
          "base_uri": "https://localhost:8080/",
          "height": 295
        },
        "id": "MFDrGK2_k7bJ",
        "outputId": "639d1024-b6fd-4951-aa98-8bf1b6363a56"
      },
      "source": [
        "data.head()"
      ],
      "execution_count": 3,
      "outputs": [
        {
          "output_type": "execute_result",
          "data": {
            "text/html": [
              "<div>\n",
              "<style scoped>\n",
              "    .dataframe tbody tr th:only-of-type {\n",
              "        vertical-align: middle;\n",
              "    }\n",
              "\n",
              "    .dataframe tbody tr th {\n",
              "        vertical-align: top;\n",
              "    }\n",
              "\n",
              "    .dataframe thead th {\n",
              "        text-align: right;\n",
              "    }\n",
              "</style>\n",
              "<table border=\"1\" class=\"dataframe\">\n",
              "  <thead>\n",
              "    <tr style=\"text-align: right;\">\n",
              "      <th></th>\n",
              "      <th>FID</th>\n",
              "      <th>OBJECTID</th>\n",
              "      <th>NAMEAR</th>\n",
              "      <th>NAMEEN</th>\n",
              "      <th>CORONA__Ca</th>\n",
              "      <th>Population</th>\n",
              "      <th>PopDensity</th>\n",
              "      <th>AgingRatio</th>\n",
              "      <th>ServicesHi</th>\n",
              "      <th>HealthServ</th>\n",
              "      <th>Landuse</th>\n",
              "      <th>Commercial</th>\n",
              "      <th>RoadDensit</th>\n",
              "      <th>GreenAreas</th>\n",
              "      <th>Open_spave</th>\n",
              "    </tr>\n",
              "  </thead>\n",
              "  <tbody>\n",
              "    <tr>\n",
              "      <th>0</th>\n",
              "      <td>0</td>\n",
              "      <td>12</td>\n",
              "      <td>??????</td>\n",
              "      <td>Hebron (Al Khalil)</td>\n",
              "      <td>7299</td>\n",
              "      <td>15988</td>\n",
              "      <td>5.92</td>\n",
              "      <td>0.02000</td>\n",
              "      <td>5</td>\n",
              "      <td>100</td>\n",
              "      <td>2.7861</td>\n",
              "      <td>0.001750</td>\n",
              "      <td>0.04670</td>\n",
              "      <td>0.080100</td>\n",
              "      <td>0.8651</td>\n",
              "    </tr>\n",
              "    <tr>\n",
              "      <th>1</th>\n",
              "      <td>1</td>\n",
              "      <td>15</td>\n",
              "      <td>??? ?????</td>\n",
              "      <td>Deir Istiya</td>\n",
              "      <td>139</td>\n",
              "      <td>3930</td>\n",
              "      <td>4.20</td>\n",
              "      <td>0.04700</td>\n",
              "      <td>1</td>\n",
              "      <td>8</td>\n",
              "      <td>2.3300</td>\n",
              "      <td>0.004900</td>\n",
              "      <td>0.16400</td>\n",
              "      <td>0.000000</td>\n",
              "      <td>0.8800</td>\n",
              "    </tr>\n",
              "    <tr>\n",
              "      <th>2</th>\n",
              "      <td>2</td>\n",
              "      <td>21</td>\n",
              "      <td>????</td>\n",
              "      <td>Battir</td>\n",
              "      <td>63</td>\n",
              "      <td>4966</td>\n",
              "      <td>3.00</td>\n",
              "      <td>0.05000</td>\n",
              "      <td>1</td>\n",
              "      <td>12</td>\n",
              "      <td>2.8200</td>\n",
              "      <td>0.000000</td>\n",
              "      <td>0.03200</td>\n",
              "      <td>0.000000</td>\n",
              "      <td>0.9100</td>\n",
              "    </tr>\n",
              "    <tr>\n",
              "      <th>3</th>\n",
              "      <td>3</td>\n",
              "      <td>23</td>\n",
              "      <td>?????</td>\n",
              "      <td>Surif</td>\n",
              "      <td>181</td>\n",
              "      <td>18534</td>\n",
              "      <td>3.70</td>\n",
              "      <td>0.02579</td>\n",
              "      <td>1</td>\n",
              "      <td>30</td>\n",
              "      <td>2.6985</td>\n",
              "      <td>0.002074</td>\n",
              "      <td>0.10506</td>\n",
              "      <td>0.002709</td>\n",
              "      <td>0.9201</td>\n",
              "    </tr>\n",
              "    <tr>\n",
              "      <th>4</th>\n",
              "      <td>4</td>\n",
              "      <td>24</td>\n",
              "      <td>??? ???</td>\n",
              "      <td>Beit Ummar</td>\n",
              "      <td>418</td>\n",
              "      <td>18202</td>\n",
              "      <td>2.00</td>\n",
              "      <td>0.03300</td>\n",
              "      <td>2</td>\n",
              "      <td>34</td>\n",
              "      <td>2.3700</td>\n",
              "      <td>0.003000</td>\n",
              "      <td>0.07800</td>\n",
              "      <td>0.162000</td>\n",
              "      <td>0.8940</td>\n",
              "    </tr>\n",
              "  </tbody>\n",
              "</table>\n",
              "</div>"
            ],
            "text/plain": [
              "   FID  OBJECTID     NAMEAR  ... RoadDensit  GreenAreas  Open_spave\n",
              "0    0        12     ??????  ...    0.04670    0.080100      0.8651\n",
              "1    1        15  ??? ?????  ...    0.16400    0.000000      0.8800\n",
              "2    2        21       ????  ...    0.03200    0.000000      0.9100\n",
              "3    3        23      ?????  ...    0.10506    0.002709      0.9201\n",
              "4    4        24    ??? ???  ...    0.07800    0.162000      0.8940\n",
              "\n",
              "[5 rows x 15 columns]"
            ]
          },
          "metadata": {},
          "execution_count": 3
        }
      ]
    },
    {
      "cell_type": "code",
      "metadata": {
        "id": "tII5SmBAapN5"
      },
      "source": [
        "from sklearn.preprocessing import StandardScaler\n",
        "X = data[['Population','PopDensity','AgingRatio','ServicesHi','HealthServ','Landuse','Commercial','RoadDensit','GreenAreas','Open_spave']]\n",
        "y = data['CORONA__Ca']\n",
        "X_train, X_test, y_train, y_test = train_test_split(X,y,test_size=0.2, random_state=10) \n",
        "\n",
        "#x = pd.DataFrame(x)"
      ],
      "execution_count": 141,
      "outputs": []
    },
    {
      "cell_type": "code",
      "metadata": {
        "colab": {
          "base_uri": "https://localhost:8080/",
          "height": 206
        },
        "id": "283atnHfxqgY",
        "outputId": "9effd07d-5a48-456c-c807-c54c181c124b"
      },
      "source": [
        "from sklearn.decomposition import PCA\n",
        "\n",
        "pca = PCA(n_components=3)\n",
        "\n",
        "principalComponents = pca.fit_transform(X_train)\n",
        "\n",
        "principalDf = pd.DataFrame(data = principalComponents\n",
        "             , columns = ['principal component 1', 'principal component 2','principal component 3'])\n",
        "\n",
        "principalComponents = pd.DataFrame(principalComponents)#\n",
        "principalComponents.head()\n",
        "\n",
        "#x_pca = pca.fit_transform(x)\n",
        "#x_pca = pd.DataFrame(x_pca)\n",
        "#x_pca.head()"
      ],
      "execution_count": 142,
      "outputs": [
        {
          "output_type": "execute_result",
          "data": {
            "text/html": [
              "<div>\n",
              "<style scoped>\n",
              "    .dataframe tbody tr th:only-of-type {\n",
              "        vertical-align: middle;\n",
              "    }\n",
              "\n",
              "    .dataframe tbody tr th {\n",
              "        vertical-align: top;\n",
              "    }\n",
              "\n",
              "    .dataframe thead th {\n",
              "        text-align: right;\n",
              "    }\n",
              "</style>\n",
              "<table border=\"1\" class=\"dataframe\">\n",
              "  <thead>\n",
              "    <tr style=\"text-align: right;\">\n",
              "      <th></th>\n",
              "      <th>0</th>\n",
              "      <th>1</th>\n",
              "      <th>2</th>\n",
              "    </tr>\n",
              "  </thead>\n",
              "  <tbody>\n",
              "    <tr>\n",
              "      <th>0</th>\n",
              "      <td>-5705.137255</td>\n",
              "      <td>-43.094877</td>\n",
              "      <td>0.472017</td>\n",
              "    </tr>\n",
              "    <tr>\n",
              "      <th>1</th>\n",
              "      <td>9176.808543</td>\n",
              "      <td>-7.667394</td>\n",
              "      <td>-20.917780</td>\n",
              "    </tr>\n",
              "    <tr>\n",
              "      <th>2</th>\n",
              "      <td>3217.850324</td>\n",
              "      <td>-25.194410</td>\n",
              "      <td>-2.355285</td>\n",
              "    </tr>\n",
              "    <tr>\n",
              "      <th>3</th>\n",
              "      <td>6494.851957</td>\n",
              "      <td>-18.606996</td>\n",
              "      <td>0.934261</td>\n",
              "    </tr>\n",
              "    <tr>\n",
              "      <th>4</th>\n",
              "      <td>-1826.151183</td>\n",
              "      <td>-30.615117</td>\n",
              "      <td>-1.102480</td>\n",
              "    </tr>\n",
              "  </tbody>\n",
              "</table>\n",
              "</div>"
            ],
            "text/plain": [
              "             0          1          2\n",
              "0 -5705.137255 -43.094877   0.472017\n",
              "1  9176.808543  -7.667394 -20.917780\n",
              "2  3217.850324 -25.194410  -2.355285\n",
              "3  6494.851957 -18.606996   0.934261\n",
              "4 -1826.151183 -30.615117  -1.102480"
            ]
          },
          "metadata": {},
          "execution_count": 142
        }
      ]
    },
    {
      "cell_type": "code",
      "metadata": {
        "colab": {
          "base_uri": "https://localhost:8080/",
          "height": 206
        },
        "id": "iOxiPzq4VyFi",
        "outputId": "07a752f8-49c2-481c-ba1b-ae3ccdeca9d9"
      },
      "source": [
        "finalDf = pd.concat([principalDf,y_train], axis = 1)\n",
        "finalDf = pd.DataFrame(finalDf)#\n",
        "finalDf.head()#"
      ],
      "execution_count": 143,
      "outputs": [
        {
          "output_type": "execute_result",
          "data": {
            "text/html": [
              "<div>\n",
              "<style scoped>\n",
              "    .dataframe tbody tr th:only-of-type {\n",
              "        vertical-align: middle;\n",
              "    }\n",
              "\n",
              "    .dataframe tbody tr th {\n",
              "        vertical-align: top;\n",
              "    }\n",
              "\n",
              "    .dataframe thead th {\n",
              "        text-align: right;\n",
              "    }\n",
              "</style>\n",
              "<table border=\"1\" class=\"dataframe\">\n",
              "  <thead>\n",
              "    <tr style=\"text-align: right;\">\n",
              "      <th></th>\n",
              "      <th>principal component 1</th>\n",
              "      <th>principal component 2</th>\n",
              "      <th>principal component 3</th>\n",
              "      <th>CORONA__Ca</th>\n",
              "    </tr>\n",
              "  </thead>\n",
              "  <tbody>\n",
              "    <tr>\n",
              "      <th>0</th>\n",
              "      <td>-5705.137255</td>\n",
              "      <td>-43.094877</td>\n",
              "      <td>0.472017</td>\n",
              "      <td>7299.0</td>\n",
              "    </tr>\n",
              "    <tr>\n",
              "      <th>1</th>\n",
              "      <td>9176.808543</td>\n",
              "      <td>-7.667394</td>\n",
              "      <td>-20.917780</td>\n",
              "      <td>NaN</td>\n",
              "    </tr>\n",
              "    <tr>\n",
              "      <th>2</th>\n",
              "      <td>3217.850324</td>\n",
              "      <td>-25.194410</td>\n",
              "      <td>-2.355285</td>\n",
              "      <td>NaN</td>\n",
              "    </tr>\n",
              "    <tr>\n",
              "      <th>3</th>\n",
              "      <td>6494.851957</td>\n",
              "      <td>-18.606996</td>\n",
              "      <td>0.934261</td>\n",
              "      <td>181.0</td>\n",
              "    </tr>\n",
              "    <tr>\n",
              "      <th>4</th>\n",
              "      <td>-1826.151183</td>\n",
              "      <td>-30.615117</td>\n",
              "      <td>-1.102480</td>\n",
              "      <td>418.0</td>\n",
              "    </tr>\n",
              "  </tbody>\n",
              "</table>\n",
              "</div>"
            ],
            "text/plain": [
              "   principal component 1  ...  CORONA__Ca\n",
              "0           -5705.137255  ...      7299.0\n",
              "1            9176.808543  ...         NaN\n",
              "2            3217.850324  ...         NaN\n",
              "3            6494.851957  ...       181.0\n",
              "4           -1826.151183  ...       418.0\n",
              "\n",
              "[5 rows x 4 columns]"
            ]
          },
          "metadata": {},
          "execution_count": 143
        }
      ]
    },
    {
      "cell_type": "code",
      "metadata": {
        "colab": {
          "base_uri": "https://localhost:8080/",
          "height": 254
        },
        "id": "bnSJZqOE7Bqb",
        "outputId": "8a552148-2a94-40b9-c38d-c22c509748ae"
      },
      "source": [
        "ax = plt.axes(projection='3d')\n",
        "\n",
        "# Data for three-dimensional scattered points\n",
        "xdata = finalDf['principal component 1']\n",
        "ydata = finalDf['principal component 2']\n",
        "zdata = finalDf['principal component 3']\n",
        "#ax.scatter3D(xdata, ydata, zdata)\n",
        "scatter_plot = ax.scatter3D(xdata, ydata, zdata,c=finalDf['CORONA__Ca'])\n",
        "plt.colorbar(scatter_plot)\n",
        "plt.show()"
      ],
      "execution_count": 144,
      "outputs": [
        {
          "output_type": "display_data",
          "data": {
            "image/png": "[encoded data removed]",
            "text/plain": [
              "<Figure size 432x288 with 2 Axes>"
            ]
          },
          "metadata": {}
        }
      ]
    },
    {
      "cell_type": "code",
      "metadata": {
        "colab": {
          "base_uri": "https://localhost:8080/"
        },
        "id": "D3iVzSjCkRrf",
        "outputId": "ba9d8a6b-934d-4046-d696-147c53140829"
      },
      "source": [
        "from sklearn.linear_model import LinearRegression\n",
        "clf = LinearRegression()\n",
        "clf.fit(X_train, y_train)"
      ],
      "execution_count": 145,
      "outputs": [
        {
          "output_type": "execute_result",
          "data": {
            "text/plain": [
              "LinearRegression()"
            ]
          },
          "metadata": {},
          "execution_count": 145
        }
      ]
    },
    {
      "cell_type": "code",
      "metadata": {
        "id": "J0G2PscIosLT"
      },
      "source": [
        "#train_f1 = []\n",
        "#test_f1 = []\n",
        "#from sklearn.neighbors import KNeighborsClassifier\n",
        "#knn = KNeighborsClassifier()\n",
        "#knn.fit(X_train, y_train)\n",
        "#y_pred_train = knn.predict(X_train)\n",
        "#y_pred_test = knn.predict(X_test)\n",
        "#train_f1.append(f1_score(y_train, y_pred_train))\n",
        "#test_f1.append(f1_score(y_test, y_pred_test))\n"
      ],
      "execution_count": 113,
      "outputs": []
    },
    {
      "cell_type": "code",
      "metadata": {
        "id": "qz_Mr9FOkfjl"
      },
      "source": [
        "X_test"
      ],
      "execution_count": null,
      "outputs": []
    },
    {
      "cell_type": "code",
      "metadata": {
        "id": "cukNKMFikeOm"
      },
      "source": [
        "clf.predict(X_test)"
      ],
      "execution_count": null,
      "outputs": []
    },
    {
      "cell_type": "code",
      "metadata": {
        "id": "pLd7v5jWk9Yj"
      },
      "source": [
        "y_test"
      ],
      "execution_count": null,
      "outputs": []
    },
    {
      "cell_type": "code",
      "metadata": {
        "colab": {
          "base_uri": "https://localhost:8080/"
        },
        "id": "IDVgcv8Uk-CF",
        "outputId": "cee47940-98b5-4622-c4f1-eea9ec18a571"
      },
      "source": [
        "clf.score(X_test, y_test)"
      ],
      "execution_count": 147,
      "outputs": [
        {
          "output_type": "execute_result",
          "data": {
            "text/plain": [
              "0.584225626010759"
            ]
          },
          "metadata": {},
          "execution_count": 147
        }
      ]
    },
    {
      "cell_type": "code",
      "metadata": {
        "id": "EmT5tBC4usi-"
      },
      "source": [
        "#####################################PART_2###########################################################"
      ],
      "execution_count": null,
      "outputs": []
    },
    {
      "cell_type": "code",
      "metadata": {
        "id": "7vYXHa7uw0kh"
      },
      "source": [
        "scaler = StandardScaler()\n",
        "X_train = scaler.fit_transform(X_train)\n",
        "X_test = scaler.transform(X_test)"
      ],
      "execution_count": 148,
      "outputs": []
    },
    {
      "cell_type": "code",
      "metadata": {
        "id": "CQkp9Jvpk87a"
      },
      "source": [
        "sns.scatterplot( data['Population'],data['CORONA__Ca'],data['PopDensity'],data['AgingRatio'],data['ServicesHi'],data['HealthServ'])"
      ],
      "execution_count": null,
      "outputs": []
    },
    {
      "cell_type": "code",
      "metadata": {
        "id": "vv3_jvSJl9db"
      },
      "source": [
        "sns.scatterplot(data['CORONA__Ca'],data['Population'])"
      ],
      "execution_count": null,
      "outputs": []
    },
    {
      "cell_type": "code",
      "metadata": {
        "id": "jJ97-jz9mIfs"
      },
      "source": [
        "sns.scatterplot(data['CORONA__Ca'],data['PopDensity'])"
      ],
      "execution_count": null,
      "outputs": []
    },
    {
      "cell_type": "code",
      "metadata": {
        "id": "7tgjcEsxmimS"
      },
      "source": [
        "sns.scatterplot(data['CORONA__Ca'],data['AgingRatio'])"
      ],
      "execution_count": null,
      "outputs": []
    },
    {
      "cell_type": "code",
      "metadata": {
        "id": "-a_U61zrmpe_"
      },
      "source": [
        "sns.scatterplot(data['CORONA__Ca'],data['ServicesHi'])"
      ],
      "execution_count": null,
      "outputs": []
    },
    {
      "cell_type": "code",
      "metadata": {
        "id": "9J7cjQiGmxJa"
      },
      "source": [
        "sns.scatterplot(data['CORONA__Ca'],data['HealthServ'])"
      ],
      "execution_count": null,
      "outputs": []
    },
    {
      "cell_type": "code",
      "metadata": {
        "colab": {
          "base_uri": "https://localhost:8080/",
          "height": 247
        },
        "id": "-kkja8gn24jK",
        "outputId": "6f4b0b37-2c1f-4997-ca6b-9c76213cfcd3"
      },
      "source": [
        "# Code source: Gaël Varoquaux\n",
        "# License: BSD 3 clause\n",
        "\n",
        "import numpy as np\n",
        "import matplotlib.pyplot as plt\n",
        "from mpl_toolkits.mplot3d import Axes3D\n",
        "\n",
        "\n",
        "from sklearn import decomposition\n",
        "from sklearn import datasets\n",
        "\n",
        "np.random.seed(5)\n",
        "\n",
        "iris = datasets.load_iris()\n",
        "X = iris.data\n",
        "y = iris.target\n",
        "\n",
        "fig = plt.figure(1, figsize=(4, 3))\n",
        "plt.clf()\n",
        "ax = Axes3D(fig, rect=[0, 0, 0.95, 1], elev=48, azim=134)\n",
        "\n",
        "plt.cla()\n",
        "pca = decomposition.PCA(n_components=3)\n",
        "pca.fit(X)\n",
        "X = pca.transform(X)\n",
        "\n",
        "\n",
        "\n",
        "for name, label in [(\"Setosa\", 0), (\"Versicolour\", 1), (\"Virginica\", 2)]:\n",
        "    ax.text3D(\n",
        "        X[y == label, 0].mean(),\n",
        "        X[y == label, 1].mean() + 1.5,\n",
        "        X[y == label, 2].mean(),\n",
        "        name,\n",
        "        horizontalalignment=\"center\",\n",
        "        bbox=dict(alpha=0.5, edgecolor=\"w\", facecolor=\"w\"),\n",
        "    )\n",
        "# Reorder the labels to have colors matching the cluster results\n",
        "y = np.choose(y, [1, 2, 0]).astype(float)\n",
        "ax.scatter(X[:, 0], X[:, 1], X[:, 2], c=y, cmap=plt.cm.nipy_spectral, edgecolor=\"k\")\n",
        "\n",
        "ax.w_xaxis.set_ticklabels([])\n",
        "ax.w_yaxis.set_ticklabels([])\n",
        "ax.w_zaxis.set_ticklabels([])\n",
        "\n",
        "plt.show()"
      ],
      "execution_count": null,
      "outputs": [
        {
          "output_type": "display_data",
          "data": {
            "image/png": "[encoded data removed]",
            "text/plain": [
              "<Figure size 288x216 with 1 Axes>"
            ]
          },
          "metadata": {}
        }
      ]
    }
  ]
}