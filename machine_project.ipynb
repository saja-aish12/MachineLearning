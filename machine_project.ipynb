{
  "nbformat": 4,
  "nbformat_minor": 0,
  "metadata": {
    "colab": {
      "name": "machine_project.ipynb",
      "provenance": [],
      "collapsed_sections": [],
      "include_colab_link": true
    },
    "kernelspec": {
      "display_name": "Python 3",
      "name": "python3"
    },
    "language_info": {
      "name": "python"
    }
  },
  "cells": [
    {
      "cell_type": "markdown",
      "metadata": {
        "id": "view-in-github",
        "colab_type": "text"
      },
      "source": [
        "<a href=\"https://colab.research.google.com/github/saja-aish12/MachineLearningProject/blob/master/machine_project.ipynb\" target=\"_parent\"><img src=\"https://colab.research.google.com/assets/colab-badge.svg\" alt=\"Open In Colab\"/></a>"
      ]
    },
    {
      "cell_type": "code",
      "metadata": {
        "id": "fp7fQ3dxk1TQ"
      },
      "source": [
        "import pandas as pd\n",
        "import seaborn as sns\n",
        "sns.set(color_codes=True)\n",
        "import sklearn.linear_model\n",
        "\n",
        "import numpy as np\n",
        "import pandas as pd\n",
        "import matplotlib.pyplot as plt\n",
        "\n",
        "from mpl_toolkits.mplot3d import Axes3D\n",
        "from sklearn.datasets import load_breast_cancer\n",
        "from sklearn.decomposition import PCA\n",
        "from sklearn import datasets\n",
        "from sklearn.preprocessing import StandardScaler\n",
        "\n",
        "from sklearn.model_selection import train_test_split\n",
        "from sklearn import datasets\n",
        "from sklearn.metrics import f1_score, classification_report, plot_confusion_matrix\n",
        "# %matplotlib notebook\n"
      ],
      "execution_count": 1540,
      "outputs": []
    },
    {
      "cell_type": "code",
      "metadata": {
        "id": "8BbQvsvAk5ej"
      },
      "source": [
        "data = pd.read_csv('WB.csv')"
      ],
      "execution_count": 1541,
      "outputs": []
    },
    {
      "cell_type": "code",
      "metadata": {
        "colab": {
          "base_uri": "https://localhost:8080/",
          "height": 295
        },
        "id": "MFDrGK2_k7bJ",
        "outputId": "1d0f1d7a-437f-46af-f334-91eacdd2468a"
      },
      "source": [
        "data.head()"
      ],
      "execution_count": 1542,
      "outputs": [
        {
          "output_type": "execute_result",
          "data": {
            "text/html": [
              "<div>\n",
              "<style scoped>\n",
              "    .dataframe tbody tr th:only-of-type {\n",
              "        vertical-align: middle;\n",
              "    }\n",
              "\n",
              "    .dataframe tbody tr th {\n",
              "        vertical-align: top;\n",
              "    }\n",
              "\n",
              "    .dataframe thead th {\n",
              "        text-align: right;\n",
              "    }\n",
              "</style>\n",
              "<table border=\"1\" class=\"dataframe\">\n",
              "  <thead>\n",
              "    <tr style=\"text-align: right;\">\n",
              "      <th></th>\n",
              "      <th>FID</th>\n",
              "      <th>OBJECTID</th>\n",
              "      <th>NAMEAR</th>\n",
              "      <th>NAMEEN</th>\n",
              "      <th>CORONA__Ca</th>\n",
              "      <th>Population</th>\n",
              "      <th>PopDensity</th>\n",
              "      <th>AgingRatio</th>\n",
              "      <th>ServicesHi</th>\n",
              "      <th>HealthServ</th>\n",
              "      <th>Landuse</th>\n",
              "      <th>Commercial</th>\n",
              "      <th>RoadDensit</th>\n",
              "      <th>GreenAreas</th>\n",
              "      <th>Open_spave</th>\n",
              "    </tr>\n",
              "  </thead>\n",
              "  <tbody>\n",
              "    <tr>\n",
              "      <th>0</th>\n",
              "      <td>0</td>\n",
              "      <td>12</td>\n",
              "      <td>??????</td>\n",
              "      <td>Hebron (Al Khalil)</td>\n",
              "      <td>7299</td>\n",
              "      <td>15988</td>\n",
              "      <td>5.92</td>\n",
              "      <td>0.02000</td>\n",
              "      <td>5</td>\n",
              "      <td>100</td>\n",
              "      <td>2.7861</td>\n",
              "      <td>0.001750</td>\n",
              "      <td>0.04670</td>\n",
              "      <td>0.080100</td>\n",
              "      <td>0.8651</td>\n",
              "    </tr>\n",
              "    <tr>\n",
              "      <th>1</th>\n",
              "      <td>1</td>\n",
              "      <td>15</td>\n",
              "      <td>??? ?????</td>\n",
              "      <td>Deir Istiya</td>\n",
              "      <td>139</td>\n",
              "      <td>3930</td>\n",
              "      <td>4.20</td>\n",
              "      <td>0.04700</td>\n",
              "      <td>1</td>\n",
              "      <td>8</td>\n",
              "      <td>2.3300</td>\n",
              "      <td>0.004900</td>\n",
              "      <td>0.16400</td>\n",
              "      <td>0.000000</td>\n",
              "      <td>0.8800</td>\n",
              "    </tr>\n",
              "    <tr>\n",
              "      <th>2</th>\n",
              "      <td>2</td>\n",
              "      <td>21</td>\n",
              "      <td>????</td>\n",
              "      <td>Battir</td>\n",
              "      <td>63</td>\n",
              "      <td>4966</td>\n",
              "      <td>3.00</td>\n",
              "      <td>0.05000</td>\n",
              "      <td>1</td>\n",
              "      <td>12</td>\n",
              "      <td>2.8200</td>\n",
              "      <td>0.000000</td>\n",
              "      <td>0.03200</td>\n",
              "      <td>0.000000</td>\n",
              "      <td>0.9100</td>\n",
              "    </tr>\n",
              "    <tr>\n",
              "      <th>3</th>\n",
              "      <td>3</td>\n",
              "      <td>23</td>\n",
              "      <td>?????</td>\n",
              "      <td>Surif</td>\n",
              "      <td>181</td>\n",
              "      <td>18534</td>\n",
              "      <td>3.70</td>\n",
              "      <td>0.02579</td>\n",
              "      <td>1</td>\n",
              "      <td>30</td>\n",
              "      <td>2.6985</td>\n",
              "      <td>0.002074</td>\n",
              "      <td>0.10506</td>\n",
              "      <td>0.002709</td>\n",
              "      <td>0.9201</td>\n",
              "    </tr>\n",
              "    <tr>\n",
              "      <th>4</th>\n",
              "      <td>4</td>\n",
              "      <td>24</td>\n",
              "      <td>??? ???</td>\n",
              "      <td>Beit Ummar</td>\n",
              "      <td>418</td>\n",
              "      <td>18202</td>\n",
              "      <td>2.00</td>\n",
              "      <td>0.03300</td>\n",
              "      <td>2</td>\n",
              "      <td>34</td>\n",
              "      <td>2.3700</td>\n",
              "      <td>0.003000</td>\n",
              "      <td>0.07800</td>\n",
              "      <td>0.162000</td>\n",
              "      <td>0.8940</td>\n",
              "    </tr>\n",
              "  </tbody>\n",
              "</table>\n",
              "</div>"
            ],
            "text/plain": [
              "   FID  OBJECTID     NAMEAR  ... RoadDensit  GreenAreas  Open_spave\n",
              "0    0        12     ??????  ...    0.04670    0.080100      0.8651\n",
              "1    1        15  ??? ?????  ...    0.16400    0.000000      0.8800\n",
              "2    2        21       ????  ...    0.03200    0.000000      0.9100\n",
              "3    3        23      ?????  ...    0.10506    0.002709      0.9201\n",
              "4    4        24    ??? ???  ...    0.07800    0.162000      0.8940\n",
              "\n",
              "[5 rows x 15 columns]"
            ]
          },
          "metadata": {},
          "execution_count": 1542
        }
      ]
    },
    {
      "cell_type": "code",
      "metadata": {
        "colab": {
          "base_uri": "https://localhost:8080/"
        },
        "id": "XFYaYeU-T8L6",
        "outputId": "3614b354-1157-45b5-92d3-83b9fd3298b1"
      },
      "source": [
        "data.count"
      ],
      "execution_count": 1543,
      "outputs": [
        {
          "output_type": "execute_result",
          "data": {
            "text/plain": [
              "<bound method DataFrame.count of      FID  OBJECTID        NAMEAR  ... RoadDensit  GreenAreas  Open_spave\n",
              "0      0        12        ??????  ...    0.04670    0.080100      0.8651\n",
              "1      1        15     ??? ?????  ...    0.16400    0.000000      0.8800\n",
              "2      2        21          ????  ...    0.03200    0.000000      0.9100\n",
              "3      3        23         ?????  ...    0.10506    0.002709      0.9201\n",
              "4      4        24       ??? ???  ...    0.07800    0.162000      0.8940\n",
              "..   ...       ...           ...  ...        ...         ...         ...\n",
              "186  186       578  ??? ??? ????  ...    0.00000    0.000000      0.8300\n",
              "187  187       579      ??? ????  ...    0.09500    0.000000      0.8300\n",
              "188  188       580        ??????  ...    0.13600    0.001200      0.9600\n",
              "189  189       581       ??? ???  ...    0.18000    0.020000      0.9000\n",
              "190  190       584      ??? ????  ...    0.48000    0.000000      0.7100\n",
              "\n",
              "[191 rows x 15 columns]>"
            ]
          },
          "metadata": {},
          "execution_count": 1543
        }
      ]
    },
    {
      "cell_type": "code",
      "metadata": {
        "id": "tII5SmBAapN5"
      },
      "source": [
        "from sklearn.preprocessing import StandardScaler\n",
        "X = data[['Population','PopDensity','AgingRatio','ServicesHi','HealthServ','Landuse','Commercial','RoadDensit','GreenAreas','Open_spave']]\n",
        "y = data['CORONA__Ca']\n",
        "X_train, X_test, y_train, y_test = train_test_split(X,y,test_size=0.2, random_state=10) \n",
        "\n",
        "#x = pd.DataFrame(x)"
      ],
      "execution_count": 1544,
      "outputs": []
    },
    {
      "cell_type": "code",
      "metadata": {
        "colab": {
          "base_uri": "https://localhost:8080/",
          "height": 477
        },
        "id": "QVOOQfsYQY1l",
        "outputId": "95738b4b-45a9-4914-82e3-b34fedcb98f6"
      },
      "source": [
        "x=data[['FID','OBJECTID','Population','PopDensity','AgingRatio','ServicesHi','HealthServ','Landuse','Commercial','RoadDensit','GreenAreas','Open_spave','CORONA__Ca']]\n",
        "\n",
        "x.corr()"
      ],
      "execution_count": 1545,
      "outputs": [
        {
          "output_type": "execute_result",
          "data": {
            "text/html": [
              "<div>\n",
              "<style scoped>\n",
              "    .dataframe tbody tr th:only-of-type {\n",
              "        vertical-align: middle;\n",
              "    }\n",
              "\n",
              "    .dataframe tbody tr th {\n",
              "        vertical-align: top;\n",
              "    }\n",
              "\n",
              "    .dataframe thead th {\n",
              "        text-align: right;\n",
              "    }\n",
              "</style>\n",
              "<table border=\"1\" class=\"dataframe\">\n",
              "  <thead>\n",
              "    <tr style=\"text-align: right;\">\n",
              "      <th></th>\n",
              "      <th>FID</th>\n",
              "      <th>OBJECTID</th>\n",
              "      <th>Population</th>\n",
              "      <th>PopDensity</th>\n",
              "      <th>AgingRatio</th>\n",
              "      <th>ServicesHi</th>\n",
              "      <th>HealthServ</th>\n",
              "      <th>Landuse</th>\n",
              "      <th>Commercial</th>\n",
              "      <th>RoadDensit</th>\n",
              "      <th>GreenAreas</th>\n",
              "      <th>Open_spave</th>\n",
              "      <th>CORONA__Ca</th>\n",
              "    </tr>\n",
              "  </thead>\n",
              "  <tbody>\n",
              "    <tr>\n",
              "      <th>FID</th>\n",
              "      <td>1.000000</td>\n",
              "      <td>0.992761</td>\n",
              "      <td>-0.089409</td>\n",
              "      <td>0.071611</td>\n",
              "      <td>0.169325</td>\n",
              "      <td>-0.077921</td>\n",
              "      <td>-0.044192</td>\n",
              "      <td>-0.020391</td>\n",
              "      <td>0.187306</td>\n",
              "      <td>0.069416</td>\n",
              "      <td>0.093280</td>\n",
              "      <td>-0.050057</td>\n",
              "      <td>-0.049515</td>\n",
              "    </tr>\n",
              "    <tr>\n",
              "      <th>OBJECTID</th>\n",
              "      <td>0.992761</td>\n",
              "      <td>1.000000</td>\n",
              "      <td>-0.090901</td>\n",
              "      <td>0.076189</td>\n",
              "      <td>0.174289</td>\n",
              "      <td>-0.080119</td>\n",
              "      <td>-0.041009</td>\n",
              "      <td>-0.010986</td>\n",
              "      <td>0.188723</td>\n",
              "      <td>0.069567</td>\n",
              "      <td>0.085181</td>\n",
              "      <td>-0.043358</td>\n",
              "      <td>-0.058696</td>\n",
              "    </tr>\n",
              "    <tr>\n",
              "      <th>Population</th>\n",
              "      <td>-0.089409</td>\n",
              "      <td>-0.090901</td>\n",
              "      <td>1.000000</td>\n",
              "      <td>-0.023690</td>\n",
              "      <td>-0.062759</td>\n",
              "      <td>0.463569</td>\n",
              "      <td>0.535200</td>\n",
              "      <td>-0.009145</td>\n",
              "      <td>0.062794</td>\n",
              "      <td>0.082177</td>\n",
              "      <td>0.042760</td>\n",
              "      <td>0.024566</td>\n",
              "      <td>0.449980</td>\n",
              "    </tr>\n",
              "    <tr>\n",
              "      <th>PopDensity</th>\n",
              "      <td>0.071611</td>\n",
              "      <td>0.076189</td>\n",
              "      <td>-0.023690</td>\n",
              "      <td>1.000000</td>\n",
              "      <td>-0.007668</td>\n",
              "      <td>-0.031345</td>\n",
              "      <td>-0.035081</td>\n",
              "      <td>-0.219817</td>\n",
              "      <td>0.116781</td>\n",
              "      <td>-0.011663</td>\n",
              "      <td>0.589041</td>\n",
              "      <td>0.013193</td>\n",
              "      <td>-0.019244</td>\n",
              "    </tr>\n",
              "    <tr>\n",
              "      <th>AgingRatio</th>\n",
              "      <td>0.169325</td>\n",
              "      <td>0.174289</td>\n",
              "      <td>-0.062759</td>\n",
              "      <td>-0.007668</td>\n",
              "      <td>1.000000</td>\n",
              "      <td>0.076334</td>\n",
              "      <td>0.027195</td>\n",
              "      <td>0.029910</td>\n",
              "      <td>0.044677</td>\n",
              "      <td>0.068859</td>\n",
              "      <td>-0.028005</td>\n",
              "      <td>0.002115</td>\n",
              "      <td>-0.023188</td>\n",
              "    </tr>\n",
              "    <tr>\n",
              "      <th>ServicesHi</th>\n",
              "      <td>-0.077921</td>\n",
              "      <td>-0.080119</td>\n",
              "      <td>0.463569</td>\n",
              "      <td>-0.031345</td>\n",
              "      <td>0.076334</td>\n",
              "      <td>1.000000</td>\n",
              "      <td>0.661418</td>\n",
              "      <td>-0.019779</td>\n",
              "      <td>0.176109</td>\n",
              "      <td>0.201133</td>\n",
              "      <td>0.097227</td>\n",
              "      <td>0.061326</td>\n",
              "      <td>0.570953</td>\n",
              "    </tr>\n",
              "    <tr>\n",
              "      <th>HealthServ</th>\n",
              "      <td>-0.044192</td>\n",
              "      <td>-0.041009</td>\n",
              "      <td>0.535200</td>\n",
              "      <td>-0.035081</td>\n",
              "      <td>0.027195</td>\n",
              "      <td>0.661418</td>\n",
              "      <td>1.000000</td>\n",
              "      <td>-0.030717</td>\n",
              "      <td>0.107054</td>\n",
              "      <td>0.146903</td>\n",
              "      <td>0.144828</td>\n",
              "      <td>0.043087</td>\n",
              "      <td>0.653498</td>\n",
              "    </tr>\n",
              "    <tr>\n",
              "      <th>Landuse</th>\n",
              "      <td>-0.020391</td>\n",
              "      <td>-0.010986</td>\n",
              "      <td>-0.009145</td>\n",
              "      <td>-0.219817</td>\n",
              "      <td>0.029910</td>\n",
              "      <td>-0.019779</td>\n",
              "      <td>-0.030717</td>\n",
              "      <td>1.000000</td>\n",
              "      <td>0.055832</td>\n",
              "      <td>-0.093620</td>\n",
              "      <td>-0.237293</td>\n",
              "      <td>-0.066678</td>\n",
              "      <td>-0.045853</td>\n",
              "    </tr>\n",
              "    <tr>\n",
              "      <th>Commercial</th>\n",
              "      <td>0.187306</td>\n",
              "      <td>0.188723</td>\n",
              "      <td>0.062794</td>\n",
              "      <td>0.116781</td>\n",
              "      <td>0.044677</td>\n",
              "      <td>0.176109</td>\n",
              "      <td>0.107054</td>\n",
              "      <td>0.055832</td>\n",
              "      <td>1.000000</td>\n",
              "      <td>0.085292</td>\n",
              "      <td>0.204595</td>\n",
              "      <td>-0.033578</td>\n",
              "      <td>0.090260</td>\n",
              "    </tr>\n",
              "    <tr>\n",
              "      <th>RoadDensit</th>\n",
              "      <td>0.069416</td>\n",
              "      <td>0.069567</td>\n",
              "      <td>0.082177</td>\n",
              "      <td>-0.011663</td>\n",
              "      <td>0.068859</td>\n",
              "      <td>0.201133</td>\n",
              "      <td>0.146903</td>\n",
              "      <td>-0.093620</td>\n",
              "      <td>0.085292</td>\n",
              "      <td>1.000000</td>\n",
              "      <td>0.047780</td>\n",
              "      <td>-0.010977</td>\n",
              "      <td>0.112087</td>\n",
              "    </tr>\n",
              "    <tr>\n",
              "      <th>GreenAreas</th>\n",
              "      <td>0.093280</td>\n",
              "      <td>0.085181</td>\n",
              "      <td>0.042760</td>\n",
              "      <td>0.589041</td>\n",
              "      <td>-0.028005</td>\n",
              "      <td>0.097227</td>\n",
              "      <td>0.144828</td>\n",
              "      <td>-0.237293</td>\n",
              "      <td>0.204595</td>\n",
              "      <td>0.047780</td>\n",
              "      <td>1.000000</td>\n",
              "      <td>0.010678</td>\n",
              "      <td>0.163252</td>\n",
              "    </tr>\n",
              "    <tr>\n",
              "      <th>Open_spave</th>\n",
              "      <td>-0.050057</td>\n",
              "      <td>-0.043358</td>\n",
              "      <td>0.024566</td>\n",
              "      <td>0.013193</td>\n",
              "      <td>0.002115</td>\n",
              "      <td>0.061326</td>\n",
              "      <td>0.043087</td>\n",
              "      <td>-0.066678</td>\n",
              "      <td>-0.033578</td>\n",
              "      <td>-0.010977</td>\n",
              "      <td>0.010678</td>\n",
              "      <td>1.000000</td>\n",
              "      <td>-0.007730</td>\n",
              "    </tr>\n",
              "    <tr>\n",
              "      <th>CORONA__Ca</th>\n",
              "      <td>-0.049515</td>\n",
              "      <td>-0.058696</td>\n",
              "      <td>0.449980</td>\n",
              "      <td>-0.019244</td>\n",
              "      <td>-0.023188</td>\n",
              "      <td>0.570953</td>\n",
              "      <td>0.653498</td>\n",
              "      <td>-0.045853</td>\n",
              "      <td>0.090260</td>\n",
              "      <td>0.112087</td>\n",
              "      <td>0.163252</td>\n",
              "      <td>-0.007730</td>\n",
              "      <td>1.000000</td>\n",
              "    </tr>\n",
              "  </tbody>\n",
              "</table>\n",
              "</div>"
            ],
            "text/plain": [
              "                 FID  OBJECTID  Population  ...  GreenAreas  Open_spave  CORONA__Ca\n",
              "FID         1.000000  0.992761   -0.089409  ...    0.093280   -0.050057   -0.049515\n",
              "OBJECTID    0.992761  1.000000   -0.090901  ...    0.085181   -0.043358   -0.058696\n",
              "Population -0.089409 -0.090901    1.000000  ...    0.042760    0.024566    0.449980\n",
              "PopDensity  0.071611  0.076189   -0.023690  ...    0.589041    0.013193   -0.019244\n",
              "AgingRatio  0.169325  0.174289   -0.062759  ...   -0.028005    0.002115   -0.023188\n",
              "ServicesHi -0.077921 -0.080119    0.463569  ...    0.097227    0.061326    0.570953\n",
              "HealthServ -0.044192 -0.041009    0.535200  ...    0.144828    0.043087    0.653498\n",
              "Landuse    -0.020391 -0.010986   -0.009145  ...   -0.237293   -0.066678   -0.045853\n",
              "Commercial  0.187306  0.188723    0.062794  ...    0.204595   -0.033578    0.090260\n",
              "RoadDensit  0.069416  0.069567    0.082177  ...    0.047780   -0.010977    0.112087\n",
              "GreenAreas  0.093280  0.085181    0.042760  ...    1.000000    0.010678    0.163252\n",
              "Open_spave -0.050057 -0.043358    0.024566  ...    0.010678    1.000000   -0.007730\n",
              "CORONA__Ca -0.049515 -0.058696    0.449980  ...    0.163252   -0.007730    1.000000\n",
              "\n",
              "[13 rows x 13 columns]"
            ]
          },
          "metadata": {},
          "execution_count": 1545
        }
      ]
    },
    {
      "cell_type": "code",
      "metadata": {
        "colab": {
          "base_uri": "https://localhost:8080/",
          "height": 254
        },
        "id": "lkdoVyi_Tkmu",
        "outputId": "79a33c6a-e486-4a97-e687-75f5cee40480"
      },
      "source": [
        "ax = plt.axes(projection='3d')\n",
        "scatter_plot2 = ax.scatter3D(data['HealthServ'],data['ServicesHi'],data['Population'],c=data['CORONA__Ca'])\n",
        "plt.colorbar(scatter_plot2)\n",
        "plt.show()"
      ],
      "execution_count": 1546,
      "outputs": [
        {
          "output_type": "display_data",
          "data": {
            "image/png": "[encoded data removed]",
            "text/plain": [
              "<Figure size 432x288 with 2 Axes>"
            ]
          },
          "metadata": {}
        }
      ]
    },
    {
      "cell_type": "code",
      "metadata": {
        "colab": {
          "base_uri": "https://localhost:8080/",
          "height": 206
        },
        "id": "283atnHfxqgY",
        "outputId": "755e0413-1e4d-4805-bff9-e99693cfc111"
      },
      "source": [
        "from sklearn.decomposition import PCA\n",
        "\n",
        "pca = PCA(n_components=3)\n",
        "\n",
        "principalComponents = pca.fit_transform(X_train)\n",
        "\n",
        "principalDf = pd.DataFrame(data = principalComponents\n",
        "             , columns = ['principal component 1', 'principal component 2','principal component 3'])\n",
        "\n",
        "principalComponents = pd.DataFrame(principalComponents)#\n",
        "principalComponents.head()\n"
      ],
      "execution_count": 1547,
      "outputs": [
        {
          "output_type": "execute_result",
          "data": {
            "text/html": [
              "<div>\n",
              "<style scoped>\n",
              "    .dataframe tbody tr th:only-of-type {\n",
              "        vertical-align: middle;\n",
              "    }\n",
              "\n",
              "    .dataframe tbody tr th {\n",
              "        vertical-align: top;\n",
              "    }\n",
              "\n",
              "    .dataframe thead th {\n",
              "        text-align: right;\n",
              "    }\n",
              "</style>\n",
              "<table border=\"1\" class=\"dataframe\">\n",
              "  <thead>\n",
              "    <tr style=\"text-align: right;\">\n",
              "      <th></th>\n",
              "      <th>0</th>\n",
              "      <th>1</th>\n",
              "      <th>2</th>\n",
              "    </tr>\n",
              "  </thead>\n",
              "  <tbody>\n",
              "    <tr>\n",
              "      <th>0</th>\n",
              "      <td>-5705.137255</td>\n",
              "      <td>-43.094877</td>\n",
              "      <td>0.472017</td>\n",
              "    </tr>\n",
              "    <tr>\n",
              "      <th>1</th>\n",
              "      <td>9176.808543</td>\n",
              "      <td>-7.667394</td>\n",
              "      <td>-20.917780</td>\n",
              "    </tr>\n",
              "    <tr>\n",
              "      <th>2</th>\n",
              "      <td>3217.850324</td>\n",
              "      <td>-25.194410</td>\n",
              "      <td>-2.355285</td>\n",
              "    </tr>\n",
              "    <tr>\n",
              "      <th>3</th>\n",
              "      <td>6494.851957</td>\n",
              "      <td>-18.606996</td>\n",
              "      <td>0.934261</td>\n",
              "    </tr>\n",
              "    <tr>\n",
              "      <th>4</th>\n",
              "      <td>-1826.151183</td>\n",
              "      <td>-30.615117</td>\n",
              "      <td>-1.102480</td>\n",
              "    </tr>\n",
              "  </tbody>\n",
              "</table>\n",
              "</div>"
            ],
            "text/plain": [
              "             0          1          2\n",
              "0 -5705.137255 -43.094877   0.472017\n",
              "1  9176.808543  -7.667394 -20.917780\n",
              "2  3217.850324 -25.194410  -2.355285\n",
              "3  6494.851957 -18.606996   0.934261\n",
              "4 -1826.151183 -30.615117  -1.102480"
            ]
          },
          "metadata": {},
          "execution_count": 1547
        }
      ]
    },
    {
      "cell_type": "code",
      "metadata": {
        "colab": {
          "base_uri": "https://localhost:8080/",
          "height": 206
        },
        "id": "iOxiPzq4VyFi",
        "outputId": "d91ab7d7-401b-422d-c356-e44e8ed6f1b7"
      },
      "source": [
        "finalDf = pd.concat([principalDf,y_train], axis = 1)\n",
        "finalDf = pd.DataFrame(finalDf)#\n",
        "finalDf.head()#"
      ],
      "execution_count": 1548,
      "outputs": [
        {
          "output_type": "execute_result",
          "data": {
            "text/html": [
              "<div>\n",
              "<style scoped>\n",
              "    .dataframe tbody tr th:only-of-type {\n",
              "        vertical-align: middle;\n",
              "    }\n",
              "\n",
              "    .dataframe tbody tr th {\n",
              "        vertical-align: top;\n",
              "    }\n",
              "\n",
              "    .dataframe thead th {\n",
              "        text-align: right;\n",
              "    }\n",
              "</style>\n",
              "<table border=\"1\" class=\"dataframe\">\n",
              "  <thead>\n",
              "    <tr style=\"text-align: right;\">\n",
              "      <th></th>\n",
              "      <th>principal component 1</th>\n",
              "      <th>principal component 2</th>\n",
              "      <th>principal component 3</th>\n",
              "      <th>CORONA__Ca</th>\n",
              "    </tr>\n",
              "  </thead>\n",
              "  <tbody>\n",
              "    <tr>\n",
              "      <th>0</th>\n",
              "      <td>-5705.137255</td>\n",
              "      <td>-43.094877</td>\n",
              "      <td>0.472017</td>\n",
              "      <td>7299.0</td>\n",
              "    </tr>\n",
              "    <tr>\n",
              "      <th>1</th>\n",
              "      <td>9176.808543</td>\n",
              "      <td>-7.667394</td>\n",
              "      <td>-20.917780</td>\n",
              "      <td>NaN</td>\n",
              "    </tr>\n",
              "    <tr>\n",
              "      <th>2</th>\n",
              "      <td>3217.850324</td>\n",
              "      <td>-25.194410</td>\n",
              "      <td>-2.355285</td>\n",
              "      <td>NaN</td>\n",
              "    </tr>\n",
              "    <tr>\n",
              "      <th>3</th>\n",
              "      <td>6494.851957</td>\n",
              "      <td>-18.606996</td>\n",
              "      <td>0.934261</td>\n",
              "      <td>181.0</td>\n",
              "    </tr>\n",
              "    <tr>\n",
              "      <th>4</th>\n",
              "      <td>-1826.151183</td>\n",
              "      <td>-30.615117</td>\n",
              "      <td>-1.102480</td>\n",
              "      <td>418.0</td>\n",
              "    </tr>\n",
              "  </tbody>\n",
              "</table>\n",
              "</div>"
            ],
            "text/plain": [
              "   principal component 1  ...  CORONA__Ca\n",
              "0           -5705.137255  ...      7299.0\n",
              "1            9176.808543  ...         NaN\n",
              "2            3217.850324  ...         NaN\n",
              "3            6494.851957  ...       181.0\n",
              "4           -1826.151183  ...       418.0\n",
              "\n",
              "[5 rows x 4 columns]"
            ]
          },
          "metadata": {},
          "execution_count": 1548
        }
      ]
    },
    {
      "cell_type": "code",
      "metadata": {
        "colab": {
          "base_uri": "https://localhost:8080/",
          "height": 254
        },
        "id": "bnSJZqOE7Bqb",
        "outputId": "fc99bd9c-05ec-498d-e7f4-ccfc865bf582"
      },
      "source": [
        "ax = plt.axes(projection='3d')\n",
        "\n",
        "# Data for three-dimensional scattered points\n",
        "xdata = finalDf['principal component 1']\n",
        "ydata = finalDf['principal component 2']\n",
        "zdata = finalDf['principal component 3']\n",
        "#ax.scatter3D(xdata, ydata, zdata)\n",
        "scatter_plot = ax.scatter3D(xdata, ydata, zdata,c=finalDf['CORONA__Ca'])\n",
        "plt.colorbar(scatter_plot)\n",
        "plt.show()\n"
      ],
      "execution_count": 1549,
      "outputs": [
        {
          "output_type": "display_data",
          "data": {
            "image/png": "[encoded data removed]",
            "text/plain": [
              "<Figure size 432x288 with 2 Axes>"
            ]
          },
          "metadata": {}
        }
      ]
    },
    {
      "cell_type": "code",
      "metadata": {
        "colab": {
          "base_uri": "https://localhost:8080/"
        },
        "id": "D3iVzSjCkRrf",
        "outputId": "2c88719d-549e-4cd0-8fef-c587e4511b54"
      },
      "source": [
        "from sklearn.linear_model import LinearRegression\n",
        "clf = LinearRegression()\n",
        "clf.fit(X_train, y_train)"
      ],
      "execution_count": 1550,
      "outputs": [
        {
          "output_type": "execute_result",
          "data": {
            "text/plain": [
              "LinearRegression()"
            ]
          },
          "metadata": {},
          "execution_count": 1550
        }
      ]
    },
    {
      "cell_type": "code",
      "metadata": {
        "colab": {
          "base_uri": "https://localhost:8080/"
        },
        "id": "cukNKMFikeOm",
        "outputId": "efa9b46f-6efb-4658-c363-53c27b755aba"
      },
      "source": [
        "clf.predict(X_test)"
      ],
      "execution_count": 1551,
      "outputs": [
        {
          "output_type": "execute_result",
          "data": {
            "text/plain": [
              "array([ 3.25881952e+00,  6.04062654e+02, -5.48385281e+01,  6.14527988e+02,\n",
              "       -2.61441133e+01, -3.14207501e+01,  3.53186681e+02,  6.01482047e+01,\n",
              "        1.16911793e+02, -2.68119230e+01, -6.53224478e+01,  4.49508285e+00,\n",
              "        2.73526366e+01, -5.92733873e+01, -8.08809391e+01, -3.54873521e+01,\n",
              "        9.61804829e+02,  3.23819930e+01, -2.25550012e+02,  1.02329340e+03,\n",
              "       -1.03356654e+02, -4.46115440e+01,  1.20101280e+02,  4.54114716e+01,\n",
              "        2.52878144e+03,  4.10994285e+01, -4.65682325e+01,  4.09004271e+02,\n",
              "        2.32109053e+02, -6.79856694e-01,  1.60097330e+02, -1.22575165e+01,\n",
              "        1.42526499e+02, -1.53596917e+02,  8.31921917e+01,  2.70737609e+03,\n",
              "        4.31411402e+02,  2.85362052e+01,  9.01869969e+02])"
            ]
          },
          "metadata": {},
          "execution_count": 1551
        }
      ]
    },
    {
      "cell_type": "code",
      "metadata": {
        "colab": {
          "base_uri": "https://localhost:8080/"
        },
        "id": "IDVgcv8Uk-CF",
        "outputId": "be494a3c-c885-46e9-a11e-653a6708795f"
      },
      "source": [
        "clf.score(X_test, y_test)"
      ],
      "execution_count": 1552,
      "outputs": [
        {
          "output_type": "execute_result",
          "data": {
            "text/plain": [
              "0.584225626010759"
            ]
          },
          "metadata": {},
          "execution_count": 1552
        }
      ]
    },
    {
      "cell_type": "code",
      "metadata": {
        "colab": {
          "base_uri": "https://localhost:8080/"
        },
        "id": "AQiHVUauvTA1",
        "outputId": "da84585e-6370-44a9-e06f-daeafab55d01"
      },
      "source": [
        "import numpy\n",
        "\n",
        "corr_matrix = numpy.corrcoef(y_test, clf.predict(X_test))\n",
        "corr = corr_matrix[0,1]\n",
        "R_sq = corr**2\n",
        "\n",
        "print(R_sq)"
      ],
      "execution_count": 1553,
      "outputs": [
        {
          "output_type": "stream",
          "name": "stdout",
          "text": [
            "0.6053383738551084\n"
          ]
        }
      ]
    },
    {
      "cell_type": "code",
      "metadata": {
        "id": "EmT5tBC4usi-"
      },
      "source": [
        "#####################################PART_2###########################################################"
      ],
      "execution_count": 1554,
      "outputs": []
    },
    {
      "cell_type": "code",
      "metadata": {
        "colab": {
          "base_uri": "https://localhost:8080/",
          "height": 295
        },
        "id": "fyKlS-s1TDKY",
        "outputId": "ff1b8670-4c42-45a4-d1c5-28bcf4f06860"
      },
      "source": [
        "#missing__NAN\n",
        "data.dropna(inplace = True)\n",
        "data.head()"
      ],
      "execution_count": 1555,
      "outputs": [
        {
          "output_type": "execute_result",
          "data": {
            "text/html": [
              "<div>\n",
              "<style scoped>\n",
              "    .dataframe tbody tr th:only-of-type {\n",
              "        vertical-align: middle;\n",
              "    }\n",
              "\n",
              "    .dataframe tbody tr th {\n",
              "        vertical-align: top;\n",
              "    }\n",
              "\n",
              "    .dataframe thead th {\n",
              "        text-align: right;\n",
              "    }\n",
              "</style>\n",
              "<table border=\"1\" class=\"dataframe\">\n",
              "  <thead>\n",
              "    <tr style=\"text-align: right;\">\n",
              "      <th></th>\n",
              "      <th>FID</th>\n",
              "      <th>OBJECTID</th>\n",
              "      <th>NAMEAR</th>\n",
              "      <th>NAMEEN</th>\n",
              "      <th>CORONA__Ca</th>\n",
              "      <th>Population</th>\n",
              "      <th>PopDensity</th>\n",
              "      <th>AgingRatio</th>\n",
              "      <th>ServicesHi</th>\n",
              "      <th>HealthServ</th>\n",
              "      <th>Landuse</th>\n",
              "      <th>Commercial</th>\n",
              "      <th>RoadDensit</th>\n",
              "      <th>GreenAreas</th>\n",
              "      <th>Open_spave</th>\n",
              "    </tr>\n",
              "  </thead>\n",
              "  <tbody>\n",
              "    <tr>\n",
              "      <th>0</th>\n",
              "      <td>0</td>\n",
              "      <td>12</td>\n",
              "      <td>??????</td>\n",
              "      <td>Hebron (Al Khalil)</td>\n",
              "      <td>7299</td>\n",
              "      <td>15988</td>\n",
              "      <td>5.92</td>\n",
              "      <td>0.02000</td>\n",
              "      <td>5</td>\n",
              "      <td>100</td>\n",
              "      <td>2.7861</td>\n",
              "      <td>0.001750</td>\n",
              "      <td>0.04670</td>\n",
              "      <td>0.080100</td>\n",
              "      <td>0.8651</td>\n",
              "    </tr>\n",
              "    <tr>\n",
              "      <th>1</th>\n",
              "      <td>1</td>\n",
              "      <td>15</td>\n",
              "      <td>??? ?????</td>\n",
              "      <td>Deir Istiya</td>\n",
              "      <td>139</td>\n",
              "      <td>3930</td>\n",
              "      <td>4.20</td>\n",
              "      <td>0.04700</td>\n",
              "      <td>1</td>\n",
              "      <td>8</td>\n",
              "      <td>2.3300</td>\n",
              "      <td>0.004900</td>\n",
              "      <td>0.16400</td>\n",
              "      <td>0.000000</td>\n",
              "      <td>0.8800</td>\n",
              "    </tr>\n",
              "    <tr>\n",
              "      <th>2</th>\n",
              "      <td>2</td>\n",
              "      <td>21</td>\n",
              "      <td>????</td>\n",
              "      <td>Battir</td>\n",
              "      <td>63</td>\n",
              "      <td>4966</td>\n",
              "      <td>3.00</td>\n",
              "      <td>0.05000</td>\n",
              "      <td>1</td>\n",
              "      <td>12</td>\n",
              "      <td>2.8200</td>\n",
              "      <td>0.000000</td>\n",
              "      <td>0.03200</td>\n",
              "      <td>0.000000</td>\n",
              "      <td>0.9100</td>\n",
              "    </tr>\n",
              "    <tr>\n",
              "      <th>3</th>\n",
              "      <td>3</td>\n",
              "      <td>23</td>\n",
              "      <td>?????</td>\n",
              "      <td>Surif</td>\n",
              "      <td>181</td>\n",
              "      <td>18534</td>\n",
              "      <td>3.70</td>\n",
              "      <td>0.02579</td>\n",
              "      <td>1</td>\n",
              "      <td>30</td>\n",
              "      <td>2.6985</td>\n",
              "      <td>0.002074</td>\n",
              "      <td>0.10506</td>\n",
              "      <td>0.002709</td>\n",
              "      <td>0.9201</td>\n",
              "    </tr>\n",
              "    <tr>\n",
              "      <th>4</th>\n",
              "      <td>4</td>\n",
              "      <td>24</td>\n",
              "      <td>??? ???</td>\n",
              "      <td>Beit Ummar</td>\n",
              "      <td>418</td>\n",
              "      <td>18202</td>\n",
              "      <td>2.00</td>\n",
              "      <td>0.03300</td>\n",
              "      <td>2</td>\n",
              "      <td>34</td>\n",
              "      <td>2.3700</td>\n",
              "      <td>0.003000</td>\n",
              "      <td>0.07800</td>\n",
              "      <td>0.162000</td>\n",
              "      <td>0.8940</td>\n",
              "    </tr>\n",
              "  </tbody>\n",
              "</table>\n",
              "</div>"
            ],
            "text/plain": [
              "   FID  OBJECTID     NAMEAR  ... RoadDensit  GreenAreas  Open_spave\n",
              "0    0        12     ??????  ...    0.04670    0.080100      0.8651\n",
              "1    1        15  ??? ?????  ...    0.16400    0.000000      0.8800\n",
              "2    2        21       ????  ...    0.03200    0.000000      0.9100\n",
              "3    3        23      ?????  ...    0.10506    0.002709      0.9201\n",
              "4    4        24    ??? ???  ...    0.07800    0.162000      0.8940\n",
              "\n",
              "[5 rows x 15 columns]"
            ]
          },
          "metadata": {},
          "execution_count": 1555
        }
      ]
    },
    {
      "cell_type": "code",
      "metadata": {
        "colab": {
          "base_uri": "https://localhost:8080/"
        },
        "id": "Tw0-uw2Z1cRp",
        "outputId": "038c43db-b0e6-4af4-e979-315630957911"
      },
      "source": [
        "#clean\n",
        "(data[['Population','PopDensity','AgingRatio'\n",
        "#,'ServicesHi','HealthServ','Landuse','Commercial','RoadDensit','GreenAreas','Open_spave'\n",
        "]]==0).sum()"
      ],
      "execution_count": 1556,
      "outputs": [
        {
          "output_type": "execute_result",
          "data": {
            "text/plain": [
              "Population    0\n",
              "PopDensity    2\n",
              "AgingRatio    1\n",
              "dtype: int64"
            ]
          },
          "metadata": {},
          "execution_count": 1556
        }
      ]
    },
    {
      "cell_type": "code",
      "metadata": {
        "colab": {
          "base_uri": "https://localhost:8080/"
        },
        "id": "IoQIgekrWwD2",
        "outputId": "dbe96ce2-6730-42a1-b501-72ce9e03706a"
      },
      "source": [
        "(((data['HealthServ']%2)==1) ).sum()"
      ],
      "execution_count": 1557,
      "outputs": [
        {
          "output_type": "execute_result",
          "data": {
            "text/plain": [
              "0"
            ]
          },
          "metadata": {},
          "execution_count": 1557
        }
      ]
    },
    {
      "cell_type": "code",
      "metadata": {
        "colab": {
          "base_uri": "https://localhost:8080/"
        },
        "id": "M6U7_eGkYG8t",
        "outputId": "7c312bdd-0b74-49a5-b2d6-1bdbeb5a8e06"
      },
      "source": [
        "((data['ServicesHi']<1) | (data['ServicesHi']>5)).sum()"
      ],
      "execution_count": 1558,
      "outputs": [
        {
          "output_type": "execute_result",
          "data": {
            "text/plain": [
              "5"
            ]
          },
          "metadata": {},
          "execution_count": 1558
        }
      ]
    },
    {
      "cell_type": "code",
      "metadata": {
        "id": "cbfF1tVcddWE"
      },
      "source": [
        "#delete ServicesHi rows\n",
        "index_names = data[ (data['ServicesHi']<1) | (data['ServicesHi']>5)].FID\n",
        "data.drop(index_names, inplace = True)"
      ],
      "execution_count": 1559,
      "outputs": []
    },
    {
      "cell_type": "code",
      "metadata": {
        "colab": {
          "base_uri": "https://localhost:8080/",
          "height": 477
        },
        "id": "ihPxMzpUgq9A",
        "outputId": "a40c2eea-9dfa-43a4-cadc-df8351f357bb"
      },
      "source": [
        "#redundant data\n",
        "x=data[['FID','OBJECTID','Population','PopDensity','AgingRatio','ServicesHi','HealthServ','Landuse','Commercial','RoadDensit','GreenAreas','Open_spave','CORONA__Ca']]\n",
        "\n",
        "x.corr()"
      ],
      "execution_count": 1560,
      "outputs": [
        {
          "output_type": "execute_result",
          "data": {
            "text/html": [
              "<div>\n",
              "<style scoped>\n",
              "    .dataframe tbody tr th:only-of-type {\n",
              "        vertical-align: middle;\n",
              "    }\n",
              "\n",
              "    .dataframe tbody tr th {\n",
              "        vertical-align: top;\n",
              "    }\n",
              "\n",
              "    .dataframe thead th {\n",
              "        text-align: right;\n",
              "    }\n",
              "</style>\n",
              "<table border=\"1\" class=\"dataframe\">\n",
              "  <thead>\n",
              "    <tr style=\"text-align: right;\">\n",
              "      <th></th>\n",
              "      <th>FID</th>\n",
              "      <th>OBJECTID</th>\n",
              "      <th>Population</th>\n",
              "      <th>PopDensity</th>\n",
              "      <th>AgingRatio</th>\n",
              "      <th>ServicesHi</th>\n",
              "      <th>HealthServ</th>\n",
              "      <th>Landuse</th>\n",
              "      <th>Commercial</th>\n",
              "      <th>RoadDensit</th>\n",
              "      <th>GreenAreas</th>\n",
              "      <th>Open_spave</th>\n",
              "      <th>CORONA__Ca</th>\n",
              "    </tr>\n",
              "  </thead>\n",
              "  <tbody>\n",
              "    <tr>\n",
              "      <th>FID</th>\n",
              "      <td>1.000000</td>\n",
              "      <td>0.992761</td>\n",
              "      <td>-0.092566</td>\n",
              "      <td>0.073064</td>\n",
              "      <td>0.170015</td>\n",
              "      <td>-0.071347</td>\n",
              "      <td>-0.076995</td>\n",
              "      <td>-0.016601</td>\n",
              "      <td>0.179761</td>\n",
              "      <td>0.071330</td>\n",
              "      <td>0.089189</td>\n",
              "      <td>-0.050600</td>\n",
              "      <td>-0.062446</td>\n",
              "    </tr>\n",
              "    <tr>\n",
              "      <th>OBJECTID</th>\n",
              "      <td>0.992761</td>\n",
              "      <td>1.000000</td>\n",
              "      <td>-0.093950</td>\n",
              "      <td>0.077599</td>\n",
              "      <td>0.174545</td>\n",
              "      <td>-0.075092</td>\n",
              "      <td>-0.072926</td>\n",
              "      <td>-0.007067</td>\n",
              "      <td>0.181961</td>\n",
              "      <td>0.071457</td>\n",
              "      <td>0.081446</td>\n",
              "      <td>-0.043991</td>\n",
              "      <td>-0.071557</td>\n",
              "    </tr>\n",
              "    <tr>\n",
              "      <th>Population</th>\n",
              "      <td>-0.092566</td>\n",
              "      <td>-0.093950</td>\n",
              "      <td>1.000000</td>\n",
              "      <td>-0.023834</td>\n",
              "      <td>-0.064610</td>\n",
              "      <td>0.474681</td>\n",
              "      <td>0.552250</td>\n",
              "      <td>-0.006783</td>\n",
              "      <td>0.060376</td>\n",
              "      <td>0.085544</td>\n",
              "      <td>0.037740</td>\n",
              "      <td>0.019107</td>\n",
              "      <td>0.448557</td>\n",
              "    </tr>\n",
              "    <tr>\n",
              "      <th>PopDensity</th>\n",
              "      <td>0.073064</td>\n",
              "      <td>0.077599</td>\n",
              "      <td>-0.023834</td>\n",
              "      <td>1.000000</td>\n",
              "      <td>-0.008422</td>\n",
              "      <td>-0.035080</td>\n",
              "      <td>-0.035984</td>\n",
              "      <td>-0.220591</td>\n",
              "      <td>0.117491</td>\n",
              "      <td>-0.011308</td>\n",
              "      <td>0.593895</td>\n",
              "      <td>0.013110</td>\n",
              "      <td>-0.018953</td>\n",
              "    </tr>\n",
              "    <tr>\n",
              "      <th>AgingRatio</th>\n",
              "      <td>0.170015</td>\n",
              "      <td>0.174545</td>\n",
              "      <td>-0.064610</td>\n",
              "      <td>-0.008422</td>\n",
              "      <td>1.000000</td>\n",
              "      <td>0.063690</td>\n",
              "      <td>0.024548</td>\n",
              "      <td>0.032440</td>\n",
              "      <td>0.043279</td>\n",
              "      <td>0.068723</td>\n",
              "      <td>-0.030418</td>\n",
              "      <td>0.000455</td>\n",
              "      <td>-0.025333</td>\n",
              "    </tr>\n",
              "    <tr>\n",
              "      <th>ServicesHi</th>\n",
              "      <td>-0.071347</td>\n",
              "      <td>-0.075092</td>\n",
              "      <td>0.474681</td>\n",
              "      <td>-0.035080</td>\n",
              "      <td>0.063690</td>\n",
              "      <td>1.000000</td>\n",
              "      <td>0.743789</td>\n",
              "      <td>-0.023279</td>\n",
              "      <td>0.186772</td>\n",
              "      <td>0.217776</td>\n",
              "      <td>0.107386</td>\n",
              "      <td>0.058795</td>\n",
              "      <td>0.602538</td>\n",
              "    </tr>\n",
              "    <tr>\n",
              "      <th>HealthServ</th>\n",
              "      <td>-0.076995</td>\n",
              "      <td>-0.072926</td>\n",
              "      <td>0.552250</td>\n",
              "      <td>-0.035984</td>\n",
              "      <td>0.024548</td>\n",
              "      <td>0.743789</td>\n",
              "      <td>1.000000</td>\n",
              "      <td>-0.011301</td>\n",
              "      <td>0.090085</td>\n",
              "      <td>0.158605</td>\n",
              "      <td>0.114446</td>\n",
              "      <td>0.017930</td>\n",
              "      <td>0.648142</td>\n",
              "    </tr>\n",
              "    <tr>\n",
              "      <th>Landuse</th>\n",
              "      <td>-0.016601</td>\n",
              "      <td>-0.007067</td>\n",
              "      <td>-0.006783</td>\n",
              "      <td>-0.220591</td>\n",
              "      <td>0.032440</td>\n",
              "      <td>-0.023279</td>\n",
              "      <td>-0.011301</td>\n",
              "      <td>1.000000</td>\n",
              "      <td>0.060717</td>\n",
              "      <td>-0.090458</td>\n",
              "      <td>-0.231424</td>\n",
              "      <td>-0.063587</td>\n",
              "      <td>-0.037563</td>\n",
              "    </tr>\n",
              "    <tr>\n",
              "      <th>Commercial</th>\n",
              "      <td>0.179761</td>\n",
              "      <td>0.181961</td>\n",
              "      <td>0.060376</td>\n",
              "      <td>0.117491</td>\n",
              "      <td>0.043279</td>\n",
              "      <td>0.186772</td>\n",
              "      <td>0.090085</td>\n",
              "      <td>0.060717</td>\n",
              "      <td>1.000000</td>\n",
              "      <td>0.084989</td>\n",
              "      <td>0.198743</td>\n",
              "      <td>-0.036717</td>\n",
              "      <td>0.081685</td>\n",
              "    </tr>\n",
              "    <tr>\n",
              "      <th>RoadDensit</th>\n",
              "      <td>0.071330</td>\n",
              "      <td>0.071457</td>\n",
              "      <td>0.085544</td>\n",
              "      <td>-0.011308</td>\n",
              "      <td>0.068723</td>\n",
              "      <td>0.217776</td>\n",
              "      <td>0.158605</td>\n",
              "      <td>-0.090458</td>\n",
              "      <td>0.084989</td>\n",
              "      <td>1.000000</td>\n",
              "      <td>0.045631</td>\n",
              "      <td>-0.005565</td>\n",
              "      <td>0.115098</td>\n",
              "    </tr>\n",
              "    <tr>\n",
              "      <th>GreenAreas</th>\n",
              "      <td>0.089189</td>\n",
              "      <td>0.081446</td>\n",
              "      <td>0.037740</td>\n",
              "      <td>0.593895</td>\n",
              "      <td>-0.030418</td>\n",
              "      <td>0.107386</td>\n",
              "      <td>0.114446</td>\n",
              "      <td>-0.231424</td>\n",
              "      <td>0.198743</td>\n",
              "      <td>0.045631</td>\n",
              "      <td>1.000000</td>\n",
              "      <td>0.002035</td>\n",
              "      <td>0.149241</td>\n",
              "    </tr>\n",
              "    <tr>\n",
              "      <th>Open_spave</th>\n",
              "      <td>-0.050600</td>\n",
              "      <td>-0.043991</td>\n",
              "      <td>0.019107</td>\n",
              "      <td>0.013110</td>\n",
              "      <td>0.000455</td>\n",
              "      <td>0.058795</td>\n",
              "      <td>0.017930</td>\n",
              "      <td>-0.063587</td>\n",
              "      <td>-0.036717</td>\n",
              "      <td>-0.005565</td>\n",
              "      <td>0.002035</td>\n",
              "      <td>1.000000</td>\n",
              "      <td>-0.020008</td>\n",
              "    </tr>\n",
              "    <tr>\n",
              "      <th>CORONA__Ca</th>\n",
              "      <td>-0.062446</td>\n",
              "      <td>-0.071557</td>\n",
              "      <td>0.448557</td>\n",
              "      <td>-0.018953</td>\n",
              "      <td>-0.025333</td>\n",
              "      <td>0.602538</td>\n",
              "      <td>0.648142</td>\n",
              "      <td>-0.037563</td>\n",
              "      <td>0.081685</td>\n",
              "      <td>0.115098</td>\n",
              "      <td>0.149241</td>\n",
              "      <td>-0.020008</td>\n",
              "      <td>1.000000</td>\n",
              "    </tr>\n",
              "  </tbody>\n",
              "</table>\n",
              "</div>"
            ],
            "text/plain": [
              "                 FID  OBJECTID  Population  ...  GreenAreas  Open_spave  CORONA__Ca\n",
              "FID         1.000000  0.992761   -0.092566  ...    0.089189   -0.050600   -0.062446\n",
              "OBJECTID    0.992761  1.000000   -0.093950  ...    0.081446   -0.043991   -0.071557\n",
              "Population -0.092566 -0.093950    1.000000  ...    0.037740    0.019107    0.448557\n",
              "PopDensity  0.073064  0.077599   -0.023834  ...    0.593895    0.013110   -0.018953\n",
              "AgingRatio  0.170015  0.174545   -0.064610  ...   -0.030418    0.000455   -0.025333\n",
              "ServicesHi -0.071347 -0.075092    0.474681  ...    0.107386    0.058795    0.602538\n",
              "HealthServ -0.076995 -0.072926    0.552250  ...    0.114446    0.017930    0.648142\n",
              "Landuse    -0.016601 -0.007067   -0.006783  ...   -0.231424   -0.063587   -0.037563\n",
              "Commercial  0.179761  0.181961    0.060376  ...    0.198743   -0.036717    0.081685\n",
              "RoadDensit  0.071330  0.071457    0.085544  ...    0.045631   -0.005565    0.115098\n",
              "GreenAreas  0.089189  0.081446    0.037740  ...    1.000000    0.002035    0.149241\n",
              "Open_spave -0.050600 -0.043991    0.019107  ...    0.002035    1.000000   -0.020008\n",
              "CORONA__Ca -0.062446 -0.071557    0.448557  ...    0.149241   -0.020008    1.000000\n",
              "\n",
              "[13 rows x 13 columns]"
            ]
          },
          "metadata": {},
          "execution_count": 1560
        }
      ]
    },
    {
      "cell_type": "code",
      "metadata": {
        "id": "B2PBvBhJSNZ1"
      },
      "source": [
        "#redundant featur\n",
        "data.drop(['OBJECTID','ServicesHi','PopDensity','Open_spave','Commercial'], inplace=True, axis=1)"
      ],
      "execution_count": 1561,
      "outputs": []
    },
    {
      "cell_type": "code",
      "metadata": {
        "id": "zN88uzp5o31z"
      },
      "source": [
        "#irrelevant featurs\n",
        "data.drop(['NAMEAR','NAMEEN'], inplace=True, axis=1)"
      ],
      "execution_count": 1562,
      "outputs": []
    },
    {
      "cell_type": "code",
      "metadata": {
        "colab": {
          "base_uri": "https://localhost:8080/",
          "height": 206
        },
        "id": "qlzeLA9DqEXP",
        "outputId": "41c3e312-a766-4319-807f-ca58fb8cb5f1"
      },
      "source": [
        "# ---- Using The win - max feature scaling \n",
        "from sklearn import preprocessing \n",
        "scaler = preprocessing.MinMaxScaler(feature_range=(0,1))\n",
        "names= data.columns\n",
        "d = scaler.fit_transform(data)\n",
        "data =pd.DataFrame(d,columns=names)\n",
        "data.head()"
      ],
      "execution_count": 1563,
      "outputs": [
        {
          "output_type": "execute_result",
          "data": {
            "text/html": [
              "<div>\n",
              "<style scoped>\n",
              "    .dataframe tbody tr th:only-of-type {\n",
              "        vertical-align: middle;\n",
              "    }\n",
              "\n",
              "    .dataframe tbody tr th {\n",
              "        vertical-align: top;\n",
              "    }\n",
              "\n",
              "    .dataframe thead th {\n",
              "        text-align: right;\n",
              "    }\n",
              "</style>\n",
              "<table border=\"1\" class=\"dataframe\">\n",
              "  <thead>\n",
              "    <tr style=\"text-align: right;\">\n",
              "      <th></th>\n",
              "      <th>FID</th>\n",
              "      <th>CORONA__Ca</th>\n",
              "      <th>Population</th>\n",
              "      <th>AgingRatio</th>\n",
              "      <th>HealthServ</th>\n",
              "      <th>Landuse</th>\n",
              "      <th>RoadDensit</th>\n",
              "      <th>GreenAreas</th>\n",
              "    </tr>\n",
              "  </thead>\n",
              "  <tbody>\n",
              "    <tr>\n",
              "      <th>0</th>\n",
              "      <td>0.000000</td>\n",
              "      <td>1.000000</td>\n",
              "      <td>0.071018</td>\n",
              "      <td>0.074074</td>\n",
              "      <td>0.704225</td>\n",
              "      <td>0.556578</td>\n",
              "      <td>0.095306</td>\n",
              "      <td>0.230172</td>\n",
              "    </tr>\n",
              "    <tr>\n",
              "      <th>1</th>\n",
              "      <td>0.005263</td>\n",
              "      <td>0.019044</td>\n",
              "      <td>0.016415</td>\n",
              "      <td>0.174074</td>\n",
              "      <td>0.056338</td>\n",
              "      <td>0.463115</td>\n",
              "      <td>0.334694</td>\n",
              "      <td>0.000000</td>\n",
              "    </tr>\n",
              "    <tr>\n",
              "      <th>2</th>\n",
              "      <td>0.010526</td>\n",
              "      <td>0.008631</td>\n",
              "      <td>0.021107</td>\n",
              "      <td>0.185185</td>\n",
              "      <td>0.084507</td>\n",
              "      <td>0.563525</td>\n",
              "      <td>0.065306</td>\n",
              "      <td>0.000000</td>\n",
              "    </tr>\n",
              "    <tr>\n",
              "      <th>3</th>\n",
              "      <td>0.015789</td>\n",
              "      <td>0.024798</td>\n",
              "      <td>0.082547</td>\n",
              "      <td>0.095519</td>\n",
              "      <td>0.211268</td>\n",
              "      <td>0.538627</td>\n",
              "      <td>0.214408</td>\n",
              "      <td>0.007785</td>\n",
              "    </tr>\n",
              "    <tr>\n",
              "      <th>4</th>\n",
              "      <td>0.021053</td>\n",
              "      <td>0.057268</td>\n",
              "      <td>0.081044</td>\n",
              "      <td>0.122222</td>\n",
              "      <td>0.239437</td>\n",
              "      <td>0.471311</td>\n",
              "      <td>0.159184</td>\n",
              "      <td>0.465517</td>\n",
              "    </tr>\n",
              "  </tbody>\n",
              "</table>\n",
              "</div>"
            ],
            "text/plain": [
              "        FID  CORONA__Ca  Population  ...   Landuse  RoadDensit  GreenAreas\n",
              "0  0.000000    1.000000    0.071018  ...  0.556578    0.095306    0.230172\n",
              "1  0.005263    0.019044    0.016415  ...  0.463115    0.334694    0.000000\n",
              "2  0.010526    0.008631    0.021107  ...  0.563525    0.065306    0.000000\n",
              "3  0.015789    0.024798    0.082547  ...  0.538627    0.214408    0.007785\n",
              "4  0.021053    0.057268    0.081044  ...  0.471311    0.159184    0.465517\n",
              "\n",
              "[5 rows x 8 columns]"
            ]
          },
          "metadata": {},
          "execution_count": 1563
        }
      ]
    },
    {
      "cell_type": "code",
      "metadata": {
        "id": "WXjvM_pD2-H-"
      },
      "source": [
        "X2 = data[['Population','AgingRatio','HealthServ','Landuse','RoadDensit','GreenAreas']]\n",
        "y2 = data['CORONA__Ca']\n",
        "X_train2, X_test2, y_train2, y_test2 = train_test_split(X2,y2,test_size=0.1, random_state=10) "
      ],
      "execution_count": 1564,
      "outputs": []
    },
    {
      "cell_type": "code",
      "metadata": {
        "colab": {
          "base_uri": "https://localhost:8080/"
        },
        "id": "EHNK205a3Yc-",
        "outputId": "d846d53f-2ca1-4605-f6a6-0ce2f71ad3aa"
      },
      "source": [
        "#predict Model\n",
        "clf2 = LinearRegression()\n",
        "clf2.fit(X_train2, y_train2)"
      ],
      "execution_count": 1565,
      "outputs": [
        {
          "output_type": "execute_result",
          "data": {
            "text/plain": [
              "LinearRegression()"
            ]
          },
          "metadata": {},
          "execution_count": 1565
        }
      ]
    },
    {
      "cell_type": "code",
      "metadata": {
        "colab": {
          "base_uri": "https://localhost:8080/"
        },
        "id": "urLG4jyYz-ZM",
        "outputId": "d083ee35-b252-4fee-b94e-484ca66f2258"
      },
      "source": [
        "clf2.predict(X_test2)\n",
        "clf2.score(X_test2, y_test2)"
      ],
      "execution_count": 1566,
      "outputs": [
        {
          "output_type": "execute_result",
          "data": {
            "text/plain": [
              "0.8014578576528563"
            ]
          },
          "metadata": {},
          "execution_count": 1566
        }
      ]
    },
    {
      "cell_type": "code",
      "metadata": {
        "colab": {
          "base_uri": "https://localhost:8080/"
        },
        "id": "VgvhIGXnt932",
        "outputId": "54b0ade3-f3b1-4a5e-8cc1-6b72a48e81a8"
      },
      "source": [
        "# model evaluation using the R-squared\n",
        "import numpy\n",
        "\n",
        "corr_matrix = numpy.corrcoef(y_test2, clf2.predict(X_test2))\n",
        "corr = corr_matrix[0,1]\n",
        "R_sq = corr**2\n",
        "\n",
        "print(R_sq)\n"
      ],
      "execution_count": 1567,
      "outputs": [
        {
          "output_type": "stream",
          "name": "stdout",
          "text": [
            "0.8015494269852564\n"
          ]
        }
      ]
    }
  ]
}