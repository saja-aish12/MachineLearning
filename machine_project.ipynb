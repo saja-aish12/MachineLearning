{
  "nbformat": 4,
  "nbformat_minor": 0,
  "metadata": {
    "colab": {
      "name": "machine_project.ipynb",
      "provenance": [],
      "collapsed_sections": [],
      "include_colab_link": true
    },
    "kernelspec": {
      "display_name": "Python 3",
      "name": "python3"
    },
    "language_info": {
      "name": "python"
    }
  },
  "cells": [
    {
      "cell_type": "markdown",
      "metadata": {
        "id": "view-in-github",
        "colab_type": "text"
      },
      "source": [
        "<a href=\"https://colab.research.google.com/github/saja-aish12/MachineLearningProject/blob/master/machine_project.ipynb\" target=\"_parent\"><img src=\"https://colab.research.google.com/assets/colab-badge.svg\" alt=\"Open In Colab\"/></a>"
      ]
    },
    {
      "cell_type": "code",
      "metadata": {
        "id": "fp7fQ3dxk1TQ"
      },
      "source": [
        "import pandas as pd\n",
        "import seaborn as sns\n",
        "sns.set(color_codes=True)\n",
        "import sklearn.linear_model\n",
        "\n",
        "import numpy as np\n",
        "import pandas as pd\n",
        "import matplotlib.pyplot as plt\n",
        "\n",
        "from mpl_toolkits.mplot3d import Axes3D\n",
        "from sklearn.datasets import load_breast_cancer\n",
        "from sklearn.decomposition import PCA\n",
        "from sklearn import datasets\n",
        "from sklearn.preprocessing import StandardScaler\n",
        "\n",
        "from sklearn.model_selection import train_test_split\n",
        "from sklearn import datasets\n",
        "from sklearn.metrics import f1_score, classification_report, plot_confusion_matrix\n",
        "# %matplotlib notebook\n"
      ],
      "execution_count": 944,
      "outputs": []
    },
    {
      "cell_type": "code",
      "metadata": {
        "id": "8BbQvsvAk5ej"
      },
      "source": [
        "data = pd.read_csv('WB.csv')"
      ],
      "execution_count": 945,
      "outputs": []
    },
    {
      "cell_type": "code",
      "metadata": {
        "colab": {
          "base_uri": "https://localhost:8080/",
          "height": 295
        },
        "id": "MFDrGK2_k7bJ",
        "outputId": "18dfda15-925c-4eea-df36-4222ccf07851"
      },
      "source": [
        "data.head()"
      ],
      "execution_count": 946,
      "outputs": [
        {
          "output_type": "execute_result",
          "data": {
            "text/html": [
              "<div>\n",
              "<style scoped>\n",
              "    .dataframe tbody tr th:only-of-type {\n",
              "        vertical-align: middle;\n",
              "    }\n",
              "\n",
              "    .dataframe tbody tr th {\n",
              "        vertical-align: top;\n",
              "    }\n",
              "\n",
              "    .dataframe thead th {\n",
              "        text-align: right;\n",
              "    }\n",
              "</style>\n",
              "<table border=\"1\" class=\"dataframe\">\n",
              "  <thead>\n",
              "    <tr style=\"text-align: right;\">\n",
              "      <th></th>\n",
              "      <th>FID</th>\n",
              "      <th>OBJECTID</th>\n",
              "      <th>NAMEAR</th>\n",
              "      <th>NAMEEN</th>\n",
              "      <th>CORONA__Ca</th>\n",
              "      <th>Population</th>\n",
              "      <th>PopDensity</th>\n",
              "      <th>AgingRatio</th>\n",
              "      <th>ServicesHi</th>\n",
              "      <th>HealthServ</th>\n",
              "      <th>Landuse</th>\n",
              "      <th>Commercial</th>\n",
              "      <th>RoadDensit</th>\n",
              "      <th>GreenAreas</th>\n",
              "      <th>Open_spave</th>\n",
              "    </tr>\n",
              "  </thead>\n",
              "  <tbody>\n",
              "    <tr>\n",
              "      <th>0</th>\n",
              "      <td>0</td>\n",
              "      <td>12</td>\n",
              "      <td>??????</td>\n",
              "      <td>Hebron (Al Khalil)</td>\n",
              "      <td>7299</td>\n",
              "      <td>15988</td>\n",
              "      <td>5.92</td>\n",
              "      <td>0.02000</td>\n",
              "      <td>5</td>\n",
              "      <td>100</td>\n",
              "      <td>2.7861</td>\n",
              "      <td>0.001750</td>\n",
              "      <td>0.04670</td>\n",
              "      <td>0.080100</td>\n",
              "      <td>0.8651</td>\n",
              "    </tr>\n",
              "    <tr>\n",
              "      <th>1</th>\n",
              "      <td>1</td>\n",
              "      <td>15</td>\n",
              "      <td>??? ?????</td>\n",
              "      <td>Deir Istiya</td>\n",
              "      <td>139</td>\n",
              "      <td>3930</td>\n",
              "      <td>4.20</td>\n",
              "      <td>0.04700</td>\n",
              "      <td>1</td>\n",
              "      <td>8</td>\n",
              "      <td>2.3300</td>\n",
              "      <td>0.004900</td>\n",
              "      <td>0.16400</td>\n",
              "      <td>0.000000</td>\n",
              "      <td>0.8800</td>\n",
              "    </tr>\n",
              "    <tr>\n",
              "      <th>2</th>\n",
              "      <td>2</td>\n",
              "      <td>21</td>\n",
              "      <td>????</td>\n",
              "      <td>Battir</td>\n",
              "      <td>63</td>\n",
              "      <td>4966</td>\n",
              "      <td>3.00</td>\n",
              "      <td>0.05000</td>\n",
              "      <td>1</td>\n",
              "      <td>12</td>\n",
              "      <td>2.8200</td>\n",
              "      <td>0.000000</td>\n",
              "      <td>0.03200</td>\n",
              "      <td>0.000000</td>\n",
              "      <td>0.9100</td>\n",
              "    </tr>\n",
              "    <tr>\n",
              "      <th>3</th>\n",
              "      <td>3</td>\n",
              "      <td>23</td>\n",
              "      <td>?????</td>\n",
              "      <td>Surif</td>\n",
              "      <td>181</td>\n",
              "      <td>18534</td>\n",
              "      <td>3.70</td>\n",
              "      <td>0.02579</td>\n",
              "      <td>1</td>\n",
              "      <td>30</td>\n",
              "      <td>2.6985</td>\n",
              "      <td>0.002074</td>\n",
              "      <td>0.10506</td>\n",
              "      <td>0.002709</td>\n",
              "      <td>0.9201</td>\n",
              "    </tr>\n",
              "    <tr>\n",
              "      <th>4</th>\n",
              "      <td>4</td>\n",
              "      <td>24</td>\n",
              "      <td>??? ???</td>\n",
              "      <td>Beit Ummar</td>\n",
              "      <td>418</td>\n",
              "      <td>18202</td>\n",
              "      <td>2.00</td>\n",
              "      <td>0.03300</td>\n",
              "      <td>2</td>\n",
              "      <td>34</td>\n",
              "      <td>2.3700</td>\n",
              "      <td>0.003000</td>\n",
              "      <td>0.07800</td>\n",
              "      <td>0.162000</td>\n",
              "      <td>0.8940</td>\n",
              "    </tr>\n",
              "  </tbody>\n",
              "</table>\n",
              "</div>"
            ],
            "text/plain": [
              "   FID  OBJECTID     NAMEAR  ... RoadDensit  GreenAreas  Open_spave\n",
              "0    0        12     ??????  ...    0.04670    0.080100      0.8651\n",
              "1    1        15  ??? ?????  ...    0.16400    0.000000      0.8800\n",
              "2    2        21       ????  ...    0.03200    0.000000      0.9100\n",
              "3    3        23      ?????  ...    0.10506    0.002709      0.9201\n",
              "4    4        24    ??? ???  ...    0.07800    0.162000      0.8940\n",
              "\n",
              "[5 rows x 15 columns]"
            ]
          },
          "metadata": {},
          "execution_count": 946
        }
      ]
    },
    {
      "cell_type": "code",
      "metadata": {
        "colab": {
          "base_uri": "https://localhost:8080/"
        },
        "id": "XFYaYeU-T8L6",
        "outputId": "1f0b8875-8060-4c64-95e3-3c5c2293721c"
      },
      "source": [
        "data.count"
      ],
      "execution_count": 947,
      "outputs": [
        {
          "output_type": "execute_result",
          "data": {
            "text/plain": [
              "<bound method DataFrame.count of      FID  OBJECTID        NAMEAR  ... RoadDensit  GreenAreas  Open_spave\n",
              "0      0        12        ??????  ...    0.04670    0.080100      0.8651\n",
              "1      1        15     ??? ?????  ...    0.16400    0.000000      0.8800\n",
              "2      2        21          ????  ...    0.03200    0.000000      0.9100\n",
              "3      3        23         ?????  ...    0.10506    0.002709      0.9201\n",
              "4      4        24       ??? ???  ...    0.07800    0.162000      0.8940\n",
              "..   ...       ...           ...  ...        ...         ...         ...\n",
              "186  186       578  ??? ??? ????  ...    0.00000    0.000000      0.8300\n",
              "187  187       579      ??? ????  ...    0.09500    0.000000      0.8300\n",
              "188  188       580        ??????  ...    0.13600    0.001200      0.9600\n",
              "189  189       581       ??? ???  ...    0.18000    0.020000      0.9000\n",
              "190  190       584      ??? ????  ...    0.48000    0.000000      0.7100\n",
              "\n",
              "[191 rows x 15 columns]>"
            ]
          },
          "metadata": {},
          "execution_count": 947
        }
      ]
    },
    {
      "cell_type": "code",
      "metadata": {
        "id": "tII5SmBAapN5"
      },
      "source": [
        "from sklearn.preprocessing import StandardScaler\n",
        "X = data[['Population','PopDensity','AgingRatio','ServicesHi','HealthServ','Landuse','Commercial','RoadDensit','GreenAreas','Open_spave']]\n",
        "y = data['CORONA__Ca']\n",
        "X_train, X_test, y_train, y_test = train_test_split(X,y,test_size=0.2, random_state=10) \n",
        "\n",
        "#x = pd.DataFrame(x)"
      ],
      "execution_count": 948,
      "outputs": []
    },
    {
      "cell_type": "code",
      "metadata": {
        "colab": {
          "base_uri": "https://localhost:8080/",
          "height": 206
        },
        "id": "283atnHfxqgY",
        "outputId": "d201c960-45e7-4e5d-ad2c-bf29901d1bab"
      },
      "source": [
        "from sklearn.decomposition import PCA\n",
        "\n",
        "pca = PCA(n_components=3)\n",
        "\n",
        "principalComponents = pca.fit_transform(X_train)\n",
        "\n",
        "principalDf = pd.DataFrame(data = principalComponents\n",
        "             , columns = ['principal component 1', 'principal component 2','principal component 3'])\n",
        "\n",
        "principalComponents = pd.DataFrame(principalComponents)#\n",
        "principalComponents.head()\n",
        "\n",
        "#x_pca = pca.fit_transform(x)\n",
        "#x_pca = pd.DataFrame(x_pca)\n",
        "#x_pca.head()"
      ],
      "execution_count": 949,
      "outputs": [
        {
          "output_type": "execute_result",
          "data": {
            "text/html": [
              "<div>\n",
              "<style scoped>\n",
              "    .dataframe tbody tr th:only-of-type {\n",
              "        vertical-align: middle;\n",
              "    }\n",
              "\n",
              "    .dataframe tbody tr th {\n",
              "        vertical-align: top;\n",
              "    }\n",
              "\n",
              "    .dataframe thead th {\n",
              "        text-align: right;\n",
              "    }\n",
              "</style>\n",
              "<table border=\"1\" class=\"dataframe\">\n",
              "  <thead>\n",
              "    <tr style=\"text-align: right;\">\n",
              "      <th></th>\n",
              "      <th>0</th>\n",
              "      <th>1</th>\n",
              "      <th>2</th>\n",
              "    </tr>\n",
              "  </thead>\n",
              "  <tbody>\n",
              "    <tr>\n",
              "      <th>0</th>\n",
              "      <td>-5705.137255</td>\n",
              "      <td>-43.094877</td>\n",
              "      <td>0.472017</td>\n",
              "    </tr>\n",
              "    <tr>\n",
              "      <th>1</th>\n",
              "      <td>9176.808543</td>\n",
              "      <td>-7.667394</td>\n",
              "      <td>-20.917780</td>\n",
              "    </tr>\n",
              "    <tr>\n",
              "      <th>2</th>\n",
              "      <td>3217.850324</td>\n",
              "      <td>-25.194410</td>\n",
              "      <td>-2.355285</td>\n",
              "    </tr>\n",
              "    <tr>\n",
              "      <th>3</th>\n",
              "      <td>6494.851957</td>\n",
              "      <td>-18.606996</td>\n",
              "      <td>0.934261</td>\n",
              "    </tr>\n",
              "    <tr>\n",
              "      <th>4</th>\n",
              "      <td>-1826.151183</td>\n",
              "      <td>-30.615117</td>\n",
              "      <td>-1.102480</td>\n",
              "    </tr>\n",
              "  </tbody>\n",
              "</table>\n",
              "</div>"
            ],
            "text/plain": [
              "             0          1          2\n",
              "0 -5705.137255 -43.094877   0.472017\n",
              "1  9176.808543  -7.667394 -20.917780\n",
              "2  3217.850324 -25.194410  -2.355285\n",
              "3  6494.851957 -18.606996   0.934261\n",
              "4 -1826.151183 -30.615117  -1.102480"
            ]
          },
          "metadata": {},
          "execution_count": 949
        }
      ]
    },
    {
      "cell_type": "code",
      "metadata": {
        "colab": {
          "base_uri": "https://localhost:8080/",
          "height": 206
        },
        "id": "iOxiPzq4VyFi",
        "outputId": "547b6453-5ff8-4073-a3a2-56563b115eb5"
      },
      "source": [
        "finalDf = pd.concat([principalDf,y_train], axis = 1)\n",
        "finalDf = pd.DataFrame(finalDf)#\n",
        "finalDf.head()#"
      ],
      "execution_count": 950,
      "outputs": [
        {
          "output_type": "execute_result",
          "data": {
            "text/html": [
              "<div>\n",
              "<style scoped>\n",
              "    .dataframe tbody tr th:only-of-type {\n",
              "        vertical-align: middle;\n",
              "    }\n",
              "\n",
              "    .dataframe tbody tr th {\n",
              "        vertical-align: top;\n",
              "    }\n",
              "\n",
              "    .dataframe thead th {\n",
              "        text-align: right;\n",
              "    }\n",
              "</style>\n",
              "<table border=\"1\" class=\"dataframe\">\n",
              "  <thead>\n",
              "    <tr style=\"text-align: right;\">\n",
              "      <th></th>\n",
              "      <th>principal component 1</th>\n",
              "      <th>principal component 2</th>\n",
              "      <th>principal component 3</th>\n",
              "      <th>CORONA__Ca</th>\n",
              "    </tr>\n",
              "  </thead>\n",
              "  <tbody>\n",
              "    <tr>\n",
              "      <th>0</th>\n",
              "      <td>-5705.137255</td>\n",
              "      <td>-43.094877</td>\n",
              "      <td>0.472017</td>\n",
              "      <td>7299.0</td>\n",
              "    </tr>\n",
              "    <tr>\n",
              "      <th>1</th>\n",
              "      <td>9176.808543</td>\n",
              "      <td>-7.667394</td>\n",
              "      <td>-20.917780</td>\n",
              "      <td>NaN</td>\n",
              "    </tr>\n",
              "    <tr>\n",
              "      <th>2</th>\n",
              "      <td>3217.850324</td>\n",
              "      <td>-25.194410</td>\n",
              "      <td>-2.355285</td>\n",
              "      <td>NaN</td>\n",
              "    </tr>\n",
              "    <tr>\n",
              "      <th>3</th>\n",
              "      <td>6494.851957</td>\n",
              "      <td>-18.606996</td>\n",
              "      <td>0.934261</td>\n",
              "      <td>181.0</td>\n",
              "    </tr>\n",
              "    <tr>\n",
              "      <th>4</th>\n",
              "      <td>-1826.151183</td>\n",
              "      <td>-30.615117</td>\n",
              "      <td>-1.102480</td>\n",
              "      <td>418.0</td>\n",
              "    </tr>\n",
              "  </tbody>\n",
              "</table>\n",
              "</div>"
            ],
            "text/plain": [
              "   principal component 1  ...  CORONA__Ca\n",
              "0           -5705.137255  ...      7299.0\n",
              "1            9176.808543  ...         NaN\n",
              "2            3217.850324  ...         NaN\n",
              "3            6494.851957  ...       181.0\n",
              "4           -1826.151183  ...       418.0\n",
              "\n",
              "[5 rows x 4 columns]"
            ]
          },
          "metadata": {},
          "execution_count": 950
        }
      ]
    },
    {
      "cell_type": "code",
      "metadata": {
        "colab": {
          "base_uri": "https://localhost:8080/",
          "height": 254
        },
        "id": "bnSJZqOE7Bqb",
        "outputId": "f9e58965-c330-4d00-e7f1-5970e06ec311"
      },
      "source": [
        "ax = plt.axes(projection='3d')\n",
        "\n",
        "# Data for three-dimensional scattered points\n",
        "xdata = finalDf['principal component 1']\n",
        "ydata = finalDf['principal component 2']\n",
        "zdata = finalDf['principal component 3']\n",
        "#ax.scatter3D(xdata, ydata, zdata)\n",
        "scatter_plot = ax.scatter3D(xdata, ydata, zdata,c=finalDf['CORONA__Ca'])\n",
        "plt.colorbar(scatter_plot)\n",
        "plt.show()"
      ],
      "execution_count": 951,
      "outputs": [
        {
          "output_type": "display_data",
          "data": {
            "image/png": "[encoded data removed]",
            "text/plain": [
              "<Figure size 432x288 with 2 Axes>"
            ]
          },
          "metadata": {}
        }
      ]
    },
    {
      "cell_type": "code",
      "metadata": {
        "colab": {
          "base_uri": "https://localhost:8080/"
        },
        "id": "D3iVzSjCkRrf",
        "outputId": "03dabbfb-3c5f-4a4b-c903-d8ece655027b"
      },
      "source": [
        "from sklearn.linear_model import LinearRegression\n",
        "clf = LinearRegression()\n",
        "clf.fit(X_train, y_train)"
      ],
      "execution_count": 952,
      "outputs": [
        {
          "output_type": "execute_result",
          "data": {
            "text/plain": [
              "LinearRegression()"
            ]
          },
          "metadata": {},
          "execution_count": 952
        }
      ]
    },
    {
      "cell_type": "code",
      "metadata": {
        "id": "J0G2PscIosLT"
      },
      "source": [
        "#train_f1 = []\n",
        "#test_f1 = []\n",
        "#from sklearn.neighbors import KNeighborsClassifier\n",
        "#knn = KNeighborsClassifier()\n",
        "#knn.fit(X_train, y_train)\n",
        "#y_pred_train = knn.predict(X_train)\n",
        "#y_pred_test = knn.predict(X_test)\n",
        "#train_f1.append(f1_score(y_train, y_pred_train))\n",
        "#test_f1.append(f1_score(y_test, y_pred_test))\n"
      ],
      "execution_count": 953,
      "outputs": []
    },
    {
      "cell_type": "code",
      "metadata": {
        "colab": {
          "base_uri": "https://localhost:8080/"
        },
        "id": "cukNKMFikeOm",
        "outputId": "89bd0946-6e5e-40d6-d0ec-291d7691ed28"
      },
      "source": [
        "clf.predict(X_test)"
      ],
      "execution_count": 954,
      "outputs": [
        {
          "output_type": "execute_result",
          "data": {
            "text/plain": [
              "array([ 3.25881952e+00,  6.04062654e+02, -5.48385281e+01,  6.14527988e+02,\n",
              "       -2.61441133e+01, -3.14207501e+01,  3.53186681e+02,  6.01482047e+01,\n",
              "        1.16911793e+02, -2.68119230e+01, -6.53224478e+01,  4.49508285e+00,\n",
              "        2.73526366e+01, -5.92733873e+01, -8.08809391e+01, -3.54873521e+01,\n",
              "        9.61804829e+02,  3.23819930e+01, -2.25550012e+02,  1.02329340e+03,\n",
              "       -1.03356654e+02, -4.46115440e+01,  1.20101280e+02,  4.54114716e+01,\n",
              "        2.52878144e+03,  4.10994285e+01, -4.65682325e+01,  4.09004271e+02,\n",
              "        2.32109053e+02, -6.79856694e-01,  1.60097330e+02, -1.22575165e+01,\n",
              "        1.42526499e+02, -1.53596917e+02,  8.31921917e+01,  2.70737609e+03,\n",
              "        4.31411402e+02,  2.85362052e+01,  9.01869969e+02])"
            ]
          },
          "metadata": {},
          "execution_count": 954
        }
      ]
    },
    {
      "cell_type": "code",
      "metadata": {
        "colab": {
          "base_uri": "https://localhost:8080/"
        },
        "id": "IDVgcv8Uk-CF",
        "outputId": "5a3475c8-6c51-42bd-84e7-fcfd8f0d3ec3"
      },
      "source": [
        "clf.score(X_test, y_test)"
      ],
      "execution_count": 955,
      "outputs": [
        {
          "output_type": "execute_result",
          "data": {
            "text/plain": [
              "0.584225626010759"
            ]
          },
          "metadata": {},
          "execution_count": 955
        }
      ]
    },
    {
      "cell_type": "code",
      "metadata": {
        "colab": {
          "base_uri": "https://localhost:8080/"
        },
        "id": "AQiHVUauvTA1",
        "outputId": "6655edb3-6853-4fdb-f024-15bd8cc846da"
      },
      "source": [
        "import numpy\n",
        "\n",
        "corr_matrix = numpy.corrcoef(y_test, clf.predict(X_test))\n",
        "corr = corr_matrix[0,1]\n",
        "R_sq = corr**2\n",
        "\n",
        "print(R_sq)"
      ],
      "execution_count": 956,
      "outputs": [
        {
          "output_type": "stream",
          "name": "stdout",
          "text": [
            "0.6053383738551084\n"
          ]
        }
      ]
    },
    {
      "cell_type": "code",
      "metadata": {
        "colab": {
          "base_uri": "https://localhost:8080/"
        },
        "id": "9HlwcnNC4UV3",
        "outputId": "a50555dd-2684-4482-d02d-5b6e1c40c313"
      },
      "source": [
        "#Importing required libraries\n",
        "from sklearn.datasets import load_breast_cancer\n",
        "import pandas as pd\n",
        "from sklearn.model_selection import KFold \n",
        "from sklearn.linear_model import LogisticRegression\n",
        "from sklearn.metrics import accuracy_score\n",
        " \n",
        "\n",
        " \n",
        "#Implementing cross validation\n",
        " \n",
        "k = 5\n",
        "kf = KFold(n_splits=k, random_state=None)\n",
        "model = LogisticRegression(solver= 'liblinear')\n",
        " \n",
        "acc_score = []\n",
        " \n",
        "for train_index , test_index in kf.split(X):\n",
        "    X_train , X_test = X.iloc[train_index,:],X.iloc[test_index,:]\n",
        "    y_train , y_test = y[train_index] , y[test_index]\n",
        "     \n",
        "    model.fit(X_train,y_train)\n",
        "    pred_values = model.predict(X_test)\n",
        "     \n",
        "    acc = accuracy_score(pred_values , y_test)\n",
        "    acc_score.append(acc)\n",
        "     \n",
        "avg_acc_score = sum(acc_score)/k\n",
        " \n",
        "print('accuracy of each fold - {}'.format(acc_score))\n",
        "print('Avg accuracy : {}'.format(avg_acc_score))\n"
      ],
      "execution_count": 957,
      "outputs": [
        {
          "output_type": "stream",
          "name": "stderr",
          "text": [
            "/usr/local/lib/python3.7/dist-packages/sklearn/svm/_base.py:1208: ConvergenceWarning: Liblinear failed to converge, increase the number of iterations.\n",
            "  ConvergenceWarning,\n",
            "/usr/local/lib/python3.7/dist-packages/sklearn/svm/_base.py:1208: ConvergenceWarning: Liblinear failed to converge, increase the number of iterations.\n",
            "  ConvergenceWarning,\n"
          ]
        },
        {
          "output_type": "stream",
          "name": "stdout",
          "text": [
            "accuracy of each fold - [0.0, 0.02631578947368421, 0.0, 0.07894736842105263, 0.0]\n",
            "Avg accuracy : 0.021052631578947368\n"
          ]
        }
      ]
    },
    {
      "cell_type": "code",
      "metadata": {
        "id": "EmT5tBC4usi-"
      },
      "source": [
        "#####################################PART_2###########################################################"
      ],
      "execution_count": 958,
      "outputs": []
    },
    {
      "cell_type": "code",
      "metadata": {
        "colab": {
          "base_uri": "https://localhost:8080/",
          "height": 295
        },
        "id": "fyKlS-s1TDKY",
        "outputId": "a5ec33e9-399f-4b08-ab04-06fcc9164392"
      },
      "source": [
        "#missing__NAN\n",
        "data.dropna(inplace = True)\n",
        "data.head()"
      ],
      "execution_count": 959,
      "outputs": [
        {
          "output_type": "execute_result",
          "data": {
            "text/html": [
              "<div>\n",
              "<style scoped>\n",
              "    .dataframe tbody tr th:only-of-type {\n",
              "        vertical-align: middle;\n",
              "    }\n",
              "\n",
              "    .dataframe tbody tr th {\n",
              "        vertical-align: top;\n",
              "    }\n",
              "\n",
              "    .dataframe thead th {\n",
              "        text-align: right;\n",
              "    }\n",
              "</style>\n",
              "<table border=\"1\" class=\"dataframe\">\n",
              "  <thead>\n",
              "    <tr style=\"text-align: right;\">\n",
              "      <th></th>\n",
              "      <th>FID</th>\n",
              "      <th>OBJECTID</th>\n",
              "      <th>NAMEAR</th>\n",
              "      <th>NAMEEN</th>\n",
              "      <th>CORONA__Ca</th>\n",
              "      <th>Population</th>\n",
              "      <th>PopDensity</th>\n",
              "      <th>AgingRatio</th>\n",
              "      <th>ServicesHi</th>\n",
              "      <th>HealthServ</th>\n",
              "      <th>Landuse</th>\n",
              "      <th>Commercial</th>\n",
              "      <th>RoadDensit</th>\n",
              "      <th>GreenAreas</th>\n",
              "      <th>Open_spave</th>\n",
              "    </tr>\n",
              "  </thead>\n",
              "  <tbody>\n",
              "    <tr>\n",
              "      <th>0</th>\n",
              "      <td>0</td>\n",
              "      <td>12</td>\n",
              "      <td>??????</td>\n",
              "      <td>Hebron (Al Khalil)</td>\n",
              "      <td>7299</td>\n",
              "      <td>15988</td>\n",
              "      <td>5.92</td>\n",
              "      <td>0.02000</td>\n",
              "      <td>5</td>\n",
              "      <td>100</td>\n",
              "      <td>2.7861</td>\n",
              "      <td>0.001750</td>\n",
              "      <td>0.04670</td>\n",
              "      <td>0.080100</td>\n",
              "      <td>0.8651</td>\n",
              "    </tr>\n",
              "    <tr>\n",
              "      <th>1</th>\n",
              "      <td>1</td>\n",
              "      <td>15</td>\n",
              "      <td>??? ?????</td>\n",
              "      <td>Deir Istiya</td>\n",
              "      <td>139</td>\n",
              "      <td>3930</td>\n",
              "      <td>4.20</td>\n",
              "      <td>0.04700</td>\n",
              "      <td>1</td>\n",
              "      <td>8</td>\n",
              "      <td>2.3300</td>\n",
              "      <td>0.004900</td>\n",
              "      <td>0.16400</td>\n",
              "      <td>0.000000</td>\n",
              "      <td>0.8800</td>\n",
              "    </tr>\n",
              "    <tr>\n",
              "      <th>2</th>\n",
              "      <td>2</td>\n",
              "      <td>21</td>\n",
              "      <td>????</td>\n",
              "      <td>Battir</td>\n",
              "      <td>63</td>\n",
              "      <td>4966</td>\n",
              "      <td>3.00</td>\n",
              "      <td>0.05000</td>\n",
              "      <td>1</td>\n",
              "      <td>12</td>\n",
              "      <td>2.8200</td>\n",
              "      <td>0.000000</td>\n",
              "      <td>0.03200</td>\n",
              "      <td>0.000000</td>\n",
              "      <td>0.9100</td>\n",
              "    </tr>\n",
              "    <tr>\n",
              "      <th>3</th>\n",
              "      <td>3</td>\n",
              "      <td>23</td>\n",
              "      <td>?????</td>\n",
              "      <td>Surif</td>\n",
              "      <td>181</td>\n",
              "      <td>18534</td>\n",
              "      <td>3.70</td>\n",
              "      <td>0.02579</td>\n",
              "      <td>1</td>\n",
              "      <td>30</td>\n",
              "      <td>2.6985</td>\n",
              "      <td>0.002074</td>\n",
              "      <td>0.10506</td>\n",
              "      <td>0.002709</td>\n",
              "      <td>0.9201</td>\n",
              "    </tr>\n",
              "    <tr>\n",
              "      <th>4</th>\n",
              "      <td>4</td>\n",
              "      <td>24</td>\n",
              "      <td>??? ???</td>\n",
              "      <td>Beit Ummar</td>\n",
              "      <td>418</td>\n",
              "      <td>18202</td>\n",
              "      <td>2.00</td>\n",
              "      <td>0.03300</td>\n",
              "      <td>2</td>\n",
              "      <td>34</td>\n",
              "      <td>2.3700</td>\n",
              "      <td>0.003000</td>\n",
              "      <td>0.07800</td>\n",
              "      <td>0.162000</td>\n",
              "      <td>0.8940</td>\n",
              "    </tr>\n",
              "  </tbody>\n",
              "</table>\n",
              "</div>"
            ],
            "text/plain": [
              "   FID  OBJECTID     NAMEAR  ... RoadDensit  GreenAreas  Open_spave\n",
              "0    0        12     ??????  ...    0.04670    0.080100      0.8651\n",
              "1    1        15  ??? ?????  ...    0.16400    0.000000      0.8800\n",
              "2    2        21       ????  ...    0.03200    0.000000      0.9100\n",
              "3    3        23      ?????  ...    0.10506    0.002709      0.9201\n",
              "4    4        24    ??? ???  ...    0.07800    0.162000      0.8940\n",
              "\n",
              "[5 rows x 15 columns]"
            ]
          },
          "metadata": {},
          "execution_count": 959
        }
      ]
    },
    {
      "cell_type": "code",
      "metadata": {
        "colab": {
          "base_uri": "https://localhost:8080/"
        },
        "id": "KIv3dhoqTwOp",
        "outputId": "df57e0ea-8110-4296-b985-33941bd121ec"
      },
      "source": [
        "data.count"
      ],
      "execution_count": 960,
      "outputs": [
        {
          "output_type": "execute_result",
          "data": {
            "text/plain": [
              "<bound method DataFrame.count of      FID  OBJECTID        NAMEAR  ... RoadDensit  GreenAreas  Open_spave\n",
              "0      0        12        ??????  ...    0.04670    0.080100      0.8651\n",
              "1      1        15     ??? ?????  ...    0.16400    0.000000      0.8800\n",
              "2      2        21          ????  ...    0.03200    0.000000      0.9100\n",
              "3      3        23         ?????  ...    0.10506    0.002709      0.9201\n",
              "4      4        24       ??? ???  ...    0.07800    0.162000      0.8940\n",
              "..   ...       ...           ...  ...        ...         ...         ...\n",
              "186  186       578  ??? ??? ????  ...    0.00000    0.000000      0.8300\n",
              "187  187       579      ??? ????  ...    0.09500    0.000000      0.8300\n",
              "188  188       580        ??????  ...    0.13600    0.001200      0.9600\n",
              "189  189       581       ??? ???  ...    0.18000    0.020000      0.9000\n",
              "190  190       584      ??? ????  ...    0.48000    0.000000      0.7100\n",
              "\n",
              "[191 rows x 15 columns]>"
            ]
          },
          "metadata": {},
          "execution_count": 960
        }
      ]
    },
    {
      "cell_type": "code",
      "metadata": {
        "colab": {
          "base_uri": "https://localhost:8080/"
        },
        "id": "Tw0-uw2Z1cRp",
        "outputId": "77ca7e26-eea2-4b8f-c68e-afc908d0f5db"
      },
      "source": [
        "#clean\n",
        "(data[['Population','PopDensity','AgingRatio'\n",
        "#,'ServicesHi','HealthServ','Landuse','Commercial','RoadDensit','GreenAreas','Open_spave'\n",
        "]]==0).sum()"
      ],
      "execution_count": 961,
      "outputs": [
        {
          "output_type": "execute_result",
          "data": {
            "text/plain": [
              "Population    0\n",
              "PopDensity    2\n",
              "AgingRatio    1\n",
              "dtype: int64"
            ]
          },
          "metadata": {},
          "execution_count": 961
        }
      ]
    },
    {
      "cell_type": "code",
      "metadata": {
        "id": "PBZ3CN7mWIdM"
      },
      "source": [
        "#delete GreenAreas Commercial coloum\n",
        "#data.drop(['Commercial', 'GreenAreas'], inplace=True, axis=1)"
      ],
      "execution_count": 962,
      "outputs": []
    },
    {
      "cell_type": "code",
      "metadata": {
        "colab": {
          "base_uri": "https://localhost:8080/"
        },
        "id": "IoQIgekrWwD2",
        "outputId": "ec062edf-4762-4410-9986-3f39397da17d"
      },
      "source": [
        "(((data['HealthServ']%2)==1) ).sum()"
      ],
      "execution_count": 963,
      "outputs": [
        {
          "output_type": "execute_result",
          "data": {
            "text/plain": [
              "0"
            ]
          },
          "metadata": {},
          "execution_count": 963
        }
      ]
    },
    {
      "cell_type": "code",
      "metadata": {
        "id": "bwAzcMx9Xu1l"
      },
      "source": [
        "#delete HealthServ coloum\n",
        "#data.drop(['HealthServ'], inplace=True, axis=1)"
      ],
      "execution_count": 964,
      "outputs": []
    },
    {
      "cell_type": "code",
      "metadata": {
        "colab": {
          "base_uri": "https://localhost:8080/"
        },
        "id": "M6U7_eGkYG8t",
        "outputId": "411665ed-2821-47ad-bbd9-f81bac20e30c"
      },
      "source": [
        "((data['ServicesHi']<1) | (data['ServicesHi']>5)).sum()"
      ],
      "execution_count": 965,
      "outputs": [
        {
          "output_type": "execute_result",
          "data": {
            "text/plain": [
              "5"
            ]
          },
          "metadata": {},
          "execution_count": 965
        }
      ]
    },
    {
      "cell_type": "code",
      "metadata": {
        "id": "cbfF1tVcddWE"
      },
      "source": [
        "#delete ServicesHi rows\n",
        "index_names = data[ (data['ServicesHi']<1) | (data['ServicesHi']>5)].FID\n",
        "data.drop(index_names, inplace = True)"
      ],
      "execution_count": 966,
      "outputs": []
    },
    {
      "cell_type": "code",
      "metadata": {
        "id": "ukyb-KPxePLJ"
      },
      "source": [
        "#delete PopDensity rows \n",
        "index_names2 = data[(data['PopDensity']==0)].FID\n",
        "#data.drop(index_names2, inplace = True)"
      ],
      "execution_count": 967,
      "outputs": []
    },
    {
      "cell_type": "code",
      "metadata": {
        "id": "dDi236whf2Vp"
      },
      "source": [
        "#delete AgingRatio rows\n",
        "#index_names2 = data[(data['AgingRatio']==0)].FID\n",
        "#data.drop(index_names2, inplace = True)\n",
        "#delete RoadDensit rows\n",
        "#index_names2 = data[(data['RoadDensit']==0)].FID\n",
        "#data.drop(index_names2, inplace = True)"
      ],
      "execution_count": 968,
      "outputs": []
    },
    {
      "cell_type": "code",
      "metadata": {
        "colab": {
          "base_uri": "https://localhost:8080/",
          "height": 295
        },
        "id": "UPzsKiV-Wkd7",
        "outputId": "d98780f9-0dc3-4283-9efe-279c252b5bab"
      },
      "source": [
        "data.head()"
      ],
      "execution_count": 969,
      "outputs": [
        {
          "output_type": "execute_result",
          "data": {
            "text/html": [
              "<div>\n",
              "<style scoped>\n",
              "    .dataframe tbody tr th:only-of-type {\n",
              "        vertical-align: middle;\n",
              "    }\n",
              "\n",
              "    .dataframe tbody tr th {\n",
              "        vertical-align: top;\n",
              "    }\n",
              "\n",
              "    .dataframe thead th {\n",
              "        text-align: right;\n",
              "    }\n",
              "</style>\n",
              "<table border=\"1\" class=\"dataframe\">\n",
              "  <thead>\n",
              "    <tr style=\"text-align: right;\">\n",
              "      <th></th>\n",
              "      <th>FID</th>\n",
              "      <th>OBJECTID</th>\n",
              "      <th>NAMEAR</th>\n",
              "      <th>NAMEEN</th>\n",
              "      <th>CORONA__Ca</th>\n",
              "      <th>Population</th>\n",
              "      <th>PopDensity</th>\n",
              "      <th>AgingRatio</th>\n",
              "      <th>ServicesHi</th>\n",
              "      <th>HealthServ</th>\n",
              "      <th>Landuse</th>\n",
              "      <th>Commercial</th>\n",
              "      <th>RoadDensit</th>\n",
              "      <th>GreenAreas</th>\n",
              "      <th>Open_spave</th>\n",
              "    </tr>\n",
              "  </thead>\n",
              "  <tbody>\n",
              "    <tr>\n",
              "      <th>0</th>\n",
              "      <td>0</td>\n",
              "      <td>12</td>\n",
              "      <td>??????</td>\n",
              "      <td>Hebron (Al Khalil)</td>\n",
              "      <td>7299</td>\n",
              "      <td>15988</td>\n",
              "      <td>5.92</td>\n",
              "      <td>0.02000</td>\n",
              "      <td>5</td>\n",
              "      <td>100</td>\n",
              "      <td>2.7861</td>\n",
              "      <td>0.001750</td>\n",
              "      <td>0.04670</td>\n",
              "      <td>0.080100</td>\n",
              "      <td>0.8651</td>\n",
              "    </tr>\n",
              "    <tr>\n",
              "      <th>1</th>\n",
              "      <td>1</td>\n",
              "      <td>15</td>\n",
              "      <td>??? ?????</td>\n",
              "      <td>Deir Istiya</td>\n",
              "      <td>139</td>\n",
              "      <td>3930</td>\n",
              "      <td>4.20</td>\n",
              "      <td>0.04700</td>\n",
              "      <td>1</td>\n",
              "      <td>8</td>\n",
              "      <td>2.3300</td>\n",
              "      <td>0.004900</td>\n",
              "      <td>0.16400</td>\n",
              "      <td>0.000000</td>\n",
              "      <td>0.8800</td>\n",
              "    </tr>\n",
              "    <tr>\n",
              "      <th>2</th>\n",
              "      <td>2</td>\n",
              "      <td>21</td>\n",
              "      <td>????</td>\n",
              "      <td>Battir</td>\n",
              "      <td>63</td>\n",
              "      <td>4966</td>\n",
              "      <td>3.00</td>\n",
              "      <td>0.05000</td>\n",
              "      <td>1</td>\n",
              "      <td>12</td>\n",
              "      <td>2.8200</td>\n",
              "      <td>0.000000</td>\n",
              "      <td>0.03200</td>\n",
              "      <td>0.000000</td>\n",
              "      <td>0.9100</td>\n",
              "    </tr>\n",
              "    <tr>\n",
              "      <th>3</th>\n",
              "      <td>3</td>\n",
              "      <td>23</td>\n",
              "      <td>?????</td>\n",
              "      <td>Surif</td>\n",
              "      <td>181</td>\n",
              "      <td>18534</td>\n",
              "      <td>3.70</td>\n",
              "      <td>0.02579</td>\n",
              "      <td>1</td>\n",
              "      <td>30</td>\n",
              "      <td>2.6985</td>\n",
              "      <td>0.002074</td>\n",
              "      <td>0.10506</td>\n",
              "      <td>0.002709</td>\n",
              "      <td>0.9201</td>\n",
              "    </tr>\n",
              "    <tr>\n",
              "      <th>4</th>\n",
              "      <td>4</td>\n",
              "      <td>24</td>\n",
              "      <td>??? ???</td>\n",
              "      <td>Beit Ummar</td>\n",
              "      <td>418</td>\n",
              "      <td>18202</td>\n",
              "      <td>2.00</td>\n",
              "      <td>0.03300</td>\n",
              "      <td>2</td>\n",
              "      <td>34</td>\n",
              "      <td>2.3700</td>\n",
              "      <td>0.003000</td>\n",
              "      <td>0.07800</td>\n",
              "      <td>0.162000</td>\n",
              "      <td>0.8940</td>\n",
              "    </tr>\n",
              "  </tbody>\n",
              "</table>\n",
              "</div>"
            ],
            "text/plain": [
              "   FID  OBJECTID     NAMEAR  ... RoadDensit  GreenAreas  Open_spave\n",
              "0    0        12     ??????  ...    0.04670    0.080100      0.8651\n",
              "1    1        15  ??? ?????  ...    0.16400    0.000000      0.8800\n",
              "2    2        21       ????  ...    0.03200    0.000000      0.9100\n",
              "3    3        23      ?????  ...    0.10506    0.002709      0.9201\n",
              "4    4        24    ??? ???  ...    0.07800    0.162000      0.8940\n",
              "\n",
              "[5 rows x 15 columns]"
            ]
          },
          "metadata": {},
          "execution_count": 969
        }
      ]
    },
    {
      "cell_type": "code",
      "metadata": {
        "colab": {
          "base_uri": "https://localhost:8080/"
        },
        "id": "zQhKPX1QeAfT",
        "outputId": "4ead42be-ffc9-4044-ddda-c62a8ff9e851"
      },
      "source": [
        "data.count"
      ],
      "execution_count": 970,
      "outputs": [
        {
          "output_type": "execute_result",
          "data": {
            "text/plain": [
              "<bound method DataFrame.count of      FID  OBJECTID        NAMEAR  ... RoadDensit  GreenAreas  Open_spave\n",
              "0      0        12        ??????  ...    0.04670    0.080100      0.8651\n",
              "1      1        15     ??? ?????  ...    0.16400    0.000000      0.8800\n",
              "2      2        21          ????  ...    0.03200    0.000000      0.9100\n",
              "3      3        23         ?????  ...    0.10506    0.002709      0.9201\n",
              "4      4        24       ??? ???  ...    0.07800    0.162000      0.8940\n",
              "..   ...       ...           ...  ...        ...         ...         ...\n",
              "186  186       578  ??? ??? ????  ...    0.00000    0.000000      0.8300\n",
              "187  187       579      ??? ????  ...    0.09500    0.000000      0.8300\n",
              "188  188       580        ??????  ...    0.13600    0.001200      0.9600\n",
              "189  189       581       ??? ???  ...    0.18000    0.020000      0.9000\n",
              "190  190       584      ??? ????  ...    0.48000    0.000000      0.7100\n",
              "\n",
              "[186 rows x 15 columns]>"
            ]
          },
          "metadata": {},
          "execution_count": 970
        }
      ]
    },
    {
      "cell_type": "code",
      "metadata": {
        "colab": {
          "base_uri": "https://localhost:8080/",
          "height": 477
        },
        "id": "ihPxMzpUgq9A",
        "outputId": "2c1a9cf0-00d8-4246-f292-e671bc396d26"
      },
      "source": [
        "#redundant data\n",
        "x=data[['FID','OBJECTID','Population','PopDensity','AgingRatio','ServicesHi','HealthServ','Landuse','Commercial','RoadDensit','GreenAreas','Open_spave','CORONA__Ca']]\n",
        "\n",
        "x.corr()"
      ],
      "execution_count": 971,
      "outputs": [
        {
          "output_type": "execute_result",
          "data": {
            "text/html": [
              "<div>\n",
              "<style scoped>\n",
              "    .dataframe tbody tr th:only-of-type {\n",
              "        vertical-align: middle;\n",
              "    }\n",
              "\n",
              "    .dataframe tbody tr th {\n",
              "        vertical-align: top;\n",
              "    }\n",
              "\n",
              "    .dataframe thead th {\n",
              "        text-align: right;\n",
              "    }\n",
              "</style>\n",
              "<table border=\"1\" class=\"dataframe\">\n",
              "  <thead>\n",
              "    <tr style=\"text-align: right;\">\n",
              "      <th></th>\n",
              "      <th>FID</th>\n",
              "      <th>OBJECTID</th>\n",
              "      <th>Population</th>\n",
              "      <th>PopDensity</th>\n",
              "      <th>AgingRatio</th>\n",
              "      <th>ServicesHi</th>\n",
              "      <th>HealthServ</th>\n",
              "      <th>Landuse</th>\n",
              "      <th>Commercial</th>\n",
              "      <th>RoadDensit</th>\n",
              "      <th>GreenAreas</th>\n",
              "      <th>Open_spave</th>\n",
              "      <th>CORONA__Ca</th>\n",
              "    </tr>\n",
              "  </thead>\n",
              "  <tbody>\n",
              "    <tr>\n",
              "      <th>FID</th>\n",
              "      <td>1.000000</td>\n",
              "      <td>0.992761</td>\n",
              "      <td>-0.092566</td>\n",
              "      <td>0.073064</td>\n",
              "      <td>0.170015</td>\n",
              "      <td>-0.071347</td>\n",
              "      <td>-0.076995</td>\n",
              "      <td>-0.016601</td>\n",
              "      <td>0.179761</td>\n",
              "      <td>0.071330</td>\n",
              "      <td>0.089189</td>\n",
              "      <td>-0.050600</td>\n",
              "      <td>-0.062446</td>\n",
              "    </tr>\n",
              "    <tr>\n",
              "      <th>OBJECTID</th>\n",
              "      <td>0.992761</td>\n",
              "      <td>1.000000</td>\n",
              "      <td>-0.093950</td>\n",
              "      <td>0.077599</td>\n",
              "      <td>0.174545</td>\n",
              "      <td>-0.075092</td>\n",
              "      <td>-0.072926</td>\n",
              "      <td>-0.007067</td>\n",
              "      <td>0.181961</td>\n",
              "      <td>0.071457</td>\n",
              "      <td>0.081446</td>\n",
              "      <td>-0.043991</td>\n",
              "      <td>-0.071557</td>\n",
              "    </tr>\n",
              "    <tr>\n",
              "      <th>Population</th>\n",
              "      <td>-0.092566</td>\n",
              "      <td>-0.093950</td>\n",
              "      <td>1.000000</td>\n",
              "      <td>-0.023834</td>\n",
              "      <td>-0.064610</td>\n",
              "      <td>0.474681</td>\n",
              "      <td>0.552250</td>\n",
              "      <td>-0.006783</td>\n",
              "      <td>0.060376</td>\n",
              "      <td>0.085544</td>\n",
              "      <td>0.037740</td>\n",
              "      <td>0.019107</td>\n",
              "      <td>0.448557</td>\n",
              "    </tr>\n",
              "    <tr>\n",
              "      <th>PopDensity</th>\n",
              "      <td>0.073064</td>\n",
              "      <td>0.077599</td>\n",
              "      <td>-0.023834</td>\n",
              "      <td>1.000000</td>\n",
              "      <td>-0.008422</td>\n",
              "      <td>-0.035080</td>\n",
              "      <td>-0.035984</td>\n",
              "      <td>-0.220591</td>\n",
              "      <td>0.117491</td>\n",
              "      <td>-0.011308</td>\n",
              "      <td>0.593895</td>\n",
              "      <td>0.013110</td>\n",
              "      <td>-0.018953</td>\n",
              "    </tr>\n",
              "    <tr>\n",
              "      <th>AgingRatio</th>\n",
              "      <td>0.170015</td>\n",
              "      <td>0.174545</td>\n",
              "      <td>-0.064610</td>\n",
              "      <td>-0.008422</td>\n",
              "      <td>1.000000</td>\n",
              "      <td>0.063690</td>\n",
              "      <td>0.024548</td>\n",
              "      <td>0.032440</td>\n",
              "      <td>0.043279</td>\n",
              "      <td>0.068723</td>\n",
              "      <td>-0.030418</td>\n",
              "      <td>0.000455</td>\n",
              "      <td>-0.025333</td>\n",
              "    </tr>\n",
              "    <tr>\n",
              "      <th>ServicesHi</th>\n",
              "      <td>-0.071347</td>\n",
              "      <td>-0.075092</td>\n",
              "      <td>0.474681</td>\n",
              "      <td>-0.035080</td>\n",
              "      <td>0.063690</td>\n",
              "      <td>1.000000</td>\n",
              "      <td>0.743789</td>\n",
              "      <td>-0.023279</td>\n",
              "      <td>0.186772</td>\n",
              "      <td>0.217776</td>\n",
              "      <td>0.107386</td>\n",
              "      <td>0.058795</td>\n",
              "      <td>0.602538</td>\n",
              "    </tr>\n",
              "    <tr>\n",
              "      <th>HealthServ</th>\n",
              "      <td>-0.076995</td>\n",
              "      <td>-0.072926</td>\n",
              "      <td>0.552250</td>\n",
              "      <td>-0.035984</td>\n",
              "      <td>0.024548</td>\n",
              "      <td>0.743789</td>\n",
              "      <td>1.000000</td>\n",
              "      <td>-0.011301</td>\n",
              "      <td>0.090085</td>\n",
              "      <td>0.158605</td>\n",
              "      <td>0.114446</td>\n",
              "      <td>0.017930</td>\n",
              "      <td>0.648142</td>\n",
              "    </tr>\n",
              "    <tr>\n",
              "      <th>Landuse</th>\n",
              "      <td>-0.016601</td>\n",
              "      <td>-0.007067</td>\n",
              "      <td>-0.006783</td>\n",
              "      <td>-0.220591</td>\n",
              "      <td>0.032440</td>\n",
              "      <td>-0.023279</td>\n",
              "      <td>-0.011301</td>\n",
              "      <td>1.000000</td>\n",
              "      <td>0.060717</td>\n",
              "      <td>-0.090458</td>\n",
              "      <td>-0.231424</td>\n",
              "      <td>-0.063587</td>\n",
              "      <td>-0.037563</td>\n",
              "    </tr>\n",
              "    <tr>\n",
              "      <th>Commercial</th>\n",
              "      <td>0.179761</td>\n",
              "      <td>0.181961</td>\n",
              "      <td>0.060376</td>\n",
              "      <td>0.117491</td>\n",
              "      <td>0.043279</td>\n",
              "      <td>0.186772</td>\n",
              "      <td>0.090085</td>\n",
              "      <td>0.060717</td>\n",
              "      <td>1.000000</td>\n",
              "      <td>0.084989</td>\n",
              "      <td>0.198743</td>\n",
              "      <td>-0.036717</td>\n",
              "      <td>0.081685</td>\n",
              "    </tr>\n",
              "    <tr>\n",
              "      <th>RoadDensit</th>\n",
              "      <td>0.071330</td>\n",
              "      <td>0.071457</td>\n",
              "      <td>0.085544</td>\n",
              "      <td>-0.011308</td>\n",
              "      <td>0.068723</td>\n",
              "      <td>0.217776</td>\n",
              "      <td>0.158605</td>\n",
              "      <td>-0.090458</td>\n",
              "      <td>0.084989</td>\n",
              "      <td>1.000000</td>\n",
              "      <td>0.045631</td>\n",
              "      <td>-0.005565</td>\n",
              "      <td>0.115098</td>\n",
              "    </tr>\n",
              "    <tr>\n",
              "      <th>GreenAreas</th>\n",
              "      <td>0.089189</td>\n",
              "      <td>0.081446</td>\n",
              "      <td>0.037740</td>\n",
              "      <td>0.593895</td>\n",
              "      <td>-0.030418</td>\n",
              "      <td>0.107386</td>\n",
              "      <td>0.114446</td>\n",
              "      <td>-0.231424</td>\n",
              "      <td>0.198743</td>\n",
              "      <td>0.045631</td>\n",
              "      <td>1.000000</td>\n",
              "      <td>0.002035</td>\n",
              "      <td>0.149241</td>\n",
              "    </tr>\n",
              "    <tr>\n",
              "      <th>Open_spave</th>\n",
              "      <td>-0.050600</td>\n",
              "      <td>-0.043991</td>\n",
              "      <td>0.019107</td>\n",
              "      <td>0.013110</td>\n",
              "      <td>0.000455</td>\n",
              "      <td>0.058795</td>\n",
              "      <td>0.017930</td>\n",
              "      <td>-0.063587</td>\n",
              "      <td>-0.036717</td>\n",
              "      <td>-0.005565</td>\n",
              "      <td>0.002035</td>\n",
              "      <td>1.000000</td>\n",
              "      <td>-0.020008</td>\n",
              "    </tr>\n",
              "    <tr>\n",
              "      <th>CORONA__Ca</th>\n",
              "      <td>-0.062446</td>\n",
              "      <td>-0.071557</td>\n",
              "      <td>0.448557</td>\n",
              "      <td>-0.018953</td>\n",
              "      <td>-0.025333</td>\n",
              "      <td>0.602538</td>\n",
              "      <td>0.648142</td>\n",
              "      <td>-0.037563</td>\n",
              "      <td>0.081685</td>\n",
              "      <td>0.115098</td>\n",
              "      <td>0.149241</td>\n",
              "      <td>-0.020008</td>\n",
              "      <td>1.000000</td>\n",
              "    </tr>\n",
              "  </tbody>\n",
              "</table>\n",
              "</div>"
            ],
            "text/plain": [
              "                 FID  OBJECTID  Population  ...  GreenAreas  Open_spave  CORONA__Ca\n",
              "FID         1.000000  0.992761   -0.092566  ...    0.089189   -0.050600   -0.062446\n",
              "OBJECTID    0.992761  1.000000   -0.093950  ...    0.081446   -0.043991   -0.071557\n",
              "Population -0.092566 -0.093950    1.000000  ...    0.037740    0.019107    0.448557\n",
              "PopDensity  0.073064  0.077599   -0.023834  ...    0.593895    0.013110   -0.018953\n",
              "AgingRatio  0.170015  0.174545   -0.064610  ...   -0.030418    0.000455   -0.025333\n",
              "ServicesHi -0.071347 -0.075092    0.474681  ...    0.107386    0.058795    0.602538\n",
              "HealthServ -0.076995 -0.072926    0.552250  ...    0.114446    0.017930    0.648142\n",
              "Landuse    -0.016601 -0.007067   -0.006783  ...   -0.231424   -0.063587   -0.037563\n",
              "Commercial  0.179761  0.181961    0.060376  ...    0.198743   -0.036717    0.081685\n",
              "RoadDensit  0.071330  0.071457    0.085544  ...    0.045631   -0.005565    0.115098\n",
              "GreenAreas  0.089189  0.081446    0.037740  ...    1.000000    0.002035    0.149241\n",
              "Open_spave -0.050600 -0.043991    0.019107  ...    0.002035    1.000000   -0.020008\n",
              "CORONA__Ca -0.062446 -0.071557    0.448557  ...    0.149241   -0.020008    1.000000\n",
              "\n",
              "[13 rows x 13 columns]"
            ]
          },
          "metadata": {},
          "execution_count": 971
        }
      ]
    },
    {
      "cell_type": "code",
      "metadata": {
        "id": "B2PBvBhJSNZ1"
      },
      "source": [
        "#redundant\n",
        "data.drop(['OBJECTID','ServicesHi'], inplace=True, axis=1)"
      ],
      "execution_count": 972,
      "outputs": []
    },
    {
      "cell_type": "code",
      "metadata": {
        "id": "zN88uzp5o31z"
      },
      "source": [
        "#irrelevant featurs\n",
        "data.drop(['NAMEAR','NAMEEN'], inplace=True, axis=1)"
      ],
      "execution_count": 973,
      "outputs": []
    },
    {
      "cell_type": "code",
      "metadata": {
        "colab": {
          "base_uri": "https://localhost:8080/",
          "height": 206
        },
        "id": "qlzeLA9DqEXP",
        "outputId": "c6caee62-c1dd-4aa3-bcb1-53d152231817"
      },
      "source": [
        "# ---- Using The win - max feature scaling \n",
        "from sklearn import preprocessing \n",
        "scaler = preprocessing.MinMaxScaler(feature_range=(0,1))\n",
        "names= data.columns\n",
        "d = scaler.fit_transform(data)\n",
        "data =pd.DataFrame(d,columns=names)\n",
        "data.head()"
      ],
      "execution_count": 974,
      "outputs": [
        {
          "output_type": "execute_result",
          "data": {
            "text/html": [
              "<div>\n",
              "<style scoped>\n",
              "    .dataframe tbody tr th:only-of-type {\n",
              "        vertical-align: middle;\n",
              "    }\n",
              "\n",
              "    .dataframe tbody tr th {\n",
              "        vertical-align: top;\n",
              "    }\n",
              "\n",
              "    .dataframe thead th {\n",
              "        text-align: right;\n",
              "    }\n",
              "</style>\n",
              "<table border=\"1\" class=\"dataframe\">\n",
              "  <thead>\n",
              "    <tr style=\"text-align: right;\">\n",
              "      <th></th>\n",
              "      <th>FID</th>\n",
              "      <th>CORONA__Ca</th>\n",
              "      <th>Population</th>\n",
              "      <th>PopDensity</th>\n",
              "      <th>AgingRatio</th>\n",
              "      <th>HealthServ</th>\n",
              "      <th>Landuse</th>\n",
              "      <th>Commercial</th>\n",
              "      <th>RoadDensit</th>\n",
              "      <th>GreenAreas</th>\n",
              "      <th>Open_spave</th>\n",
              "    </tr>\n",
              "  </thead>\n",
              "  <tbody>\n",
              "    <tr>\n",
              "      <th>0</th>\n",
              "      <td>0.000000</td>\n",
              "      <td>1.000000</td>\n",
              "      <td>0.071018</td>\n",
              "      <td>0.001214</td>\n",
              "      <td>0.074074</td>\n",
              "      <td>0.704225</td>\n",
              "      <td>0.556578</td>\n",
              "      <td>0.007609</td>\n",
              "      <td>0.095306</td>\n",
              "      <td>0.230172</td>\n",
              "      <td>0.685112</td>\n",
              "    </tr>\n",
              "    <tr>\n",
              "      <th>1</th>\n",
              "      <td>0.005263</td>\n",
              "      <td>0.019044</td>\n",
              "      <td>0.016415</td>\n",
              "      <td>0.000861</td>\n",
              "      <td>0.174074</td>\n",
              "      <td>0.056338</td>\n",
              "      <td>0.463115</td>\n",
              "      <td>0.021304</td>\n",
              "      <td>0.334694</td>\n",
              "      <td>0.000000</td>\n",
              "      <td>0.722084</td>\n",
              "    </tr>\n",
              "    <tr>\n",
              "      <th>2</th>\n",
              "      <td>0.010526</td>\n",
              "      <td>0.008631</td>\n",
              "      <td>0.021107</td>\n",
              "      <td>0.000615</td>\n",
              "      <td>0.185185</td>\n",
              "      <td>0.084507</td>\n",
              "      <td>0.563525</td>\n",
              "      <td>0.000000</td>\n",
              "      <td>0.065306</td>\n",
              "      <td>0.000000</td>\n",
              "      <td>0.796526</td>\n",
              "    </tr>\n",
              "    <tr>\n",
              "      <th>3</th>\n",
              "      <td>0.015789</td>\n",
              "      <td>0.024798</td>\n",
              "      <td>0.082547</td>\n",
              "      <td>0.000759</td>\n",
              "      <td>0.095519</td>\n",
              "      <td>0.211268</td>\n",
              "      <td>0.538627</td>\n",
              "      <td>0.009017</td>\n",
              "      <td>0.214408</td>\n",
              "      <td>0.007785</td>\n",
              "      <td>0.821588</td>\n",
              "    </tr>\n",
              "    <tr>\n",
              "      <th>4</th>\n",
              "      <td>0.021053</td>\n",
              "      <td>0.057268</td>\n",
              "      <td>0.081044</td>\n",
              "      <td>0.000410</td>\n",
              "      <td>0.122222</td>\n",
              "      <td>0.239437</td>\n",
              "      <td>0.471311</td>\n",
              "      <td>0.013043</td>\n",
              "      <td>0.159184</td>\n",
              "      <td>0.465517</td>\n",
              "      <td>0.756824</td>\n",
              "    </tr>\n",
              "  </tbody>\n",
              "</table>\n",
              "</div>"
            ],
            "text/plain": [
              "        FID  CORONA__Ca  Population  ...  RoadDensit  GreenAreas  Open_spave\n",
              "0  0.000000    1.000000    0.071018  ...    0.095306    0.230172    0.685112\n",
              "1  0.005263    0.019044    0.016415  ...    0.334694    0.000000    0.722084\n",
              "2  0.010526    0.008631    0.021107  ...    0.065306    0.000000    0.796526\n",
              "3  0.015789    0.024798    0.082547  ...    0.214408    0.007785    0.821588\n",
              "4  0.021053    0.057268    0.081044  ...    0.159184    0.465517    0.756824\n",
              "\n",
              "[5 rows x 11 columns]"
            ]
          },
          "metadata": {},
          "execution_count": 974
        }
      ]
    },
    {
      "cell_type": "code",
      "metadata": {
        "id": "WXjvM_pD2-H-"
      },
      "source": [
        "X2 = data[['Population','PopDensity','AgingRatio','HealthServ','Landuse','Commercial','RoadDensit','GreenAreas','Open_spave']]\n",
        "y2 = data['CORONA__Ca']\n",
        "X_train2, X_test2, y_train2, y_test2 = train_test_split(X2,y2,test_size=0.1, random_state=10) "
      ],
      "execution_count": 975,
      "outputs": []
    },
    {
      "cell_type": "code",
      "metadata": {
        "colab": {
          "base_uri": "https://localhost:8080/"
        },
        "id": "EHNK205a3Yc-",
        "outputId": "c063cee5-6255-464b-ae59-f2554737b3c6"
      },
      "source": [
        "clf2 = LinearRegression()\n",
        "clf2.fit(X_train2, y_train2)"
      ],
      "execution_count": 976,
      "outputs": [
        {
          "output_type": "execute_result",
          "data": {
            "text/plain": [
              "LinearRegression()"
            ]
          },
          "metadata": {},
          "execution_count": 976
        }
      ]
    },
    {
      "cell_type": "code",
      "metadata": {
        "colab": {
          "base_uri": "https://localhost:8080/"
        },
        "id": "urLG4jyYz-ZM",
        "outputId": "f58a5f38-f361-4e31-af32-3628ebe957a4"
      },
      "source": [
        "clf2.predict(X_test2)\n",
        "clf2.score(X_test2, y_test2)"
      ],
      "execution_count": 977,
      "outputs": [
        {
          "output_type": "execute_result",
          "data": {
            "text/plain": [
              "0.7644888611671546"
            ]
          },
          "metadata": {},
          "execution_count": 977
        }
      ]
    },
    {
      "cell_type": "code",
      "metadata": {
        "colab": {
          "base_uri": "https://localhost:8080/"
        },
        "id": "VgvhIGXnt932",
        "outputId": "82a7170d-2aea-4b33-d99c-3ea4e3b5c77b"
      },
      "source": [
        "import numpy\n",
        "\n",
        "corr_matrix = numpy.corrcoef(y_test2, clf2.predict(X_test2))\n",
        "corr = corr_matrix[0,1]\n",
        "R_sq = corr**2\n",
        "\n",
        "print(R_sq)\n"
      ],
      "execution_count": 978,
      "outputs": [
        {
          "output_type": "stream",
          "name": "stdout",
          "text": [
            "0.7677922199216739\n"
          ]
        }
      ]
    }
  ]
}