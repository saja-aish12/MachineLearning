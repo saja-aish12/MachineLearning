{
  "nbformat": 4,
  "nbformat_minor": 0,
  "metadata": {
    "colab": {
      "name": "machine_project.ipynb",
      "provenance": [],
      "collapsed_sections": [],
      "include_colab_link": true
    },
    "kernelspec": {
      "display_name": "Python 3",
      "name": "python3"
    },
    "language_info": {
      "name": "python"
    }
  },
  "cells": [
    {
      "cell_type": "markdown",
      "metadata": {
        "id": "view-in-github",
        "colab_type": "text"
      },
      "source": [
        "<a href=\"https://colab.research.google.com/github/saja-aish12/MachineLearningProject/blob/master/machine_project.ipynb\" target=\"_parent\"><img src=\"https://colab.research.google.com/assets/colab-badge.svg\" alt=\"Open In Colab\"/></a>"
      ]
    },
    {
      "cell_type": "code",
      "metadata": {
        "id": "fp7fQ3dxk1TQ"
      },
      "source": [
        "import pandas as pd\n",
        "import seaborn as sns\n",
        "sns.set(color_codes=True)\n",
        "import sklearn.linear_model\n",
        "\n",
        "import numpy as np\n",
        "import pandas as pd\n",
        "import matplotlib.pyplot as plt\n",
        "\n",
        "from mpl_toolkits.mplot3d import Axes3D\n",
        "from sklearn.datasets import load_breast_cancer\n",
        "from sklearn.decomposition import PCA\n",
        "from sklearn import datasets\n",
        "from sklearn.preprocessing import StandardScaler\n",
        "\n",
        "from sklearn.model_selection import train_test_split\n",
        "from sklearn import datasets\n",
        "from sklearn.metrics import f1_score, classification_report, plot_confusion_matrix\n",
        "# %matplotlib notebook\n"
      ],
      "execution_count": 1,
      "outputs": []
    },
    {
      "cell_type": "code",
      "metadata": {
        "id": "8BbQvsvAk5ej"
      },
      "source": [
        "data = pd.read_csv('WB.csv')"
      ],
      "execution_count": 2,
      "outputs": []
    },
    {
      "cell_type": "code",
      "metadata": {
        "colab": {
          "base_uri": "https://localhost:8080/",
          "height": 295
        },
        "id": "MFDrGK2_k7bJ",
        "outputId": "f38527ab-9cca-410a-8012-5dfb7629d6b3"
      },
      "source": [
        "data.head()"
      ],
      "execution_count": 3,
      "outputs": [
        {
          "output_type": "execute_result",
          "data": {
            "text/html": [
              "<div>\n",
              "<style scoped>\n",
              "    .dataframe tbody tr th:only-of-type {\n",
              "        vertical-align: middle;\n",
              "    }\n",
              "\n",
              "    .dataframe tbody tr th {\n",
              "        vertical-align: top;\n",
              "    }\n",
              "\n",
              "    .dataframe thead th {\n",
              "        text-align: right;\n",
              "    }\n",
              "</style>\n",
              "<table border=\"1\" class=\"dataframe\">\n",
              "  <thead>\n",
              "    <tr style=\"text-align: right;\">\n",
              "      <th></th>\n",
              "      <th>FID</th>\n",
              "      <th>OBJECTID</th>\n",
              "      <th>NAMEAR</th>\n",
              "      <th>NAMEEN</th>\n",
              "      <th>CORONA__Ca</th>\n",
              "      <th>Population</th>\n",
              "      <th>PopDensity</th>\n",
              "      <th>AgingRatio</th>\n",
              "      <th>ServicesHi</th>\n",
              "      <th>HealthServ</th>\n",
              "      <th>Landuse</th>\n",
              "      <th>Commercial</th>\n",
              "      <th>RoadDensit</th>\n",
              "      <th>GreenAreas</th>\n",
              "      <th>Open_spave</th>\n",
              "    </tr>\n",
              "  </thead>\n",
              "  <tbody>\n",
              "    <tr>\n",
              "      <th>0</th>\n",
              "      <td>0</td>\n",
              "      <td>12</td>\n",
              "      <td>??????</td>\n",
              "      <td>Hebron (Al Khalil)</td>\n",
              "      <td>7299</td>\n",
              "      <td>15988</td>\n",
              "      <td>5.92</td>\n",
              "      <td>0.02000</td>\n",
              "      <td>5</td>\n",
              "      <td>100</td>\n",
              "      <td>2.7861</td>\n",
              "      <td>0.001750</td>\n",
              "      <td>0.04670</td>\n",
              "      <td>0.080100</td>\n",
              "      <td>0.8651</td>\n",
              "    </tr>\n",
              "    <tr>\n",
              "      <th>1</th>\n",
              "      <td>1</td>\n",
              "      <td>15</td>\n",
              "      <td>??? ?????</td>\n",
              "      <td>Deir Istiya</td>\n",
              "      <td>139</td>\n",
              "      <td>3930</td>\n",
              "      <td>4.20</td>\n",
              "      <td>0.04700</td>\n",
              "      <td>1</td>\n",
              "      <td>8</td>\n",
              "      <td>2.3300</td>\n",
              "      <td>0.004900</td>\n",
              "      <td>0.16400</td>\n",
              "      <td>0.000000</td>\n",
              "      <td>0.8800</td>\n",
              "    </tr>\n",
              "    <tr>\n",
              "      <th>2</th>\n",
              "      <td>2</td>\n",
              "      <td>21</td>\n",
              "      <td>????</td>\n",
              "      <td>Battir</td>\n",
              "      <td>63</td>\n",
              "      <td>4966</td>\n",
              "      <td>3.00</td>\n",
              "      <td>0.05000</td>\n",
              "      <td>1</td>\n",
              "      <td>12</td>\n",
              "      <td>2.8200</td>\n",
              "      <td>0.000000</td>\n",
              "      <td>0.03200</td>\n",
              "      <td>0.000000</td>\n",
              "      <td>0.9100</td>\n",
              "    </tr>\n",
              "    <tr>\n",
              "      <th>3</th>\n",
              "      <td>3</td>\n",
              "      <td>23</td>\n",
              "      <td>?????</td>\n",
              "      <td>Surif</td>\n",
              "      <td>181</td>\n",
              "      <td>18534</td>\n",
              "      <td>3.70</td>\n",
              "      <td>0.02579</td>\n",
              "      <td>1</td>\n",
              "      <td>30</td>\n",
              "      <td>2.6985</td>\n",
              "      <td>0.002074</td>\n",
              "      <td>0.10506</td>\n",
              "      <td>0.002709</td>\n",
              "      <td>0.9201</td>\n",
              "    </tr>\n",
              "    <tr>\n",
              "      <th>4</th>\n",
              "      <td>4</td>\n",
              "      <td>24</td>\n",
              "      <td>??? ???</td>\n",
              "      <td>Beit Ummar</td>\n",
              "      <td>418</td>\n",
              "      <td>18202</td>\n",
              "      <td>2.00</td>\n",
              "      <td>0.03300</td>\n",
              "      <td>2</td>\n",
              "      <td>34</td>\n",
              "      <td>2.3700</td>\n",
              "      <td>0.003000</td>\n",
              "      <td>0.07800</td>\n",
              "      <td>0.162000</td>\n",
              "      <td>0.8940</td>\n",
              "    </tr>\n",
              "  </tbody>\n",
              "</table>\n",
              "</div>"
            ],
            "text/plain": [
              "   FID  OBJECTID     NAMEAR  ... RoadDensit  GreenAreas  Open_spave\n",
              "0    0        12     ??????  ...    0.04670    0.080100      0.8651\n",
              "1    1        15  ??? ?????  ...    0.16400    0.000000      0.8800\n",
              "2    2        21       ????  ...    0.03200    0.000000      0.9100\n",
              "3    3        23      ?????  ...    0.10506    0.002709      0.9201\n",
              "4    4        24    ??? ???  ...    0.07800    0.162000      0.8940\n",
              "\n",
              "[5 rows x 15 columns]"
            ]
          },
          "metadata": {},
          "execution_count": 3
        }
      ]
    },
    {
      "cell_type": "code",
      "metadata": {
        "colab": {
          "base_uri": "https://localhost:8080/"
        },
        "id": "XFYaYeU-T8L6",
        "outputId": "6859c4ad-0b8d-46f4-c999-d8fc5331f0f1"
      },
      "source": [
        "data.count"
      ],
      "execution_count": 13,
      "outputs": [
        {
          "output_type": "execute_result",
          "data": {
            "text/plain": [
              "<bound method DataFrame.count of      FID  OBJECTID        NAMEAR  ... RoadDensit  GreenAreas  Open_spave\n",
              "0      0        12        ??????  ...    0.04670    0.080100      0.8651\n",
              "1      1        15     ??? ?????  ...    0.16400    0.000000      0.8800\n",
              "2      2        21          ????  ...    0.03200    0.000000      0.9100\n",
              "3      3        23         ?????  ...    0.10506    0.002709      0.9201\n",
              "4      4        24       ??? ???  ...    0.07800    0.162000      0.8940\n",
              "..   ...       ...           ...  ...        ...         ...         ...\n",
              "186  186       578  ??? ??? ????  ...    0.00000    0.000000      0.8300\n",
              "187  187       579      ??? ????  ...    0.09500    0.000000      0.8300\n",
              "188  188       580        ??????  ...    0.13600    0.001200      0.9600\n",
              "189  189       581       ??? ???  ...    0.18000    0.020000      0.9000\n",
              "190  190       584      ??? ????  ...    0.48000    0.000000      0.7100\n",
              "\n",
              "[191 rows x 15 columns]>"
            ]
          },
          "metadata": {},
          "execution_count": 13
        }
      ]
    },
    {
      "cell_type": "code",
      "metadata": {
        "id": "tII5SmBAapN5"
      },
      "source": [
        "from sklearn.preprocessing import StandardScaler\n",
        "X = data[['Population','PopDensity','AgingRatio','ServicesHi','HealthServ','Landuse','Commercial','RoadDensit','GreenAreas','Open_spave']]\n",
        "y = data['CORONA__Ca']\n",
        "X_train, X_test, y_train, y_test = train_test_split(X,y,test_size=0.2, random_state=10) \n",
        "\n",
        "#x = pd.DataFrame(x)"
      ],
      "execution_count": 4,
      "outputs": []
    },
    {
      "cell_type": "code",
      "metadata": {
        "colab": {
          "base_uri": "https://localhost:8080/",
          "height": 206
        },
        "id": "283atnHfxqgY",
        "outputId": "192ba889-8aed-42b3-fdce-a6250eea8a7a"
      },
      "source": [
        "from sklearn.decomposition import PCA\n",
        "\n",
        "pca = PCA(n_components=3)\n",
        "\n",
        "principalComponents = pca.fit_transform(X_train)\n",
        "\n",
        "principalDf = pd.DataFrame(data = principalComponents\n",
        "             , columns = ['principal component 1', 'principal component 2','principal component 3'])\n",
        "\n",
        "principalComponents = pd.DataFrame(principalComponents)#\n",
        "principalComponents.head()\n",
        "\n",
        "#x_pca = pca.fit_transform(x)\n",
        "#x_pca = pd.DataFrame(x_pca)\n",
        "#x_pca.head()"
      ],
      "execution_count": 5,
      "outputs": [
        {
          "output_type": "execute_result",
          "data": {
            "text/html": [
              "<div>\n",
              "<style scoped>\n",
              "    .dataframe tbody tr th:only-of-type {\n",
              "        vertical-align: middle;\n",
              "    }\n",
              "\n",
              "    .dataframe tbody tr th {\n",
              "        vertical-align: top;\n",
              "    }\n",
              "\n",
              "    .dataframe thead th {\n",
              "        text-align: right;\n",
              "    }\n",
              "</style>\n",
              "<table border=\"1\" class=\"dataframe\">\n",
              "  <thead>\n",
              "    <tr style=\"text-align: right;\">\n",
              "      <th></th>\n",
              "      <th>0</th>\n",
              "      <th>1</th>\n",
              "      <th>2</th>\n",
              "    </tr>\n",
              "  </thead>\n",
              "  <tbody>\n",
              "    <tr>\n",
              "      <th>0</th>\n",
              "      <td>-5705.137255</td>\n",
              "      <td>-43.094877</td>\n",
              "      <td>0.472017</td>\n",
              "    </tr>\n",
              "    <tr>\n",
              "      <th>1</th>\n",
              "      <td>9176.808543</td>\n",
              "      <td>-7.667394</td>\n",
              "      <td>-20.917780</td>\n",
              "    </tr>\n",
              "    <tr>\n",
              "      <th>2</th>\n",
              "      <td>3217.850324</td>\n",
              "      <td>-25.194410</td>\n",
              "      <td>-2.355285</td>\n",
              "    </tr>\n",
              "    <tr>\n",
              "      <th>3</th>\n",
              "      <td>6494.851957</td>\n",
              "      <td>-18.606996</td>\n",
              "      <td>0.934261</td>\n",
              "    </tr>\n",
              "    <tr>\n",
              "      <th>4</th>\n",
              "      <td>-1826.151183</td>\n",
              "      <td>-30.615117</td>\n",
              "      <td>-1.102480</td>\n",
              "    </tr>\n",
              "  </tbody>\n",
              "</table>\n",
              "</div>"
            ],
            "text/plain": [
              "             0          1          2\n",
              "0 -5705.137255 -43.094877   0.472017\n",
              "1  9176.808543  -7.667394 -20.917780\n",
              "2  3217.850324 -25.194410  -2.355285\n",
              "3  6494.851957 -18.606996   0.934261\n",
              "4 -1826.151183 -30.615117  -1.102480"
            ]
          },
          "metadata": {},
          "execution_count": 5
        }
      ]
    },
    {
      "cell_type": "code",
      "metadata": {
        "colab": {
          "base_uri": "https://localhost:8080/",
          "height": 206
        },
        "id": "iOxiPzq4VyFi",
        "outputId": "d81967b2-1101-4977-955e-53030f9012a8"
      },
      "source": [
        "finalDf = pd.concat([principalDf,y_train], axis = 1)\n",
        "finalDf = pd.DataFrame(finalDf)#\n",
        "finalDf.head()#"
      ],
      "execution_count": 6,
      "outputs": [
        {
          "output_type": "execute_result",
          "data": {
            "text/html": [
              "<div>\n",
              "<style scoped>\n",
              "    .dataframe tbody tr th:only-of-type {\n",
              "        vertical-align: middle;\n",
              "    }\n",
              "\n",
              "    .dataframe tbody tr th {\n",
              "        vertical-align: top;\n",
              "    }\n",
              "\n",
              "    .dataframe thead th {\n",
              "        text-align: right;\n",
              "    }\n",
              "</style>\n",
              "<table border=\"1\" class=\"dataframe\">\n",
              "  <thead>\n",
              "    <tr style=\"text-align: right;\">\n",
              "      <th></th>\n",
              "      <th>principal component 1</th>\n",
              "      <th>principal component 2</th>\n",
              "      <th>principal component 3</th>\n",
              "      <th>CORONA__Ca</th>\n",
              "    </tr>\n",
              "  </thead>\n",
              "  <tbody>\n",
              "    <tr>\n",
              "      <th>0</th>\n",
              "      <td>-5705.137255</td>\n",
              "      <td>-43.094877</td>\n",
              "      <td>0.472017</td>\n",
              "      <td>7299.0</td>\n",
              "    </tr>\n",
              "    <tr>\n",
              "      <th>1</th>\n",
              "      <td>9176.808543</td>\n",
              "      <td>-7.667394</td>\n",
              "      <td>-20.917780</td>\n",
              "      <td>NaN</td>\n",
              "    </tr>\n",
              "    <tr>\n",
              "      <th>2</th>\n",
              "      <td>3217.850324</td>\n",
              "      <td>-25.194410</td>\n",
              "      <td>-2.355285</td>\n",
              "      <td>NaN</td>\n",
              "    </tr>\n",
              "    <tr>\n",
              "      <th>3</th>\n",
              "      <td>6494.851957</td>\n",
              "      <td>-18.606996</td>\n",
              "      <td>0.934261</td>\n",
              "      <td>181.0</td>\n",
              "    </tr>\n",
              "    <tr>\n",
              "      <th>4</th>\n",
              "      <td>-1826.151183</td>\n",
              "      <td>-30.615117</td>\n",
              "      <td>-1.102480</td>\n",
              "      <td>418.0</td>\n",
              "    </tr>\n",
              "  </tbody>\n",
              "</table>\n",
              "</div>"
            ],
            "text/plain": [
              "   principal component 1  ...  CORONA__Ca\n",
              "0           -5705.137255  ...      7299.0\n",
              "1            9176.808543  ...         NaN\n",
              "2            3217.850324  ...         NaN\n",
              "3            6494.851957  ...       181.0\n",
              "4           -1826.151183  ...       418.0\n",
              "\n",
              "[5 rows x 4 columns]"
            ]
          },
          "metadata": {},
          "execution_count": 6
        }
      ]
    },
    {
      "cell_type": "code",
      "metadata": {
        "colab": {
          "base_uri": "https://localhost:8080/",
          "height": 254
        },
        "id": "bnSJZqOE7Bqb",
        "outputId": "ac1af419-87f8-4964-9555-4144473bf1dd"
      },
      "source": [
        "ax = plt.axes(projection='3d')\n",
        "\n",
        "# Data for three-dimensional scattered points\n",
        "xdata = finalDf['principal component 1']\n",
        "ydata = finalDf['principal component 2']\n",
        "zdata = finalDf['principal component 3']\n",
        "#ax.scatter3D(xdata, ydata, zdata)\n",
        "scatter_plot = ax.scatter3D(xdata, ydata, zdata,c=finalDf['CORONA__Ca'])\n",
        "plt.colorbar(scatter_plot)\n",
        "plt.show()"
      ],
      "execution_count": 7,
      "outputs": [
        {
          "output_type": "display_data",
          "data": {
            "image/png": "[encoded data removed]",
            "text/plain": [
              "<Figure size 432x288 with 2 Axes>"
            ]
          },
          "metadata": {
            "needs_background": "light"
          }
        }
      ]
    },
    {
      "cell_type": "code",
      "metadata": {
        "colab": {
          "base_uri": "https://localhost:8080/"
        },
        "id": "D3iVzSjCkRrf",
        "outputId": "57c3a870-2bc2-4d2b-e143-ecd1f79ab0f2"
      },
      "source": [
        "from sklearn.linear_model import LinearRegression\n",
        "clf = LinearRegression()\n",
        "clf.fit(X_train, y_train)"
      ],
      "execution_count": 8,
      "outputs": [
        {
          "output_type": "execute_result",
          "data": {
            "text/plain": [
              "LinearRegression()"
            ]
          },
          "metadata": {},
          "execution_count": 8
        }
      ]
    },
    {
      "cell_type": "code",
      "metadata": {
        "id": "J0G2PscIosLT"
      },
      "source": [
        "#train_f1 = []\n",
        "#test_f1 = []\n",
        "#from sklearn.neighbors import KNeighborsClassifier\n",
        "#knn = KNeighborsClassifier()\n",
        "#knn.fit(X_train, y_train)\n",
        "#y_pred_train = knn.predict(X_train)\n",
        "#y_pred_test = knn.predict(X_test)\n",
        "#train_f1.append(f1_score(y_train, y_pred_train))\n",
        "#test_f1.append(f1_score(y_test, y_pred_test))\n"
      ],
      "execution_count": 113,
      "outputs": []
    },
    {
      "cell_type": "code",
      "metadata": {
        "id": "qz_Mr9FOkfjl"
      },
      "source": [
        "X_test"
      ],
      "execution_count": null,
      "outputs": []
    },
    {
      "cell_type": "code",
      "metadata": {
        "id": "cukNKMFikeOm"
      },
      "source": [
        "clf.predict(X_test)"
      ],
      "execution_count": null,
      "outputs": []
    },
    {
      "cell_type": "code",
      "metadata": {
        "id": "pLd7v5jWk9Yj"
      },
      "source": [
        "y_test"
      ],
      "execution_count": null,
      "outputs": []
    },
    {
      "cell_type": "code",
      "metadata": {
        "colab": {
          "base_uri": "https://localhost:8080/"
        },
        "id": "IDVgcv8Uk-CF",
        "outputId": "61052565-687b-42f8-a5e1-5b337f05d1e9"
      },
      "source": [
        "clf.score(X_test, y_test)"
      ],
      "execution_count": 10,
      "outputs": [
        {
          "output_type": "execute_result",
          "data": {
            "text/plain": [
              "0.584225626010759"
            ]
          },
          "metadata": {},
          "execution_count": 10
        }
      ]
    },
    {
      "cell_type": "code",
      "metadata": {
        "id": "EmT5tBC4usi-"
      },
      "source": [
        "#####################################PART_2###########################################################"
      ],
      "execution_count": null,
      "outputs": []
    },
    {
      "cell_type": "code",
      "metadata": {
        "colab": {
          "base_uri": "https://localhost:8080/",
          "height": 295
        },
        "id": "fyKlS-s1TDKY",
        "outputId": "6a7143c6-0e5a-4cd8-c0d5-afde2e6ffc8f"
      },
      "source": [
        "#missing__NAN\n",
        "data.dropna(inplace = True)\n",
        "data.head()"
      ],
      "execution_count": 11,
      "outputs": [
        {
          "output_type": "execute_result",
          "data": {
            "text/html": [
              "<div>\n",
              "<style scoped>\n",
              "    .dataframe tbody tr th:only-of-type {\n",
              "        vertical-align: middle;\n",
              "    }\n",
              "\n",
              "    .dataframe tbody tr th {\n",
              "        vertical-align: top;\n",
              "    }\n",
              "\n",
              "    .dataframe thead th {\n",
              "        text-align: right;\n",
              "    }\n",
              "</style>\n",
              "<table border=\"1\" class=\"dataframe\">\n",
              "  <thead>\n",
              "    <tr style=\"text-align: right;\">\n",
              "      <th></th>\n",
              "      <th>FID</th>\n",
              "      <th>OBJECTID</th>\n",
              "      <th>NAMEAR</th>\n",
              "      <th>NAMEEN</th>\n",
              "      <th>CORONA__Ca</th>\n",
              "      <th>Population</th>\n",
              "      <th>PopDensity</th>\n",
              "      <th>AgingRatio</th>\n",
              "      <th>ServicesHi</th>\n",
              "      <th>HealthServ</th>\n",
              "      <th>Landuse</th>\n",
              "      <th>Commercial</th>\n",
              "      <th>RoadDensit</th>\n",
              "      <th>GreenAreas</th>\n",
              "      <th>Open_spave</th>\n",
              "    </tr>\n",
              "  </thead>\n",
              "  <tbody>\n",
              "    <tr>\n",
              "      <th>0</th>\n",
              "      <td>0</td>\n",
              "      <td>12</td>\n",
              "      <td>??????</td>\n",
              "      <td>Hebron (Al Khalil)</td>\n",
              "      <td>7299</td>\n",
              "      <td>15988</td>\n",
              "      <td>5.92</td>\n",
              "      <td>0.02000</td>\n",
              "      <td>5</td>\n",
              "      <td>100</td>\n",
              "      <td>2.7861</td>\n",
              "      <td>0.001750</td>\n",
              "      <td>0.04670</td>\n",
              "      <td>0.080100</td>\n",
              "      <td>0.8651</td>\n",
              "    </tr>\n",
              "    <tr>\n",
              "      <th>1</th>\n",
              "      <td>1</td>\n",
              "      <td>15</td>\n",
              "      <td>??? ?????</td>\n",
              "      <td>Deir Istiya</td>\n",
              "      <td>139</td>\n",
              "      <td>3930</td>\n",
              "      <td>4.20</td>\n",
              "      <td>0.04700</td>\n",
              "      <td>1</td>\n",
              "      <td>8</td>\n",
              "      <td>2.3300</td>\n",
              "      <td>0.004900</td>\n",
              "      <td>0.16400</td>\n",
              "      <td>0.000000</td>\n",
              "      <td>0.8800</td>\n",
              "    </tr>\n",
              "    <tr>\n",
              "      <th>2</th>\n",
              "      <td>2</td>\n",
              "      <td>21</td>\n",
              "      <td>????</td>\n",
              "      <td>Battir</td>\n",
              "      <td>63</td>\n",
              "      <td>4966</td>\n",
              "      <td>3.00</td>\n",
              "      <td>0.05000</td>\n",
              "      <td>1</td>\n",
              "      <td>12</td>\n",
              "      <td>2.8200</td>\n",
              "      <td>0.000000</td>\n",
              "      <td>0.03200</td>\n",
              "      <td>0.000000</td>\n",
              "      <td>0.9100</td>\n",
              "    </tr>\n",
              "    <tr>\n",
              "      <th>3</th>\n",
              "      <td>3</td>\n",
              "      <td>23</td>\n",
              "      <td>?????</td>\n",
              "      <td>Surif</td>\n",
              "      <td>181</td>\n",
              "      <td>18534</td>\n",
              "      <td>3.70</td>\n",
              "      <td>0.02579</td>\n",
              "      <td>1</td>\n",
              "      <td>30</td>\n",
              "      <td>2.6985</td>\n",
              "      <td>0.002074</td>\n",
              "      <td>0.10506</td>\n",
              "      <td>0.002709</td>\n",
              "      <td>0.9201</td>\n",
              "    </tr>\n",
              "    <tr>\n",
              "      <th>4</th>\n",
              "      <td>4</td>\n",
              "      <td>24</td>\n",
              "      <td>??? ???</td>\n",
              "      <td>Beit Ummar</td>\n",
              "      <td>418</td>\n",
              "      <td>18202</td>\n",
              "      <td>2.00</td>\n",
              "      <td>0.03300</td>\n",
              "      <td>2</td>\n",
              "      <td>34</td>\n",
              "      <td>2.3700</td>\n",
              "      <td>0.003000</td>\n",
              "      <td>0.07800</td>\n",
              "      <td>0.162000</td>\n",
              "      <td>0.8940</td>\n",
              "    </tr>\n",
              "  </tbody>\n",
              "</table>\n",
              "</div>"
            ],
            "text/plain": [
              "   FID  OBJECTID     NAMEAR  ... RoadDensit  GreenAreas  Open_spave\n",
              "0    0        12     ??????  ...    0.04670    0.080100      0.8651\n",
              "1    1        15  ??? ?????  ...    0.16400    0.000000      0.8800\n",
              "2    2        21       ????  ...    0.03200    0.000000      0.9100\n",
              "3    3        23      ?????  ...    0.10506    0.002709      0.9201\n",
              "4    4        24    ??? ???  ...    0.07800    0.162000      0.8940\n",
              "\n",
              "[5 rows x 15 columns]"
            ]
          },
          "metadata": {},
          "execution_count": 11
        }
      ]
    },
    {
      "cell_type": "code",
      "metadata": {
        "colab": {
          "base_uri": "https://localhost:8080/"
        },
        "id": "KIv3dhoqTwOp",
        "outputId": "b4a4c06f-c85c-492a-e6f2-75af7a8b0f93"
      },
      "source": [
        "data.count"
      ],
      "execution_count": 12,
      "outputs": [
        {
          "output_type": "execute_result",
          "data": {
            "text/plain": [
              "<bound method DataFrame.count of      FID  OBJECTID        NAMEAR  ... RoadDensit  GreenAreas  Open_spave\n",
              "0      0        12        ??????  ...    0.04670    0.080100      0.8651\n",
              "1      1        15     ??? ?????  ...    0.16400    0.000000      0.8800\n",
              "2      2        21          ????  ...    0.03200    0.000000      0.9100\n",
              "3      3        23         ?????  ...    0.10506    0.002709      0.9201\n",
              "4      4        24       ??? ???  ...    0.07800    0.162000      0.8940\n",
              "..   ...       ...           ...  ...        ...         ...         ...\n",
              "186  186       578  ??? ??? ????  ...    0.00000    0.000000      0.8300\n",
              "187  187       579      ??? ????  ...    0.09500    0.000000      0.8300\n",
              "188  188       580        ??????  ...    0.13600    0.001200      0.9600\n",
              "189  189       581       ??? ???  ...    0.18000    0.020000      0.9000\n",
              "190  190       584      ??? ????  ...    0.48000    0.000000      0.7100\n",
              "\n",
              "[191 rows x 15 columns]>"
            ]
          },
          "metadata": {},
          "execution_count": 12
        }
      ]
    },
    {
      "cell_type": "code",
      "metadata": {
        "colab": {
          "base_uri": "https://localhost:8080/"
        },
        "id": "Tw0-uw2Z1cRp",
        "outputId": "f2f7bb62-f14e-402b-e982-c2e562bf392d"
      },
      "source": [
        "#clean\n",
        "(data[['Population','PopDensity','AgingRatio','ServicesHi','HealthServ','Landuse','Commercial','RoadDensit','GreenAreas','Open_spave']]==0).sum()"
      ],
      "execution_count": 14,
      "outputs": [
        {
          "output_type": "execute_result",
          "data": {
            "text/plain": [
              "Population     0\n",
              "PopDensity     2\n",
              "AgingRatio     1\n",
              "ServicesHi     5\n",
              "HealthServ    57\n",
              "Landuse        0\n",
              "Commercial    95\n",
              "RoadDensit     4\n",
              "GreenAreas    93\n",
              "Open_spave     0\n",
              "dtype: int64"
            ]
          },
          "metadata": {},
          "execution_count": 14
        }
      ]
    },
    {
      "cell_type": "code",
      "metadata": {
        "id": "PBZ3CN7mWIdM"
      },
      "source": [
        "#delete GreenAreas Commercial coloum\n",
        "data.drop(['Commercial', 'GreenAreas'], inplace=True, axis=1)"
      ],
      "execution_count": null,
      "outputs": []
    },
    {
      "cell_type": "code",
      "metadata": {
        "colab": {
          "base_uri": "https://localhost:8080/"
        },
        "id": "IoQIgekrWwD2",
        "outputId": "54ee3dd2-c02b-4897-c898-28c7b3067387"
      },
      "source": [
        "((data['HealthServ']!=10) & (data['HealthServ']!=6) & (data['HealthServ']!=2)).sum()"
      ],
      "execution_count": 22,
      "outputs": [
        {
          "output_type": "execute_result",
          "data": {
            "text/plain": [
              "110"
            ]
          },
          "metadata": {},
          "execution_count": 22
        }
      ]
    },
    {
      "cell_type": "code",
      "metadata": {
        "id": "bwAzcMx9Xu1l"
      },
      "source": [
        "#delete HealthServ coloum\n",
        "data.drop(['HealthServ'], inplace=True, axis=1)"
      ],
      "execution_count": 25,
      "outputs": []
    },
    {
      "cell_type": "code",
      "metadata": {
        "colab": {
          "base_uri": "https://localhost:8080/"
        },
        "id": "M6U7_eGkYG8t",
        "outputId": "4f93b939-4b0e-4516-9216-34754957220b"
      },
      "source": [
        "((data['ServicesHi']<1) | (data['ServicesHi']>5)).sum()"
      ],
      "execution_count": 30,
      "outputs": [
        {
          "output_type": "execute_result",
          "data": {
            "text/plain": [
              "5"
            ]
          },
          "metadata": {},
          "execution_count": 30
        }
      ]
    },
    {
      "cell_type": "code",
      "metadata": {
        "id": "cbfF1tVcddWE"
      },
      "source": [
        "#delete ServicesHi rows\n",
        "index_names = data[ (data['ServicesHi']<1) | (data['ServicesHi']>5)].FID\n",
        "data.drop(index_names, inplace = True)"
      ],
      "execution_count": 32,
      "outputs": []
    },
    {
      "cell_type": "code",
      "metadata": {
        "id": "ukyb-KPxePLJ"
      },
      "source": [
        "#delete PopDensity rows \n",
        "index_names2 = data[(data['PopDensity']==0)].FID\n",
        "data.drop(index_names2, inplace = True)"
      ],
      "execution_count": 44,
      "outputs": []
    },
    {
      "cell_type": "code",
      "metadata": {
        "id": "dDi236whf2Vp"
      },
      "source": [
        "#delete AgingRatio rows\n",
        "index_names2 = data[(data['AgingRatio']==0)].FID\n",
        "data.drop(index_names2, inplace = True)\n",
        "#delete RoadDensit rows\n",
        "index_names2 = data[(data['RoadDensit']==0)].FID\n",
        "data.drop(index_names2, inplace = True)"
      ],
      "execution_count": 43,
      "outputs": []
    },
    {
      "cell_type": "code",
      "metadata": {
        "colab": {
          "base_uri": "https://localhost:8080/",
          "height": 206
        },
        "id": "UPzsKiV-Wkd7",
        "outputId": "a11f045e-bc0d-47dc-9c21-92c807e46090"
      },
      "source": [
        "data.head()"
      ],
      "execution_count": 45,
      "outputs": [
        {
          "output_type": "execute_result",
          "data": {
            "text/html": [
              "<div>\n",
              "<style scoped>\n",
              "    .dataframe tbody tr th:only-of-type {\n",
              "        vertical-align: middle;\n",
              "    }\n",
              "\n",
              "    .dataframe tbody tr th {\n",
              "        vertical-align: top;\n",
              "    }\n",
              "\n",
              "    .dataframe thead th {\n",
              "        text-align: right;\n",
              "    }\n",
              "</style>\n",
              "<table border=\"1\" class=\"dataframe\">\n",
              "  <thead>\n",
              "    <tr style=\"text-align: right;\">\n",
              "      <th></th>\n",
              "      <th>FID</th>\n",
              "      <th>OBJECTID</th>\n",
              "      <th>NAMEAR</th>\n",
              "      <th>NAMEEN</th>\n",
              "      <th>CORONA__Ca</th>\n",
              "      <th>Population</th>\n",
              "      <th>PopDensity</th>\n",
              "      <th>AgingRatio</th>\n",
              "      <th>ServicesHi</th>\n",
              "      <th>Landuse</th>\n",
              "      <th>RoadDensit</th>\n",
              "      <th>Open_spave</th>\n",
              "    </tr>\n",
              "  </thead>\n",
              "  <tbody>\n",
              "    <tr>\n",
              "      <th>0</th>\n",
              "      <td>0</td>\n",
              "      <td>12</td>\n",
              "      <td>??????</td>\n",
              "      <td>Hebron (Al Khalil)</td>\n",
              "      <td>7299</td>\n",
              "      <td>15988</td>\n",
              "      <td>5.92</td>\n",
              "      <td>0.02000</td>\n",
              "      <td>5</td>\n",
              "      <td>2.7861</td>\n",
              "      <td>0.04670</td>\n",
              "      <td>0.8651</td>\n",
              "    </tr>\n",
              "    <tr>\n",
              "      <th>1</th>\n",
              "      <td>1</td>\n",
              "      <td>15</td>\n",
              "      <td>??? ?????</td>\n",
              "      <td>Deir Istiya</td>\n",
              "      <td>139</td>\n",
              "      <td>3930</td>\n",
              "      <td>4.20</td>\n",
              "      <td>0.04700</td>\n",
              "      <td>1</td>\n",
              "      <td>2.3300</td>\n",
              "      <td>0.16400</td>\n",
              "      <td>0.8800</td>\n",
              "    </tr>\n",
              "    <tr>\n",
              "      <th>2</th>\n",
              "      <td>2</td>\n",
              "      <td>21</td>\n",
              "      <td>????</td>\n",
              "      <td>Battir</td>\n",
              "      <td>63</td>\n",
              "      <td>4966</td>\n",
              "      <td>3.00</td>\n",
              "      <td>0.05000</td>\n",
              "      <td>1</td>\n",
              "      <td>2.8200</td>\n",
              "      <td>0.03200</td>\n",
              "      <td>0.9100</td>\n",
              "    </tr>\n",
              "    <tr>\n",
              "      <th>3</th>\n",
              "      <td>3</td>\n",
              "      <td>23</td>\n",
              "      <td>?????</td>\n",
              "      <td>Surif</td>\n",
              "      <td>181</td>\n",
              "      <td>18534</td>\n",
              "      <td>3.70</td>\n",
              "      <td>0.02579</td>\n",
              "      <td>1</td>\n",
              "      <td>2.6985</td>\n",
              "      <td>0.10506</td>\n",
              "      <td>0.9201</td>\n",
              "    </tr>\n",
              "    <tr>\n",
              "      <th>4</th>\n",
              "      <td>4</td>\n",
              "      <td>24</td>\n",
              "      <td>??? ???</td>\n",
              "      <td>Beit Ummar</td>\n",
              "      <td>418</td>\n",
              "      <td>18202</td>\n",
              "      <td>2.00</td>\n",
              "      <td>0.03300</td>\n",
              "      <td>2</td>\n",
              "      <td>2.3700</td>\n",
              "      <td>0.07800</td>\n",
              "      <td>0.8940</td>\n",
              "    </tr>\n",
              "  </tbody>\n",
              "</table>\n",
              "</div>"
            ],
            "text/plain": [
              "   FID  OBJECTID     NAMEAR  ... Landuse  RoadDensit  Open_spave\n",
              "0    0        12     ??????  ...  2.7861     0.04670      0.8651\n",
              "1    1        15  ??? ?????  ...  2.3300     0.16400      0.8800\n",
              "2    2        21       ????  ...  2.8200     0.03200      0.9100\n",
              "3    3        23      ?????  ...  2.6985     0.10506      0.9201\n",
              "4    4        24    ??? ???  ...  2.3700     0.07800      0.8940\n",
              "\n",
              "[5 rows x 12 columns]"
            ]
          },
          "metadata": {},
          "execution_count": 45
        }
      ]
    },
    {
      "cell_type": "code",
      "metadata": {
        "id": "zQhKPX1QeAfT"
      },
      "source": [
        "data.count"
      ],
      "execution_count": null,
      "outputs": []
    },
    {
      "cell_type": "code",
      "metadata": {
        "colab": {
          "base_uri": "https://localhost:8080/",
          "height": 331
        },
        "id": "ihPxMzpUgq9A",
        "outputId": "6dacb1ea-0da9-4bdf-8405-41ee3ef9ac33"
      },
      "source": [
        "#redundant data\n",
        "x=data[['FID','OBJECTID','Population','PopDensity','AgingRatio','Landuse','RoadDensit','Open_spave','CORONA__Ca']]\n",
        "x.corr()"
      ],
      "execution_count": 54,
      "outputs": [
        {
          "output_type": "execute_result",
          "data": {
            "text/html": [
              "<div>\n",
              "<style scoped>\n",
              "    .dataframe tbody tr th:only-of-type {\n",
              "        vertical-align: middle;\n",
              "    }\n",
              "\n",
              "    .dataframe tbody tr th {\n",
              "        vertical-align: top;\n",
              "    }\n",
              "\n",
              "    .dataframe thead th {\n",
              "        text-align: right;\n",
              "    }\n",
              "</style>\n",
              "<table border=\"1\" class=\"dataframe\">\n",
              "  <thead>\n",
              "    <tr style=\"text-align: right;\">\n",
              "      <th></th>\n",
              "      <th>FID</th>\n",
              "      <th>OBJECTID</th>\n",
              "      <th>Population</th>\n",
              "      <th>PopDensity</th>\n",
              "      <th>AgingRatio</th>\n",
              "      <th>Landuse</th>\n",
              "      <th>RoadDensit</th>\n",
              "      <th>Open_spave</th>\n",
              "      <th>CORONA__Ca</th>\n",
              "    </tr>\n",
              "  </thead>\n",
              "  <tbody>\n",
              "    <tr>\n",
              "      <th>FID</th>\n",
              "      <td>1.000000</td>\n",
              "      <td>0.992826</td>\n",
              "      <td>-0.087628</td>\n",
              "      <td>0.075208</td>\n",
              "      <td>0.164158</td>\n",
              "      <td>-0.042473</td>\n",
              "      <td>0.098564</td>\n",
              "      <td>-0.046612</td>\n",
              "      <td>-0.057808</td>\n",
              "    </tr>\n",
              "    <tr>\n",
              "      <th>OBJECTID</th>\n",
              "      <td>0.992826</td>\n",
              "      <td>1.000000</td>\n",
              "      <td>-0.088883</td>\n",
              "      <td>0.079843</td>\n",
              "      <td>0.166660</td>\n",
              "      <td>-0.034169</td>\n",
              "      <td>0.097090</td>\n",
              "      <td>-0.041356</td>\n",
              "      <td>-0.067028</td>\n",
              "    </tr>\n",
              "    <tr>\n",
              "      <th>Population</th>\n",
              "      <td>-0.087628</td>\n",
              "      <td>-0.088883</td>\n",
              "      <td>1.000000</td>\n",
              "      <td>-0.024331</td>\n",
              "      <td>-0.063824</td>\n",
              "      <td>-0.007074</td>\n",
              "      <td>0.083307</td>\n",
              "      <td>0.019589</td>\n",
              "      <td>0.447252</td>\n",
              "    </tr>\n",
              "    <tr>\n",
              "      <th>PopDensity</th>\n",
              "      <td>0.075208</td>\n",
              "      <td>0.079843</td>\n",
              "      <td>-0.024331</td>\n",
              "      <td>1.000000</td>\n",
              "      <td>-0.009195</td>\n",
              "      <td>-0.227793</td>\n",
              "      <td>-0.014120</td>\n",
              "      <td>0.012567</td>\n",
              "      <td>-0.019466</td>\n",
              "    </tr>\n",
              "    <tr>\n",
              "      <th>AgingRatio</th>\n",
              "      <td>0.164158</td>\n",
              "      <td>0.166660</td>\n",
              "      <td>-0.063824</td>\n",
              "      <td>-0.009195</td>\n",
              "      <td>1.000000</td>\n",
              "      <td>0.041551</td>\n",
              "      <td>0.065163</td>\n",
              "      <td>-0.008162</td>\n",
              "      <td>-0.023872</td>\n",
              "    </tr>\n",
              "    <tr>\n",
              "      <th>Landuse</th>\n",
              "      <td>-0.042473</td>\n",
              "      <td>-0.034169</td>\n",
              "      <td>-0.007074</td>\n",
              "      <td>-0.227793</td>\n",
              "      <td>0.041551</td>\n",
              "      <td>1.000000</td>\n",
              "      <td>-0.074449</td>\n",
              "      <td>-0.049969</td>\n",
              "      <td>-0.040433</td>\n",
              "    </tr>\n",
              "    <tr>\n",
              "      <th>RoadDensit</th>\n",
              "      <td>0.098564</td>\n",
              "      <td>0.097090</td>\n",
              "      <td>0.083307</td>\n",
              "      <td>-0.014120</td>\n",
              "      <td>0.065163</td>\n",
              "      <td>-0.074449</td>\n",
              "      <td>1.000000</td>\n",
              "      <td>-0.027814</td>\n",
              "      <td>0.114060</td>\n",
              "    </tr>\n",
              "    <tr>\n",
              "      <th>Open_spave</th>\n",
              "      <td>-0.046612</td>\n",
              "      <td>-0.041356</td>\n",
              "      <td>0.019589</td>\n",
              "      <td>0.012567</td>\n",
              "      <td>-0.008162</td>\n",
              "      <td>-0.049969</td>\n",
              "      <td>-0.027814</td>\n",
              "      <td>1.000000</td>\n",
              "      <td>-0.020084</td>\n",
              "    </tr>\n",
              "    <tr>\n",
              "      <th>CORONA__Ca</th>\n",
              "      <td>-0.057808</td>\n",
              "      <td>-0.067028</td>\n",
              "      <td>0.447252</td>\n",
              "      <td>-0.019466</td>\n",
              "      <td>-0.023872</td>\n",
              "      <td>-0.040433</td>\n",
              "      <td>0.114060</td>\n",
              "      <td>-0.020084</td>\n",
              "      <td>1.000000</td>\n",
              "    </tr>\n",
              "  </tbody>\n",
              "</table>\n",
              "</div>"
            ],
            "text/plain": [
              "                 FID  OBJECTID  Population  ...  RoadDensit  Open_spave  CORONA__Ca\n",
              "FID         1.000000  0.992826   -0.087628  ...    0.098564   -0.046612   -0.057808\n",
              "OBJECTID    0.992826  1.000000   -0.088883  ...    0.097090   -0.041356   -0.067028\n",
              "Population -0.087628 -0.088883    1.000000  ...    0.083307    0.019589    0.447252\n",
              "PopDensity  0.075208  0.079843   -0.024331  ...   -0.014120    0.012567   -0.019466\n",
              "AgingRatio  0.164158  0.166660   -0.063824  ...    0.065163   -0.008162   -0.023872\n",
              "Landuse    -0.042473 -0.034169   -0.007074  ...   -0.074449   -0.049969   -0.040433\n",
              "RoadDensit  0.098564  0.097090    0.083307  ...    1.000000   -0.027814    0.114060\n",
              "Open_spave -0.046612 -0.041356    0.019589  ...   -0.027814    1.000000   -0.020084\n",
              "CORONA__Ca -0.057808 -0.067028    0.447252  ...    0.114060   -0.020084    1.000000\n",
              "\n",
              "[9 rows x 9 columns]"
            ]
          },
          "metadata": {},
          "execution_count": 54
        }
      ]
    },
    {
      "cell_type": "code",
      "metadata": {
        "id": "B2PBvBhJSNZ1"
      },
      "source": [
        "#redundant\n",
        "data.drop(['OBJECTID'], inplace=True, axis=1)"
      ],
      "execution_count": 55,
      "outputs": []
    },
    {
      "cell_type": "code",
      "metadata": {
        "id": "zN88uzp5o31z"
      },
      "source": [
        "#irrelevant featurs\n",
        "data.drop(['NAMEAR','NAMEEN'], inplace=True, axis=1)"
      ],
      "execution_count": 56,
      "outputs": []
    },
    {
      "cell_type": "code",
      "metadata": {
        "colab": {
          "base_uri": "https://localhost:8080/",
          "height": 206
        },
        "id": "qlzeLA9DqEXP",
        "outputId": "33e72bd7-671f-4e6b-bcee-2ec8fe69379f"
      },
      "source": [
        "# ---- Using The win - max feature scaling \n",
        "from sklearn import preprocessing \n",
        "scaler = preprocessing.MinMaxScaler(feature_range=(0,1))\n",
        "names= data.columns\n",
        "d = scaler.fit_transform(data)\n",
        "data =pd.DataFrame(d,columns=names)\n",
        "data.head()"
      ],
      "execution_count": 60,
      "outputs": [
        {
          "output_type": "execute_result",
          "data": {
            "text/html": [
              "<div>\n",
              "<style scoped>\n",
              "    .dataframe tbody tr th:only-of-type {\n",
              "        vertical-align: middle;\n",
              "    }\n",
              "\n",
              "    .dataframe tbody tr th {\n",
              "        vertical-align: top;\n",
              "    }\n",
              "\n",
              "    .dataframe thead th {\n",
              "        text-align: right;\n",
              "    }\n",
              "</style>\n",
              "<table border=\"1\" class=\"dataframe\">\n",
              "  <thead>\n",
              "    <tr style=\"text-align: right;\">\n",
              "      <th></th>\n",
              "      <th>FID</th>\n",
              "      <th>CORONA__Ca</th>\n",
              "      <th>Population</th>\n",
              "      <th>PopDensity</th>\n",
              "      <th>AgingRatio</th>\n",
              "      <th>ServicesHi</th>\n",
              "      <th>Landuse</th>\n",
              "      <th>RoadDensit</th>\n",
              "      <th>Open_spave</th>\n",
              "    </tr>\n",
              "  </thead>\n",
              "  <tbody>\n",
              "    <tr>\n",
              "      <th>0</th>\n",
              "      <td>0.000000</td>\n",
              "      <td>1.000000</td>\n",
              "      <td>0.071018</td>\n",
              "      <td>0.001213</td>\n",
              "      <td>0.038462</td>\n",
              "      <td>1.00</td>\n",
              "      <td>0.556578</td>\n",
              "      <td>0.093456</td>\n",
              "      <td>0.685112</td>\n",
              "    </tr>\n",
              "    <tr>\n",
              "      <th>1</th>\n",
              "      <td>0.005263</td>\n",
              "      <td>0.019044</td>\n",
              "      <td>0.016415</td>\n",
              "      <td>0.000861</td>\n",
              "      <td>0.142308</td>\n",
              "      <td>0.00</td>\n",
              "      <td>0.463115</td>\n",
              "      <td>0.333333</td>\n",
              "      <td>0.722084</td>\n",
              "    </tr>\n",
              "    <tr>\n",
              "      <th>2</th>\n",
              "      <td>0.010526</td>\n",
              "      <td>0.008631</td>\n",
              "      <td>0.021107</td>\n",
              "      <td>0.000615</td>\n",
              "      <td>0.153846</td>\n",
              "      <td>0.00</td>\n",
              "      <td>0.563525</td>\n",
              "      <td>0.063395</td>\n",
              "      <td>0.796526</td>\n",
              "    </tr>\n",
              "    <tr>\n",
              "      <th>3</th>\n",
              "      <td>0.015789</td>\n",
              "      <td>0.024798</td>\n",
              "      <td>0.082547</td>\n",
              "      <td>0.000758</td>\n",
              "      <td>0.060731</td>\n",
              "      <td>0.00</td>\n",
              "      <td>0.538627</td>\n",
              "      <td>0.212802</td>\n",
              "      <td>0.821588</td>\n",
              "    </tr>\n",
              "    <tr>\n",
              "      <th>4</th>\n",
              "      <td>0.021053</td>\n",
              "      <td>0.057268</td>\n",
              "      <td>0.081044</td>\n",
              "      <td>0.000410</td>\n",
              "      <td>0.088462</td>\n",
              "      <td>0.25</td>\n",
              "      <td>0.471311</td>\n",
              "      <td>0.157464</td>\n",
              "      <td>0.756824</td>\n",
              "    </tr>\n",
              "  </tbody>\n",
              "</table>\n",
              "</div>"
            ],
            "text/plain": [
              "        FID  CORONA__Ca  Population  ...   Landuse  RoadDensit  Open_spave\n",
              "0  0.000000    1.000000    0.071018  ...  0.556578    0.093456    0.685112\n",
              "1  0.005263    0.019044    0.016415  ...  0.463115    0.333333    0.722084\n",
              "2  0.010526    0.008631    0.021107  ...  0.563525    0.063395    0.796526\n",
              "3  0.015789    0.024798    0.082547  ...  0.538627    0.212802    0.821588\n",
              "4  0.021053    0.057268    0.081044  ...  0.471311    0.157464    0.756824\n",
              "\n",
              "[5 rows x 9 columns]"
            ]
          },
          "metadata": {},
          "execution_count": 60
        }
      ]
    },
    {
      "cell_type": "code",
      "metadata": {
        "id": "7vYXHa7uw0kh"
      },
      "source": [
        "#scaler = StandardScaler()\n",
        "#X_train = scaler.fit_transform(X_train)\n",
        "#X_test = scaler.transform(X_test)"
      ],
      "execution_count": 148,
      "outputs": []
    },
    {
      "cell_type": "code",
      "metadata": {
        "id": "CQkp9Jvpk87a"
      },
      "source": [
        "sns.scatterplot( data['Population'],data['CORONA__Ca'],data['PopDensity'],data['AgingRatio'],data['ServicesHi'],data['HealthServ'])"
      ],
      "execution_count": null,
      "outputs": []
    },
    {
      "cell_type": "code",
      "metadata": {
        "id": "vv3_jvSJl9db"
      },
      "source": [
        "sns.scatterplot(data['CORONA__Ca'],data['Population'])"
      ],
      "execution_count": null,
      "outputs": []
    },
    {
      "cell_type": "code",
      "metadata": {
        "id": "jJ97-jz9mIfs"
      },
      "source": [
        "sns.scatterplot(data['CORONA__Ca'],data['PopDensity'])"
      ],
      "execution_count": null,
      "outputs": []
    },
    {
      "cell_type": "code",
      "metadata": {
        "id": "7tgjcEsxmimS"
      },
      "source": [
        "sns.scatterplot(data['CORONA__Ca'],data['AgingRatio'])"
      ],
      "execution_count": null,
      "outputs": []
    },
    {
      "cell_type": "code",
      "metadata": {
        "id": "-a_U61zrmpe_"
      },
      "source": [
        "sns.scatterplot(data['CORONA__Ca'],data['ServicesHi'])"
      ],
      "execution_count": null,
      "outputs": []
    },
    {
      "cell_type": "code",
      "metadata": {
        "id": "9J7cjQiGmxJa"
      },
      "source": [
        "sns.scatterplot(data['CORONA__Ca'],data['HealthServ'])"
      ],
      "execution_count": null,
      "outputs": []
    },
    {
      "cell_type": "code",
      "metadata": {
        "colab": {
          "base_uri": "https://localhost:8080/",
          "height": 247
        },
        "id": "-kkja8gn24jK",
        "outputId": "6f4b0b37-2c1f-4997-ca6b-9c76213cfcd3"
      },
      "source": [
        "# Code source: Gaël Varoquaux\n",
        "# License: BSD 3 clause\n",
        "\n",
        "import numpy as np\n",
        "import matplotlib.pyplot as plt\n",
        "from mpl_toolkits.mplot3d import Axes3D\n",
        "\n",
        "\n",
        "from sklearn import decomposition\n",
        "from sklearn import datasets\n",
        "\n",
        "np.random.seed(5)\n",
        "\n",
        "iris = datasets.load_iris()\n",
        "X = iris.data\n",
        "y = iris.target\n",
        "\n",
        "fig = plt.figure(1, figsize=(4, 3))\n",
        "plt.clf()\n",
        "ax = Axes3D(fig, rect=[0, 0, 0.95, 1], elev=48, azim=134)\n",
        "\n",
        "plt.cla()\n",
        "pca = decomposition.PCA(n_components=3)\n",
        "pca.fit(X)\n",
        "X = pca.transform(X)\n",
        "\n",
        "\n",
        "\n",
        "for name, label in [(\"Setosa\", 0), (\"Versicolour\", 1), (\"Virginica\", 2)]:\n",
        "    ax.text3D(\n",
        "        X[y == label, 0].mean(),\n",
        "        X[y == label, 1].mean() + 1.5,\n",
        "        X[y == label, 2].mean(),\n",
        "        name,\n",
        "        horizontalalignment=\"center\",\n",
        "        bbox=dict(alpha=0.5, edgecolor=\"w\", facecolor=\"w\"),\n",
        "    )\n",
        "# Reorder the labels to have colors matching the cluster results\n",
        "y = np.choose(y, [1, 2, 0]).astype(float)\n",
        "ax.scatter(X[:, 0], X[:, 1], X[:, 2], c=y, cmap=plt.cm.nipy_spectral, edgecolor=\"k\")\n",
        "\n",
        "ax.w_xaxis.set_ticklabels([])\n",
        "ax.w_yaxis.set_ticklabels([])\n",
        "ax.w_zaxis.set_ticklabels([])\n",
        "\n",
        "plt.show()"
      ],
      "execution_count": null,
      "outputs": [
        {
          "output_type": "display_data",
          "data": {
            "image/png": "[encoded data removed]",
            "text/plain": [
              "<Figure size 288x216 with 1 Axes>"
            ]
          },
          "metadata": {}
        }
      ]
    }
  ]
}